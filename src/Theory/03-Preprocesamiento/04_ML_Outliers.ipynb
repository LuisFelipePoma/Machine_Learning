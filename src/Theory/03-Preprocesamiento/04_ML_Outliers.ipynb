{
  "cells": [
    {
      "cell_type": "markdown",
      "source": [
        "### **CC57 - MACHINE LEARNING - PREPROCESAMIENTO DE DATOS**"
      ],
      "metadata": {
        "id": "WXMak2ZnF-Fd"
      }
    },
    {
      "cell_type": "markdown",
      "source": [
        "#### **Información del Conjunto de Datos**\n",
        "\n",
        "**Origen:** https://data.world/uci/liver-disorders\n",
        "\n",
        "**Descripción:** BUPA Medical Research Ltd. database donated by Richard S. Forsyth\n",
        "\n",
        "Las primeras 5 variables son todos análisis de sangre que se cree que son sensibles a los trastornos hepáticos que pueden surgir por el consumo excesivo de alcohol. Cada línea del archivo bupa.data constituye el registro de un único individuo masculino.\n",
        "Parece que bebidas>5 es una especie de selector en esta base de datos.\n",
        "\n",
        "El conjunto de datos contiene 345 observaciones en 7 caracteristicas.\n",
        "\n",
        "**Caracteristicas:**\n",
        "\n",
        "1. mcv mean corpuscular volume (V1 volumen corpuscular medio)\n",
        "2. alkphos alkaline phosphotase (V2 fosfotasa alcalina)\n",
        "3. sgpt alamine aminotransferase (V3 alamina aminotransferasa)\n",
        "4. sgot aspartate aminotransferase (V4 aspartato aminotransferasa)\n",
        "5. gammagt gamma-glutamyl transpeptidase (V5 gamma-glutamil transpeptidasa)\n",
        "6. drinks number of half-pint equivalents of alcoholic beverages drunk per day (V6 número de bebidas media de bebidas alcohólicas consumidas por día)\n",
        "7. selector field used to split data into two sets (V7 campo selector utilizado para dividir datos en dos conjuntos)"
      ],
      "metadata": {
        "id": "xSHJMuFEMGsU"
      }
    },
    {
      "cell_type": "markdown",
      "metadata": {
        "id": "hvrzQ15qF6O6"
      },
      "source": [
        "####  **Identificación y tratamiento de outliers**"
      ]
    },
    {
      "cell_type": "code",
      "execution_count": 41,
      "metadata": {
        "id": "gZXO0XIKF6O9"
      },
      "outputs": [],
      "source": [
        "import pandas as pd\n",
        "import matplotlib.pyplot as plt\n",
        "import seaborn as sns\n",
        "import numpy as np\n",
        "from scipy import stats"
      ]
    },
    {
      "cell_type": "code",
      "execution_count": 42,
      "metadata": {
        "id": "N_4fXKFOF6O-"
      },
      "outputs": [],
      "source": [
        "data = pd.read_csv('bupa.csv',sep=\";\")"
      ]
    },
    {
      "cell_type": "code",
      "execution_count": 43,
      "metadata": {
        "colab": {
          "base_uri": "https://localhost:8080/"
        },
        "id": "8Ns8pZEhF6O_",
        "outputId": "0d6258d6-7cda-43a4-d9c7-fb1bbec70d43"
      },
      "outputs": [
        {
          "output_type": "execute_result",
          "data": {
            "text/plain": [
              "(345, 7)"
            ]
          },
          "metadata": {},
          "execution_count": 43
        }
      ],
      "source": [
        "data.shape"
      ]
    },
    {
      "cell_type": "code",
      "execution_count": 44,
      "metadata": {
        "scrolled": true,
        "colab": {
          "base_uri": "https://localhost:8080/",
          "height": 206
        },
        "id": "NQmXS8E0F6O_",
        "outputId": "618b4e54-35d4-40f4-994d-9f3317e107ad"
      },
      "outputs": [
        {
          "output_type": "execute_result",
          "data": {
            "text/plain": [
              "   V1  V2  V3  V4  V5   V6  V7\n",
              "0  85  92  45  27  31  0.0   1\n",
              "1  85  64  59  32  23  0.0   2\n",
              "2  86  54  33  16  54  0.0   2\n",
              "3  91  78  34  24  36  0.0   2\n",
              "4  87  70  12  28  10  0.0   2"
            ],
            "text/html": [
              "\n",
              "  <div id=\"df-6798fa07-3f11-4846-8931-fc16b538df3a\" class=\"colab-df-container\">\n",
              "    <div>\n",
              "<style scoped>\n",
              "    .dataframe tbody tr th:only-of-type {\n",
              "        vertical-align: middle;\n",
              "    }\n",
              "\n",
              "    .dataframe tbody tr th {\n",
              "        vertical-align: top;\n",
              "    }\n",
              "\n",
              "    .dataframe thead th {\n",
              "        text-align: right;\n",
              "    }\n",
              "</style>\n",
              "<table border=\"1\" class=\"dataframe\">\n",
              "  <thead>\n",
              "    <tr style=\"text-align: right;\">\n",
              "      <th></th>\n",
              "      <th>V1</th>\n",
              "      <th>V2</th>\n",
              "      <th>V3</th>\n",
              "      <th>V4</th>\n",
              "      <th>V5</th>\n",
              "      <th>V6</th>\n",
              "      <th>V7</th>\n",
              "    </tr>\n",
              "  </thead>\n",
              "  <tbody>\n",
              "    <tr>\n",
              "      <th>0</th>\n",
              "      <td>85</td>\n",
              "      <td>92</td>\n",
              "      <td>45</td>\n",
              "      <td>27</td>\n",
              "      <td>31</td>\n",
              "      <td>0.0</td>\n",
              "      <td>1</td>\n",
              "    </tr>\n",
              "    <tr>\n",
              "      <th>1</th>\n",
              "      <td>85</td>\n",
              "      <td>64</td>\n",
              "      <td>59</td>\n",
              "      <td>32</td>\n",
              "      <td>23</td>\n",
              "      <td>0.0</td>\n",
              "      <td>2</td>\n",
              "    </tr>\n",
              "    <tr>\n",
              "      <th>2</th>\n",
              "      <td>86</td>\n",
              "      <td>54</td>\n",
              "      <td>33</td>\n",
              "      <td>16</td>\n",
              "      <td>54</td>\n",
              "      <td>0.0</td>\n",
              "      <td>2</td>\n",
              "    </tr>\n",
              "    <tr>\n",
              "      <th>3</th>\n",
              "      <td>91</td>\n",
              "      <td>78</td>\n",
              "      <td>34</td>\n",
              "      <td>24</td>\n",
              "      <td>36</td>\n",
              "      <td>0.0</td>\n",
              "      <td>2</td>\n",
              "    </tr>\n",
              "    <tr>\n",
              "      <th>4</th>\n",
              "      <td>87</td>\n",
              "      <td>70</td>\n",
              "      <td>12</td>\n",
              "      <td>28</td>\n",
              "      <td>10</td>\n",
              "      <td>0.0</td>\n",
              "      <td>2</td>\n",
              "    </tr>\n",
              "  </tbody>\n",
              "</table>\n",
              "</div>\n",
              "    <div class=\"colab-df-buttons\">\n",
              "\n",
              "  <div class=\"colab-df-container\">\n",
              "    <button class=\"colab-df-convert\" onclick=\"convertToInteractive('df-6798fa07-3f11-4846-8931-fc16b538df3a')\"\n",
              "            title=\"Convert this dataframe to an interactive table.\"\n",
              "            style=\"display:none;\">\n",
              "\n",
              "  <svg xmlns=\"http://www.w3.org/2000/svg\" height=\"24px\" viewBox=\"0 -960 960 960\">\n",
              "    <path d=\"M120-120v-720h720v720H120Zm60-500h600v-160H180v160Zm220 220h160v-160H400v160Zm0 220h160v-160H400v160ZM180-400h160v-160H180v160Zm440 0h160v-160H620v160ZM180-180h160v-160H180v160Zm440 0h160v-160H620v160Z\"/>\n",
              "  </svg>\n",
              "    </button>\n",
              "\n",
              "  <style>\n",
              "    .colab-df-container {\n",
              "      display:flex;\n",
              "      gap: 12px;\n",
              "    }\n",
              "\n",
              "    .colab-df-convert {\n",
              "      background-color: #E8F0FE;\n",
              "      border: none;\n",
              "      border-radius: 50%;\n",
              "      cursor: pointer;\n",
              "      display: none;\n",
              "      fill: #1967D2;\n",
              "      height: 32px;\n",
              "      padding: 0 0 0 0;\n",
              "      width: 32px;\n",
              "    }\n",
              "\n",
              "    .colab-df-convert:hover {\n",
              "      background-color: #E2EBFA;\n",
              "      box-shadow: 0px 1px 2px rgba(60, 64, 67, 0.3), 0px 1px 3px 1px rgba(60, 64, 67, 0.15);\n",
              "      fill: #174EA6;\n",
              "    }\n",
              "\n",
              "    .colab-df-buttons div {\n",
              "      margin-bottom: 4px;\n",
              "    }\n",
              "\n",
              "    [theme=dark] .colab-df-convert {\n",
              "      background-color: #3B4455;\n",
              "      fill: #D2E3FC;\n",
              "    }\n",
              "\n",
              "    [theme=dark] .colab-df-convert:hover {\n",
              "      background-color: #434B5C;\n",
              "      box-shadow: 0px 1px 3px 1px rgba(0, 0, 0, 0.15);\n",
              "      filter: drop-shadow(0px 1px 2px rgba(0, 0, 0, 0.3));\n",
              "      fill: #FFFFFF;\n",
              "    }\n",
              "  </style>\n",
              "\n",
              "    <script>\n",
              "      const buttonEl =\n",
              "        document.querySelector('#df-6798fa07-3f11-4846-8931-fc16b538df3a button.colab-df-convert');\n",
              "      buttonEl.style.display =\n",
              "        google.colab.kernel.accessAllowed ? 'block' : 'none';\n",
              "\n",
              "      async function convertToInteractive(key) {\n",
              "        const element = document.querySelector('#df-6798fa07-3f11-4846-8931-fc16b538df3a');\n",
              "        const dataTable =\n",
              "          await google.colab.kernel.invokeFunction('convertToInteractive',\n",
              "                                                    [key], {});\n",
              "        if (!dataTable) return;\n",
              "\n",
              "        const docLinkHtml = 'Like what you see? Visit the ' +\n",
              "          '<a target=\"_blank\" href=https://colab.research.google.com/notebooks/data_table.ipynb>data table notebook</a>'\n",
              "          + ' to learn more about interactive tables.';\n",
              "        element.innerHTML = '';\n",
              "        dataTable['output_type'] = 'display_data';\n",
              "        await google.colab.output.renderOutput(dataTable, element);\n",
              "        const docLink = document.createElement('div');\n",
              "        docLink.innerHTML = docLinkHtml;\n",
              "        element.appendChild(docLink);\n",
              "      }\n",
              "    </script>\n",
              "  </div>\n",
              "\n",
              "\n",
              "<div id=\"df-b8b037d0-8ce4-4a7f-923e-48b11e0d5666\">\n",
              "  <button class=\"colab-df-quickchart\" onclick=\"quickchart('df-b8b037d0-8ce4-4a7f-923e-48b11e0d5666')\"\n",
              "            title=\"Suggest charts\"\n",
              "            style=\"display:none;\">\n",
              "\n",
              "<svg xmlns=\"http://www.w3.org/2000/svg\" height=\"24px\"viewBox=\"0 0 24 24\"\n",
              "     width=\"24px\">\n",
              "    <g>\n",
              "        <path d=\"M19 3H5c-1.1 0-2 .9-2 2v14c0 1.1.9 2 2 2h14c1.1 0 2-.9 2-2V5c0-1.1-.9-2-2-2zM9 17H7v-7h2v7zm4 0h-2V7h2v10zm4 0h-2v-4h2v4z\"/>\n",
              "    </g>\n",
              "</svg>\n",
              "  </button>\n",
              "\n",
              "<style>\n",
              "  .colab-df-quickchart {\n",
              "      --bg-color: #E8F0FE;\n",
              "      --fill-color: #1967D2;\n",
              "      --hover-bg-color: #E2EBFA;\n",
              "      --hover-fill-color: #174EA6;\n",
              "      --disabled-fill-color: #AAA;\n",
              "      --disabled-bg-color: #DDD;\n",
              "  }\n",
              "\n",
              "  [theme=dark] .colab-df-quickchart {\n",
              "      --bg-color: #3B4455;\n",
              "      --fill-color: #D2E3FC;\n",
              "      --hover-bg-color: #434B5C;\n",
              "      --hover-fill-color: #FFFFFF;\n",
              "      --disabled-bg-color: #3B4455;\n",
              "      --disabled-fill-color: #666;\n",
              "  }\n",
              "\n",
              "  .colab-df-quickchart {\n",
              "    background-color: var(--bg-color);\n",
              "    border: none;\n",
              "    border-radius: 50%;\n",
              "    cursor: pointer;\n",
              "    display: none;\n",
              "    fill: var(--fill-color);\n",
              "    height: 32px;\n",
              "    padding: 0;\n",
              "    width: 32px;\n",
              "  }\n",
              "\n",
              "  .colab-df-quickchart:hover {\n",
              "    background-color: var(--hover-bg-color);\n",
              "    box-shadow: 0 1px 2px rgba(60, 64, 67, 0.3), 0 1px 3px 1px rgba(60, 64, 67, 0.15);\n",
              "    fill: var(--button-hover-fill-color);\n",
              "  }\n",
              "\n",
              "  .colab-df-quickchart-complete:disabled,\n",
              "  .colab-df-quickchart-complete:disabled:hover {\n",
              "    background-color: var(--disabled-bg-color);\n",
              "    fill: var(--disabled-fill-color);\n",
              "    box-shadow: none;\n",
              "  }\n",
              "\n",
              "  .colab-df-spinner {\n",
              "    border: 2px solid var(--fill-color);\n",
              "    border-color: transparent;\n",
              "    border-bottom-color: var(--fill-color);\n",
              "    animation:\n",
              "      spin 1s steps(1) infinite;\n",
              "  }\n",
              "\n",
              "  @keyframes spin {\n",
              "    0% {\n",
              "      border-color: transparent;\n",
              "      border-bottom-color: var(--fill-color);\n",
              "      border-left-color: var(--fill-color);\n",
              "    }\n",
              "    20% {\n",
              "      border-color: transparent;\n",
              "      border-left-color: var(--fill-color);\n",
              "      border-top-color: var(--fill-color);\n",
              "    }\n",
              "    30% {\n",
              "      border-color: transparent;\n",
              "      border-left-color: var(--fill-color);\n",
              "      border-top-color: var(--fill-color);\n",
              "      border-right-color: var(--fill-color);\n",
              "    }\n",
              "    40% {\n",
              "      border-color: transparent;\n",
              "      border-right-color: var(--fill-color);\n",
              "      border-top-color: var(--fill-color);\n",
              "    }\n",
              "    60% {\n",
              "      border-color: transparent;\n",
              "      border-right-color: var(--fill-color);\n",
              "    }\n",
              "    80% {\n",
              "      border-color: transparent;\n",
              "      border-right-color: var(--fill-color);\n",
              "      border-bottom-color: var(--fill-color);\n",
              "    }\n",
              "    90% {\n",
              "      border-color: transparent;\n",
              "      border-bottom-color: var(--fill-color);\n",
              "    }\n",
              "  }\n",
              "</style>\n",
              "\n",
              "  <script>\n",
              "    async function quickchart(key) {\n",
              "      const quickchartButtonEl =\n",
              "        document.querySelector('#' + key + ' button');\n",
              "      quickchartButtonEl.disabled = true;  // To prevent multiple clicks.\n",
              "      quickchartButtonEl.classList.add('colab-df-spinner');\n",
              "      try {\n",
              "        const charts = await google.colab.kernel.invokeFunction(\n",
              "            'suggestCharts', [key], {});\n",
              "      } catch (error) {\n",
              "        console.error('Error during call to suggestCharts:', error);\n",
              "      }\n",
              "      quickchartButtonEl.classList.remove('colab-df-spinner');\n",
              "      quickchartButtonEl.classList.add('colab-df-quickchart-complete');\n",
              "    }\n",
              "    (() => {\n",
              "      let quickchartButtonEl =\n",
              "        document.querySelector('#df-b8b037d0-8ce4-4a7f-923e-48b11e0d5666 button');\n",
              "      quickchartButtonEl.style.display =\n",
              "        google.colab.kernel.accessAllowed ? 'block' : 'none';\n",
              "    })();\n",
              "  </script>\n",
              "</div>\n",
              "\n",
              "    </div>\n",
              "  </div>\n"
            ],
            "application/vnd.google.colaboratory.intrinsic+json": {
              "type": "dataframe",
              "variable_name": "data",
              "summary": "{\n  \"name\": \"data\",\n  \"rows\": 345,\n  \"fields\": [\n    {\n      \"column\": \"V1\",\n      \"properties\": {\n        \"dtype\": \"number\",\n        \"std\": 4,\n        \"min\": 65,\n        \"max\": 103,\n        \"num_unique_values\": 26,\n        \"samples\": [\n          89,\n          83,\n          85\n        ],\n        \"semantic_type\": \"\",\n        \"description\": \"\"\n      }\n    },\n    {\n      \"column\": \"V2\",\n      \"properties\": {\n        \"dtype\": \"number\",\n        \"std\": 18,\n        \"min\": 23,\n        \"max\": 138,\n        \"num_unique_values\": 78,\n        \"samples\": [\n          50,\n          92,\n          75\n        ],\n        \"semantic_type\": \"\",\n        \"description\": \"\"\n      }\n    },\n    {\n      \"column\": \"V3\",\n      \"properties\": {\n        \"dtype\": \"number\",\n        \"std\": 19,\n        \"min\": 4,\n        \"max\": 155,\n        \"num_unique_values\": 67,\n        \"samples\": [\n          42,\n          18,\n          12\n        ],\n        \"semantic_type\": \"\",\n        \"description\": \"\"\n      }\n    },\n    {\n      \"column\": \"V4\",\n      \"properties\": {\n        \"dtype\": \"number\",\n        \"std\": 10,\n        \"min\": 5,\n        \"max\": 82,\n        \"num_unique_values\": 47,\n        \"samples\": [\n          30,\n          41,\n          8\n        ],\n        \"semantic_type\": \"\",\n        \"description\": \"\"\n      }\n    },\n    {\n      \"column\": \"V5\",\n      \"properties\": {\n        \"dtype\": \"number\",\n        \"std\": 39,\n        \"min\": 5,\n        \"max\": 297,\n        \"num_unique_values\": 94,\n        \"samples\": [\n          53,\n          82,\n          37\n        ],\n        \"semantic_type\": \"\",\n        \"description\": \"\"\n      }\n    },\n    {\n      \"column\": \"V6\",\n      \"properties\": {\n        \"dtype\": \"number\",\n        \"std\": 3.337835264577128,\n        \"min\": 0.0,\n        \"max\": 20.0,\n        \"num_unique_values\": 16,\n        \"samples\": [\n          0.0,\n          0.5,\n          4.0\n        ],\n        \"semantic_type\": \"\",\n        \"description\": \"\"\n      }\n    },\n    {\n      \"column\": \"V7\",\n      \"properties\": {\n        \"dtype\": \"number\",\n        \"std\": 0,\n        \"min\": 1,\n        \"max\": 2,\n        \"num_unique_values\": 2,\n        \"samples\": [\n          2,\n          1\n        ],\n        \"semantic_type\": \"\",\n        \"description\": \"\"\n      }\n    }\n  ]\n}"
            }
          },
          "metadata": {},
          "execution_count": 44
        }
      ],
      "source": [
        "data.head()"
      ]
    },
    {
      "cell_type": "code",
      "execution_count": 45,
      "metadata": {
        "scrolled": true,
        "colab": {
          "base_uri": "https://localhost:8080/"
        },
        "id": "WDdL7n_GF6PA",
        "outputId": "4b83bc69-2f10-419e-d5e4-7a692b80b02e"
      },
      "outputs": [
        {
          "output_type": "execute_result",
          "data": {
            "text/plain": [
              "V1      int64\n",
              "V2      int64\n",
              "V3      int64\n",
              "V4      int64\n",
              "V5      int64\n",
              "V6    float64\n",
              "V7      int64\n",
              "dtype: object"
            ]
          },
          "metadata": {},
          "execution_count": 45
        }
      ],
      "source": [
        "data.dtypes"
      ]
    },
    {
      "cell_type": "code",
      "execution_count": 46,
      "metadata": {
        "id": "clZtDdI9F6PA"
      },
      "outputs": [],
      "source": [
        "#Cambiamos a tipo object a V7\n",
        "data['V7'] = data.V7.astype(object)"
      ]
    },
    {
      "cell_type": "code",
      "execution_count": 47,
      "metadata": {
        "scrolled": false,
        "colab": {
          "base_uri": "https://localhost:8080/"
        },
        "id": "9IN7RhoeF6PA",
        "outputId": "4e677f2d-f032-491c-8d8e-1f083f15b65a"
      },
      "outputs": [
        {
          "output_type": "execute_result",
          "data": {
            "text/plain": [
              "V1      int64\n",
              "V2      int64\n",
              "V3      int64\n",
              "V4      int64\n",
              "V5      int64\n",
              "V6    float64\n",
              "V7     object\n",
              "dtype: object"
            ]
          },
          "metadata": {},
          "execution_count": 47
        }
      ],
      "source": [
        "data.dtypes"
      ]
    },
    {
      "cell_type": "code",
      "execution_count": 48,
      "metadata": {
        "colab": {
          "base_uri": "https://localhost:8080/",
          "height": 206
        },
        "id": "h3nsmkO2F6PB",
        "outputId": "9809211b-7997-4515-9d88-25673e4c307d"
      },
      "outputs": [
        {
          "output_type": "execute_result",
          "data": {
            "text/plain": [
              "   V1  V2  V3  V4  V5   V6\n",
              "0  85  92  45  27  31  0.0\n",
              "1  85  64  59  32  23  0.0\n",
              "2  86  54  33  16  54  0.0\n",
              "3  91  78  34  24  36  0.0\n",
              "4  87  70  12  28  10  0.0"
            ],
            "text/html": [
              "\n",
              "  <div id=\"df-3a5809dd-fde8-4295-ba5e-173daaa3f97d\" class=\"colab-df-container\">\n",
              "    <div>\n",
              "<style scoped>\n",
              "    .dataframe tbody tr th:only-of-type {\n",
              "        vertical-align: middle;\n",
              "    }\n",
              "\n",
              "    .dataframe tbody tr th {\n",
              "        vertical-align: top;\n",
              "    }\n",
              "\n",
              "    .dataframe thead th {\n",
              "        text-align: right;\n",
              "    }\n",
              "</style>\n",
              "<table border=\"1\" class=\"dataframe\">\n",
              "  <thead>\n",
              "    <tr style=\"text-align: right;\">\n",
              "      <th></th>\n",
              "      <th>V1</th>\n",
              "      <th>V2</th>\n",
              "      <th>V3</th>\n",
              "      <th>V4</th>\n",
              "      <th>V5</th>\n",
              "      <th>V6</th>\n",
              "    </tr>\n",
              "  </thead>\n",
              "  <tbody>\n",
              "    <tr>\n",
              "      <th>0</th>\n",
              "      <td>85</td>\n",
              "      <td>92</td>\n",
              "      <td>45</td>\n",
              "      <td>27</td>\n",
              "      <td>31</td>\n",
              "      <td>0.0</td>\n",
              "    </tr>\n",
              "    <tr>\n",
              "      <th>1</th>\n",
              "      <td>85</td>\n",
              "      <td>64</td>\n",
              "      <td>59</td>\n",
              "      <td>32</td>\n",
              "      <td>23</td>\n",
              "      <td>0.0</td>\n",
              "    </tr>\n",
              "    <tr>\n",
              "      <th>2</th>\n",
              "      <td>86</td>\n",
              "      <td>54</td>\n",
              "      <td>33</td>\n",
              "      <td>16</td>\n",
              "      <td>54</td>\n",
              "      <td>0.0</td>\n",
              "    </tr>\n",
              "    <tr>\n",
              "      <th>3</th>\n",
              "      <td>91</td>\n",
              "      <td>78</td>\n",
              "      <td>34</td>\n",
              "      <td>24</td>\n",
              "      <td>36</td>\n",
              "      <td>0.0</td>\n",
              "    </tr>\n",
              "    <tr>\n",
              "      <th>4</th>\n",
              "      <td>87</td>\n",
              "      <td>70</td>\n",
              "      <td>12</td>\n",
              "      <td>28</td>\n",
              "      <td>10</td>\n",
              "      <td>0.0</td>\n",
              "    </tr>\n",
              "  </tbody>\n",
              "</table>\n",
              "</div>\n",
              "    <div class=\"colab-df-buttons\">\n",
              "\n",
              "  <div class=\"colab-df-container\">\n",
              "    <button class=\"colab-df-convert\" onclick=\"convertToInteractive('df-3a5809dd-fde8-4295-ba5e-173daaa3f97d')\"\n",
              "            title=\"Convert this dataframe to an interactive table.\"\n",
              "            style=\"display:none;\">\n",
              "\n",
              "  <svg xmlns=\"http://www.w3.org/2000/svg\" height=\"24px\" viewBox=\"0 -960 960 960\">\n",
              "    <path d=\"M120-120v-720h720v720H120Zm60-500h600v-160H180v160Zm220 220h160v-160H400v160Zm0 220h160v-160H400v160ZM180-400h160v-160H180v160Zm440 0h160v-160H620v160ZM180-180h160v-160H180v160Zm440 0h160v-160H620v160Z\"/>\n",
              "  </svg>\n",
              "    </button>\n",
              "\n",
              "  <style>\n",
              "    .colab-df-container {\n",
              "      display:flex;\n",
              "      gap: 12px;\n",
              "    }\n",
              "\n",
              "    .colab-df-convert {\n",
              "      background-color: #E8F0FE;\n",
              "      border: none;\n",
              "      border-radius: 50%;\n",
              "      cursor: pointer;\n",
              "      display: none;\n",
              "      fill: #1967D2;\n",
              "      height: 32px;\n",
              "      padding: 0 0 0 0;\n",
              "      width: 32px;\n",
              "    }\n",
              "\n",
              "    .colab-df-convert:hover {\n",
              "      background-color: #E2EBFA;\n",
              "      box-shadow: 0px 1px 2px rgba(60, 64, 67, 0.3), 0px 1px 3px 1px rgba(60, 64, 67, 0.15);\n",
              "      fill: #174EA6;\n",
              "    }\n",
              "\n",
              "    .colab-df-buttons div {\n",
              "      margin-bottom: 4px;\n",
              "    }\n",
              "\n",
              "    [theme=dark] .colab-df-convert {\n",
              "      background-color: #3B4455;\n",
              "      fill: #D2E3FC;\n",
              "    }\n",
              "\n",
              "    [theme=dark] .colab-df-convert:hover {\n",
              "      background-color: #434B5C;\n",
              "      box-shadow: 0px 1px 3px 1px rgba(0, 0, 0, 0.15);\n",
              "      filter: drop-shadow(0px 1px 2px rgba(0, 0, 0, 0.3));\n",
              "      fill: #FFFFFF;\n",
              "    }\n",
              "  </style>\n",
              "\n",
              "    <script>\n",
              "      const buttonEl =\n",
              "        document.querySelector('#df-3a5809dd-fde8-4295-ba5e-173daaa3f97d button.colab-df-convert');\n",
              "      buttonEl.style.display =\n",
              "        google.colab.kernel.accessAllowed ? 'block' : 'none';\n",
              "\n",
              "      async function convertToInteractive(key) {\n",
              "        const element = document.querySelector('#df-3a5809dd-fde8-4295-ba5e-173daaa3f97d');\n",
              "        const dataTable =\n",
              "          await google.colab.kernel.invokeFunction('convertToInteractive',\n",
              "                                                    [key], {});\n",
              "        if (!dataTable) return;\n",
              "\n",
              "        const docLinkHtml = 'Like what you see? Visit the ' +\n",
              "          '<a target=\"_blank\" href=https://colab.research.google.com/notebooks/data_table.ipynb>data table notebook</a>'\n",
              "          + ' to learn more about interactive tables.';\n",
              "        element.innerHTML = '';\n",
              "        dataTable['output_type'] = 'display_data';\n",
              "        await google.colab.output.renderOutput(dataTable, element);\n",
              "        const docLink = document.createElement('div');\n",
              "        docLink.innerHTML = docLinkHtml;\n",
              "        element.appendChild(docLink);\n",
              "      }\n",
              "    </script>\n",
              "  </div>\n",
              "\n",
              "\n",
              "<div id=\"df-86881015-133c-4d0b-ab81-c7484ace94e9\">\n",
              "  <button class=\"colab-df-quickchart\" onclick=\"quickchart('df-86881015-133c-4d0b-ab81-c7484ace94e9')\"\n",
              "            title=\"Suggest charts\"\n",
              "            style=\"display:none;\">\n",
              "\n",
              "<svg xmlns=\"http://www.w3.org/2000/svg\" height=\"24px\"viewBox=\"0 0 24 24\"\n",
              "     width=\"24px\">\n",
              "    <g>\n",
              "        <path d=\"M19 3H5c-1.1 0-2 .9-2 2v14c0 1.1.9 2 2 2h14c1.1 0 2-.9 2-2V5c0-1.1-.9-2-2-2zM9 17H7v-7h2v7zm4 0h-2V7h2v10zm4 0h-2v-4h2v4z\"/>\n",
              "    </g>\n",
              "</svg>\n",
              "  </button>\n",
              "\n",
              "<style>\n",
              "  .colab-df-quickchart {\n",
              "      --bg-color: #E8F0FE;\n",
              "      --fill-color: #1967D2;\n",
              "      --hover-bg-color: #E2EBFA;\n",
              "      --hover-fill-color: #174EA6;\n",
              "      --disabled-fill-color: #AAA;\n",
              "      --disabled-bg-color: #DDD;\n",
              "  }\n",
              "\n",
              "  [theme=dark] .colab-df-quickchart {\n",
              "      --bg-color: #3B4455;\n",
              "      --fill-color: #D2E3FC;\n",
              "      --hover-bg-color: #434B5C;\n",
              "      --hover-fill-color: #FFFFFF;\n",
              "      --disabled-bg-color: #3B4455;\n",
              "      --disabled-fill-color: #666;\n",
              "  }\n",
              "\n",
              "  .colab-df-quickchart {\n",
              "    background-color: var(--bg-color);\n",
              "    border: none;\n",
              "    border-radius: 50%;\n",
              "    cursor: pointer;\n",
              "    display: none;\n",
              "    fill: var(--fill-color);\n",
              "    height: 32px;\n",
              "    padding: 0;\n",
              "    width: 32px;\n",
              "  }\n",
              "\n",
              "  .colab-df-quickchart:hover {\n",
              "    background-color: var(--hover-bg-color);\n",
              "    box-shadow: 0 1px 2px rgba(60, 64, 67, 0.3), 0 1px 3px 1px rgba(60, 64, 67, 0.15);\n",
              "    fill: var(--button-hover-fill-color);\n",
              "  }\n",
              "\n",
              "  .colab-df-quickchart-complete:disabled,\n",
              "  .colab-df-quickchart-complete:disabled:hover {\n",
              "    background-color: var(--disabled-bg-color);\n",
              "    fill: var(--disabled-fill-color);\n",
              "    box-shadow: none;\n",
              "  }\n",
              "\n",
              "  .colab-df-spinner {\n",
              "    border: 2px solid var(--fill-color);\n",
              "    border-color: transparent;\n",
              "    border-bottom-color: var(--fill-color);\n",
              "    animation:\n",
              "      spin 1s steps(1) infinite;\n",
              "  }\n",
              "\n",
              "  @keyframes spin {\n",
              "    0% {\n",
              "      border-color: transparent;\n",
              "      border-bottom-color: var(--fill-color);\n",
              "      border-left-color: var(--fill-color);\n",
              "    }\n",
              "    20% {\n",
              "      border-color: transparent;\n",
              "      border-left-color: var(--fill-color);\n",
              "      border-top-color: var(--fill-color);\n",
              "    }\n",
              "    30% {\n",
              "      border-color: transparent;\n",
              "      border-left-color: var(--fill-color);\n",
              "      border-top-color: var(--fill-color);\n",
              "      border-right-color: var(--fill-color);\n",
              "    }\n",
              "    40% {\n",
              "      border-color: transparent;\n",
              "      border-right-color: var(--fill-color);\n",
              "      border-top-color: var(--fill-color);\n",
              "    }\n",
              "    60% {\n",
              "      border-color: transparent;\n",
              "      border-right-color: var(--fill-color);\n",
              "    }\n",
              "    80% {\n",
              "      border-color: transparent;\n",
              "      border-right-color: var(--fill-color);\n",
              "      border-bottom-color: var(--fill-color);\n",
              "    }\n",
              "    90% {\n",
              "      border-color: transparent;\n",
              "      border-bottom-color: var(--fill-color);\n",
              "    }\n",
              "  }\n",
              "</style>\n",
              "\n",
              "  <script>\n",
              "    async function quickchart(key) {\n",
              "      const quickchartButtonEl =\n",
              "        document.querySelector('#' + key + ' button');\n",
              "      quickchartButtonEl.disabled = true;  // To prevent multiple clicks.\n",
              "      quickchartButtonEl.classList.add('colab-df-spinner');\n",
              "      try {\n",
              "        const charts = await google.colab.kernel.invokeFunction(\n",
              "            'suggestCharts', [key], {});\n",
              "      } catch (error) {\n",
              "        console.error('Error during call to suggestCharts:', error);\n",
              "      }\n",
              "      quickchartButtonEl.classList.remove('colab-df-spinner');\n",
              "      quickchartButtonEl.classList.add('colab-df-quickchart-complete');\n",
              "    }\n",
              "    (() => {\n",
              "      let quickchartButtonEl =\n",
              "        document.querySelector('#df-86881015-133c-4d0b-ab81-c7484ace94e9 button');\n",
              "      quickchartButtonEl.style.display =\n",
              "        google.colab.kernel.accessAllowed ? 'block' : 'none';\n",
              "    })();\n",
              "  </script>\n",
              "</div>\n",
              "\n",
              "    </div>\n",
              "  </div>\n"
            ],
            "application/vnd.google.colaboratory.intrinsic+json": {
              "type": "dataframe",
              "variable_name": "data_X",
              "summary": "{\n  \"name\": \"data_X\",\n  \"rows\": 345,\n  \"fields\": [\n    {\n      \"column\": \"V1\",\n      \"properties\": {\n        \"dtype\": \"number\",\n        \"std\": 4,\n        \"min\": 65,\n        \"max\": 103,\n        \"num_unique_values\": 26,\n        \"samples\": [\n          89,\n          83,\n          85\n        ],\n        \"semantic_type\": \"\",\n        \"description\": \"\"\n      }\n    },\n    {\n      \"column\": \"V2\",\n      \"properties\": {\n        \"dtype\": \"number\",\n        \"std\": 18,\n        \"min\": 23,\n        \"max\": 138,\n        \"num_unique_values\": 78,\n        \"samples\": [\n          50,\n          92,\n          75\n        ],\n        \"semantic_type\": \"\",\n        \"description\": \"\"\n      }\n    },\n    {\n      \"column\": \"V3\",\n      \"properties\": {\n        \"dtype\": \"number\",\n        \"std\": 19,\n        \"min\": 4,\n        \"max\": 155,\n        \"num_unique_values\": 67,\n        \"samples\": [\n          42,\n          18,\n          12\n        ],\n        \"semantic_type\": \"\",\n        \"description\": \"\"\n      }\n    },\n    {\n      \"column\": \"V4\",\n      \"properties\": {\n        \"dtype\": \"number\",\n        \"std\": 10,\n        \"min\": 5,\n        \"max\": 82,\n        \"num_unique_values\": 47,\n        \"samples\": [\n          30,\n          41,\n          8\n        ],\n        \"semantic_type\": \"\",\n        \"description\": \"\"\n      }\n    },\n    {\n      \"column\": \"V5\",\n      \"properties\": {\n        \"dtype\": \"number\",\n        \"std\": 39,\n        \"min\": 5,\n        \"max\": 297,\n        \"num_unique_values\": 94,\n        \"samples\": [\n          53,\n          82,\n          37\n        ],\n        \"semantic_type\": \"\",\n        \"description\": \"\"\n      }\n    },\n    {\n      \"column\": \"V6\",\n      \"properties\": {\n        \"dtype\": \"number\",\n        \"std\": 3.337835264577128,\n        \"min\": 0.0,\n        \"max\": 20.0,\n        \"num_unique_values\": 16,\n        \"samples\": [\n          0.0,\n          0.5,\n          4.0\n        ],\n        \"semantic_type\": \"\",\n        \"description\": \"\"\n      }\n    }\n  ]\n}"
            }
          },
          "metadata": {},
          "execution_count": 48
        }
      ],
      "source": [
        "data_X = pd.DataFrame(data.drop('V7', axis=1))\n",
        "data_X.head()"
      ]
    },
    {
      "cell_type": "code",
      "execution_count": 49,
      "metadata": {
        "scrolled": true,
        "colab": {
          "base_uri": "https://localhost:8080/",
          "height": 430
        },
        "id": "0MooccywF6PB",
        "outputId": "48fbd476-3d2f-4df0-c412-8728b244dbaa"
      },
      "outputs": [
        {
          "output_type": "display_data",
          "data": {
            "text/plain": [
              "<Figure size 640x480 with 1 Axes>"
            ],
            "image/png": "[encoded data removed]"
          },
          "metadata": {}
        }
      ],
      "source": [
        "#1.Boxplot\n",
        "plt.boxplot(data_X)\n",
        "plt.show()"
      ]
    },
    {
      "cell_type": "code",
      "execution_count": 50,
      "metadata": {
        "scrolled": true,
        "colab": {
          "base_uri": "https://localhost:8080/",
          "height": 430
        },
        "id": "jqk2D_BTF6PB",
        "outputId": "a40a7287-c98b-400b-c0be-797bf63bdd20"
      },
      "outputs": [
        {
          "output_type": "display_data",
          "data": {
            "text/plain": [
              "<Figure size 640x480 with 1 Axes>"
            ],
            "image/png": "[encoded data removed]"
          },
          "metadata": {}
        }
      ],
      "source": [
        "sns.boxplot(data=data_X, orient=\"h\", palette=\"Set2\")\n",
        "plt.show()"
      ]
    },
    {
      "cell_type": "code",
      "execution_count": 51,
      "metadata": {
        "colab": {
          "base_uri": "https://localhost:8080/",
          "height": 430
        },
        "id": "-shAgI8CF6PC",
        "outputId": "4b0929d4-7b6d-400c-8655-f99510a4660f"
      },
      "outputs": [
        {
          "output_type": "display_data",
          "data": {
            "text/plain": [
              "<Figure size 640x480 with 1 Axes>"
            ],
            "image/png": "[encoded data removed]"
          },
          "metadata": {}
        }
      ],
      "source": [
        "sns.boxplot(data=data_X, orient=\"v\", palette=\"Set2\")\n",
        "plt.show()"
      ]
    },
    {
      "cell_type": "code",
      "execution_count": 52,
      "metadata": {
        "id": "DezBwdHLF6PF"
      },
      "outputs": [],
      "source": [
        "#1.Tratamiento 1\n",
        "#Las variables se aproximan a una distribución normal"
      ]
    },
    {
      "cell_type": "code",
      "execution_count": 53,
      "metadata": {
        "id": "9f8bBUlyF6PF",
        "outputId": "a548dad0-2f3c-4670-8f9b-6d187d4aa030",
        "colab": {
          "base_uri": "https://localhost:8080/",
          "height": 206
        }
      },
      "outputs": [
        {
          "output_type": "execute_result",
          "data": {
            "text/plain": [
              "   V1  V2  V3  V4  V5   V6\n",
              "0  85  92  45  27  31  0.0\n",
              "1  85  64  59  32  23  0.0\n",
              "2  86  54  33  16  54  0.0\n",
              "3  91  78  34  24  36  0.0\n",
              "4  87  70  12  28  10  0.0"
            ],
            "text/html": [
              "\n",
              "  <div id=\"df-f3359c38-1d32-4096-ad76-15b3d371af94\" class=\"colab-df-container\">\n",
              "    <div>\n",
              "<style scoped>\n",
              "    .dataframe tbody tr th:only-of-type {\n",
              "        vertical-align: middle;\n",
              "    }\n",
              "\n",
              "    .dataframe tbody tr th {\n",
              "        vertical-align: top;\n",
              "    }\n",
              "\n",
              "    .dataframe thead th {\n",
              "        text-align: right;\n",
              "    }\n",
              "</style>\n",
              "<table border=\"1\" class=\"dataframe\">\n",
              "  <thead>\n",
              "    <tr style=\"text-align: right;\">\n",
              "      <th></th>\n",
              "      <th>V1</th>\n",
              "      <th>V2</th>\n",
              "      <th>V3</th>\n",
              "      <th>V4</th>\n",
              "      <th>V5</th>\n",
              "      <th>V6</th>\n",
              "    </tr>\n",
              "  </thead>\n",
              "  <tbody>\n",
              "    <tr>\n",
              "      <th>0</th>\n",
              "      <td>85</td>\n",
              "      <td>92</td>\n",
              "      <td>45</td>\n",
              "      <td>27</td>\n",
              "      <td>31</td>\n",
              "      <td>0.0</td>\n",
              "    </tr>\n",
              "    <tr>\n",
              "      <th>1</th>\n",
              "      <td>85</td>\n",
              "      <td>64</td>\n",
              "      <td>59</td>\n",
              "      <td>32</td>\n",
              "      <td>23</td>\n",
              "      <td>0.0</td>\n",
              "    </tr>\n",
              "    <tr>\n",
              "      <th>2</th>\n",
              "      <td>86</td>\n",
              "      <td>54</td>\n",
              "      <td>33</td>\n",
              "      <td>16</td>\n",
              "      <td>54</td>\n",
              "      <td>0.0</td>\n",
              "    </tr>\n",
              "    <tr>\n",
              "      <th>3</th>\n",
              "      <td>91</td>\n",
              "      <td>78</td>\n",
              "      <td>34</td>\n",
              "      <td>24</td>\n",
              "      <td>36</td>\n",
              "      <td>0.0</td>\n",
              "    </tr>\n",
              "    <tr>\n",
              "      <th>4</th>\n",
              "      <td>87</td>\n",
              "      <td>70</td>\n",
              "      <td>12</td>\n",
              "      <td>28</td>\n",
              "      <td>10</td>\n",
              "      <td>0.0</td>\n",
              "    </tr>\n",
              "  </tbody>\n",
              "</table>\n",
              "</div>\n",
              "    <div class=\"colab-df-buttons\">\n",
              "\n",
              "  <div class=\"colab-df-container\">\n",
              "    <button class=\"colab-df-convert\" onclick=\"convertToInteractive('df-f3359c38-1d32-4096-ad76-15b3d371af94')\"\n",
              "            title=\"Convert this dataframe to an interactive table.\"\n",
              "            style=\"display:none;\">\n",
              "\n",
              "  <svg xmlns=\"http://www.w3.org/2000/svg\" height=\"24px\" viewBox=\"0 -960 960 960\">\n",
              "    <path d=\"M120-120v-720h720v720H120Zm60-500h600v-160H180v160Zm220 220h160v-160H400v160Zm0 220h160v-160H400v160ZM180-400h160v-160H180v160Zm440 0h160v-160H620v160ZM180-180h160v-160H180v160Zm440 0h160v-160H620v160Z\"/>\n",
              "  </svg>\n",
              "    </button>\n",
              "\n",
              "  <style>\n",
              "    .colab-df-container {\n",
              "      display:flex;\n",
              "      gap: 12px;\n",
              "    }\n",
              "\n",
              "    .colab-df-convert {\n",
              "      background-color: #E8F0FE;\n",
              "      border: none;\n",
              "      border-radius: 50%;\n",
              "      cursor: pointer;\n",
              "      display: none;\n",
              "      fill: #1967D2;\n",
              "      height: 32px;\n",
              "      padding: 0 0 0 0;\n",
              "      width: 32px;\n",
              "    }\n",
              "\n",
              "    .colab-df-convert:hover {\n",
              "      background-color: #E2EBFA;\n",
              "      box-shadow: 0px 1px 2px rgba(60, 64, 67, 0.3), 0px 1px 3px 1px rgba(60, 64, 67, 0.15);\n",
              "      fill: #174EA6;\n",
              "    }\n",
              "\n",
              "    .colab-df-buttons div {\n",
              "      margin-bottom: 4px;\n",
              "    }\n",
              "\n",
              "    [theme=dark] .colab-df-convert {\n",
              "      background-color: #3B4455;\n",
              "      fill: #D2E3FC;\n",
              "    }\n",
              "\n",
              "    [theme=dark] .colab-df-convert:hover {\n",
              "      background-color: #434B5C;\n",
              "      box-shadow: 0px 1px 3px 1px rgba(0, 0, 0, 0.15);\n",
              "      filter: drop-shadow(0px 1px 2px rgba(0, 0, 0, 0.3));\n",
              "      fill: #FFFFFF;\n",
              "    }\n",
              "  </style>\n",
              "\n",
              "    <script>\n",
              "      const buttonEl =\n",
              "        document.querySelector('#df-f3359c38-1d32-4096-ad76-15b3d371af94 button.colab-df-convert');\n",
              "      buttonEl.style.display =\n",
              "        google.colab.kernel.accessAllowed ? 'block' : 'none';\n",
              "\n",
              "      async function convertToInteractive(key) {\n",
              "        const element = document.querySelector('#df-f3359c38-1d32-4096-ad76-15b3d371af94');\n",
              "        const dataTable =\n",
              "          await google.colab.kernel.invokeFunction('convertToInteractive',\n",
              "                                                    [key], {});\n",
              "        if (!dataTable) return;\n",
              "\n",
              "        const docLinkHtml = 'Like what you see? Visit the ' +\n",
              "          '<a target=\"_blank\" href=https://colab.research.google.com/notebooks/data_table.ipynb>data table notebook</a>'\n",
              "          + ' to learn more about interactive tables.';\n",
              "        element.innerHTML = '';\n",
              "        dataTable['output_type'] = 'display_data';\n",
              "        await google.colab.output.renderOutput(dataTable, element);\n",
              "        const docLink = document.createElement('div');\n",
              "        docLink.innerHTML = docLinkHtml;\n",
              "        element.appendChild(docLink);\n",
              "      }\n",
              "    </script>\n",
              "  </div>\n",
              "\n",
              "\n",
              "<div id=\"df-25339092-707d-44e2-bb14-a68e5a443c20\">\n",
              "  <button class=\"colab-df-quickchart\" onclick=\"quickchart('df-25339092-707d-44e2-bb14-a68e5a443c20')\"\n",
              "            title=\"Suggest charts\"\n",
              "            style=\"display:none;\">\n",
              "\n",
              "<svg xmlns=\"http://www.w3.org/2000/svg\" height=\"24px\"viewBox=\"0 0 24 24\"\n",
              "     width=\"24px\">\n",
              "    <g>\n",
              "        <path d=\"M19 3H5c-1.1 0-2 .9-2 2v14c0 1.1.9 2 2 2h14c1.1 0 2-.9 2-2V5c0-1.1-.9-2-2-2zM9 17H7v-7h2v7zm4 0h-2V7h2v10zm4 0h-2v-4h2v4z\"/>\n",
              "    </g>\n",
              "</svg>\n",
              "  </button>\n",
              "\n",
              "<style>\n",
              "  .colab-df-quickchart {\n",
              "      --bg-color: #E8F0FE;\n",
              "      --fill-color: #1967D2;\n",
              "      --hover-bg-color: #E2EBFA;\n",
              "      --hover-fill-color: #174EA6;\n",
              "      --disabled-fill-color: #AAA;\n",
              "      --disabled-bg-color: #DDD;\n",
              "  }\n",
              "\n",
              "  [theme=dark] .colab-df-quickchart {\n",
              "      --bg-color: #3B4455;\n",
              "      --fill-color: #D2E3FC;\n",
              "      --hover-bg-color: #434B5C;\n",
              "      --hover-fill-color: #FFFFFF;\n",
              "      --disabled-bg-color: #3B4455;\n",
              "      --disabled-fill-color: #666;\n",
              "  }\n",
              "\n",
              "  .colab-df-quickchart {\n",
              "    background-color: var(--bg-color);\n",
              "    border: none;\n",
              "    border-radius: 50%;\n",
              "    cursor: pointer;\n",
              "    display: none;\n",
              "    fill: var(--fill-color);\n",
              "    height: 32px;\n",
              "    padding: 0;\n",
              "    width: 32px;\n",
              "  }\n",
              "\n",
              "  .colab-df-quickchart:hover {\n",
              "    background-color: var(--hover-bg-color);\n",
              "    box-shadow: 0 1px 2px rgba(60, 64, 67, 0.3), 0 1px 3px 1px rgba(60, 64, 67, 0.15);\n",
              "    fill: var(--button-hover-fill-color);\n",
              "  }\n",
              "\n",
              "  .colab-df-quickchart-complete:disabled,\n",
              "  .colab-df-quickchart-complete:disabled:hover {\n",
              "    background-color: var(--disabled-bg-color);\n",
              "    fill: var(--disabled-fill-color);\n",
              "    box-shadow: none;\n",
              "  }\n",
              "\n",
              "  .colab-df-spinner {\n",
              "    border: 2px solid var(--fill-color);\n",
              "    border-color: transparent;\n",
              "    border-bottom-color: var(--fill-color);\n",
              "    animation:\n",
              "      spin 1s steps(1) infinite;\n",
              "  }\n",
              "\n",
              "  @keyframes spin {\n",
              "    0% {\n",
              "      border-color: transparent;\n",
              "      border-bottom-color: var(--fill-color);\n",
              "      border-left-color: var(--fill-color);\n",
              "    }\n",
              "    20% {\n",
              "      border-color: transparent;\n",
              "      border-left-color: var(--fill-color);\n",
              "      border-top-color: var(--fill-color);\n",
              "    }\n",
              "    30% {\n",
              "      border-color: transparent;\n",
              "      border-left-color: var(--fill-color);\n",
              "      border-top-color: var(--fill-color);\n",
              "      border-right-color: var(--fill-color);\n",
              "    }\n",
              "    40% {\n",
              "      border-color: transparent;\n",
              "      border-right-color: var(--fill-color);\n",
              "      border-top-color: var(--fill-color);\n",
              "    }\n",
              "    60% {\n",
              "      border-color: transparent;\n",
              "      border-right-color: var(--fill-color);\n",
              "    }\n",
              "    80% {\n",
              "      border-color: transparent;\n",
              "      border-right-color: var(--fill-color);\n",
              "      border-bottom-color: var(--fill-color);\n",
              "    }\n",
              "    90% {\n",
              "      border-color: transparent;\n",
              "      border-bottom-color: var(--fill-color);\n",
              "    }\n",
              "  }\n",
              "</style>\n",
              "\n",
              "  <script>\n",
              "    async function quickchart(key) {\n",
              "      const quickchartButtonEl =\n",
              "        document.querySelector('#' + key + ' button');\n",
              "      quickchartButtonEl.disabled = true;  // To prevent multiple clicks.\n",
              "      quickchartButtonEl.classList.add('colab-df-spinner');\n",
              "      try {\n",
              "        const charts = await google.colab.kernel.invokeFunction(\n",
              "            'suggestCharts', [key], {});\n",
              "      } catch (error) {\n",
              "        console.error('Error during call to suggestCharts:', error);\n",
              "      }\n",
              "      quickchartButtonEl.classList.remove('colab-df-spinner');\n",
              "      quickchartButtonEl.classList.add('colab-df-quickchart-complete');\n",
              "    }\n",
              "    (() => {\n",
              "      let quickchartButtonEl =\n",
              "        document.querySelector('#df-25339092-707d-44e2-bb14-a68e5a443c20 button');\n",
              "      quickchartButtonEl.style.display =\n",
              "        google.colab.kernel.accessAllowed ? 'block' : 'none';\n",
              "    })();\n",
              "  </script>\n",
              "</div>\n",
              "\n",
              "    </div>\n",
              "  </div>\n"
            ],
            "application/vnd.google.colaboratory.intrinsic+json": {
              "type": "dataframe",
              "variable_name": "data_X",
              "summary": "{\n  \"name\": \"data_X\",\n  \"rows\": 345,\n  \"fields\": [\n    {\n      \"column\": \"V1\",\n      \"properties\": {\n        \"dtype\": \"number\",\n        \"std\": 4,\n        \"min\": 65,\n        \"max\": 103,\n        \"num_unique_values\": 26,\n        \"samples\": [\n          89,\n          83,\n          85\n        ],\n        \"semantic_type\": \"\",\n        \"description\": \"\"\n      }\n    },\n    {\n      \"column\": \"V2\",\n      \"properties\": {\n        \"dtype\": \"number\",\n        \"std\": 18,\n        \"min\": 23,\n        \"max\": 138,\n        \"num_unique_values\": 78,\n        \"samples\": [\n          50,\n          92,\n          75\n        ],\n        \"semantic_type\": \"\",\n        \"description\": \"\"\n      }\n    },\n    {\n      \"column\": \"V3\",\n      \"properties\": {\n        \"dtype\": \"number\",\n        \"std\": 19,\n        \"min\": 4,\n        \"max\": 155,\n        \"num_unique_values\": 67,\n        \"samples\": [\n          42,\n          18,\n          12\n        ],\n        \"semantic_type\": \"\",\n        \"description\": \"\"\n      }\n    },\n    {\n      \"column\": \"V4\",\n      \"properties\": {\n        \"dtype\": \"number\",\n        \"std\": 10,\n        \"min\": 5,\n        \"max\": 82,\n        \"num_unique_values\": 47,\n        \"samples\": [\n          30,\n          41,\n          8\n        ],\n        \"semantic_type\": \"\",\n        \"description\": \"\"\n      }\n    },\n    {\n      \"column\": \"V5\",\n      \"properties\": {\n        \"dtype\": \"number\",\n        \"std\": 39,\n        \"min\": 5,\n        \"max\": 297,\n        \"num_unique_values\": 94,\n        \"samples\": [\n          53,\n          82,\n          37\n        ],\n        \"semantic_type\": \"\",\n        \"description\": \"\"\n      }\n    },\n    {\n      \"column\": \"V6\",\n      \"properties\": {\n        \"dtype\": \"number\",\n        \"std\": 3.337835264577128,\n        \"min\": 0.0,\n        \"max\": 20.0,\n        \"num_unique_values\": 16,\n        \"samples\": [\n          0.0,\n          0.5,\n          4.0\n        ],\n        \"semantic_type\": \"\",\n        \"description\": \"\"\n      }\n    }\n  ]\n}"
            }
          },
          "metadata": {},
          "execution_count": 53
        }
      ],
      "source": [
        "data_X = pd.DataFrame(data.drop('V7', axis=1))\n",
        "data_X.head()"
      ]
    },
    {
      "cell_type": "code",
      "execution_count": 54,
      "metadata": {
        "id": "KCCze_aBF6PF",
        "outputId": "c6c85ae6-e15a-450f-fbb3-cc48b79af6a2",
        "colab": {
          "base_uri": "https://localhost:8080/"
        }
      },
      "outputs": [
        {
          "output_type": "execute_result",
          "data": {
            "text/plain": [
              "ShapiroResult(statistic=0.9721211791038513, pvalue=3.340998546264018e-06)"
            ]
          },
          "metadata": {},
          "execution_count": 54
        }
      ],
      "source": [
        "#Prueba de normalidad\n",
        "stats.shapiro(data_X.V1)"
      ]
    },
    {
      "cell_type": "code",
      "execution_count": 55,
      "metadata": {
        "id": "_NMzjKnTF6PG",
        "outputId": "82637fdd-800b-4f5e-ed9a-c26674555909",
        "colab": {
          "base_uri": "https://localhost:8080/"
        }
      },
      "outputs": [
        {
          "output_type": "execute_result",
          "data": {
            "text/plain": [
              "ShapiroResult(statistic=0.9662437438964844, pvalue=3.605003939810558e-07)"
            ]
          },
          "metadata": {},
          "execution_count": 55
        }
      ],
      "source": [
        "stats.shapiro(data_X.V2)"
      ]
    },
    {
      "cell_type": "code",
      "execution_count": 56,
      "metadata": {
        "id": "c9rj3e_6F6PG",
        "outputId": "db4b733a-ecf8-4104-a901-bfbf9b52c5c0",
        "colab": {
          "base_uri": "https://localhost:8080/"
        }
      },
      "outputs": [
        {
          "output_type": "execute_result",
          "data": {
            "text/plain": [
              "ShapiroResult(statistic=0.7289112210273743, pvalue=2.580097543764146e-23)"
            ]
          },
          "metadata": {},
          "execution_count": 56
        }
      ],
      "source": [
        "stats.shapiro(data_X.V3)"
      ]
    },
    {
      "cell_type": "code",
      "execution_count": 57,
      "metadata": {
        "id": "SZDVEfimF6PG",
        "outputId": "768d23c5-2c33-4053-e5c9-18eca5f51b01",
        "colab": {
          "base_uri": "https://localhost:8080/"
        }
      },
      "outputs": [
        {
          "output_type": "execute_result",
          "data": {
            "text/plain": [
              "ShapiroResult(statistic=0.8149621486663818, pvalue=1.402879061091299e-19)"
            ]
          },
          "metadata": {},
          "execution_count": 57
        }
      ],
      "source": [
        "stats.shapiro(data_X.V4)"
      ]
    },
    {
      "cell_type": "code",
      "execution_count": 58,
      "metadata": {
        "id": "XIXhVUlEF6PH",
        "outputId": "51d7155e-3603-4199-b031-1b57f76e8bf6",
        "colab": {
          "base_uri": "https://localhost:8080/"
        }
      },
      "outputs": [
        {
          "output_type": "execute_result",
          "data": {
            "text/plain": [
              "ShapiroResult(statistic=0.6839386224746704, pvalue=6.481027775730031e-25)"
            ]
          },
          "metadata": {},
          "execution_count": 58
        }
      ],
      "source": [
        "stats.shapiro(data_X.V5)"
      ]
    },
    {
      "cell_type": "code",
      "execution_count": 59,
      "metadata": {
        "id": "CAtD6cCPF6PH",
        "outputId": "bea23eef-4521-4e94-dc66-c6b9a74cd861",
        "colab": {
          "base_uri": "https://localhost:8080/"
        }
      },
      "outputs": [
        {
          "output_type": "execute_result",
          "data": {
            "text/plain": [
              "ShapiroResult(statistic=0.8354933261871338, pvalue=1.686413543264296e-18)"
            ]
          },
          "metadata": {},
          "execution_count": 59
        }
      ],
      "source": [
        "stats.shapiro(data_X.V6)"
      ]
    },
    {
      "cell_type": "code",
      "execution_count": 60,
      "metadata": {
        "id": "zUttY9FsF6PH"
      },
      "outputs": [],
      "source": [
        "#Con un nivel de confianza del 95%, las variables no se aproximan a una distribución normal\n",
        "#Sólo se usará este tratamiento para fines explicativos, se debe de usar el \"Tratamiento 2\""
      ]
    },
    {
      "cell_type": "code",
      "execution_count": 61,
      "metadata": {
        "id": "WXw3kq-gF6PI",
        "outputId": "7962347a-975e-452d-afaf-d9b3dcde5359",
        "colab": {
          "base_uri": "https://localhost:8080/"
        }
      },
      "outputs": [
        {
          "output_type": "stream",
          "name": "stdout",
          "text": [
            "Más alto permitido 103.50370821474814\n"
          ]
        }
      ],
      "source": [
        "#Encontrando los valores límite\n",
        "print(\"Más alto permitido\",data_X['V1'].mean() + 3*data_X['V1'].std())"
      ]
    },
    {
      "cell_type": "code",
      "execution_count": 62,
      "metadata": {
        "id": "LZG-N8i0F6PI",
        "outputId": "2ffc1270-2131-490b-9098-d1b4a0deb059",
        "colab": {
          "base_uri": "https://localhost:8080/"
        }
      },
      "outputs": [
        {
          "output_type": "stream",
          "name": "stdout",
          "text": [
            "Lo más bajo permitido 76.81513236496201\n"
          ]
        }
      ],
      "source": [
        "print(\"Lo más bajo permitido\",data_X['V1'].mean() - 3*data_X['V1'].std())"
      ]
    },
    {
      "cell_type": "code",
      "execution_count": 63,
      "metadata": {
        "id": "C5SX8IAkF6PJ"
      },
      "outputs": [],
      "source": [
        "#Limitación de valores atípicos\n",
        "upper_limit = data_X['V1'].mean() + 3*data_X['V1'].std()\n",
        "lower_limit = data_X['V1'].mean() - 3*data_X['V1'].std()"
      ]
    },
    {
      "cell_type": "code",
      "execution_count": 64,
      "metadata": {
        "scrolled": false,
        "id": "8qXw-cYNF6PJ",
        "outputId": "880ccac4-331e-480c-dd09-ac728512b947",
        "colab": {
          "base_uri": "https://localhost:8080/",
          "height": 80
        }
      },
      "outputs": [
        {
          "output_type": "execute_result",
          "data": {
            "text/plain": [
              "     V1  V2  V3  V4  V5   V6\n",
              "223  65  63  19  20  14  0.5"
            ],
            "text/html": [
              "\n",
              "  <div id=\"df-bb1bd096-cb8b-4423-9d17-9d2b3f8def37\" class=\"colab-df-container\">\n",
              "    <div>\n",
              "<style scoped>\n",
              "    .dataframe tbody tr th:only-of-type {\n",
              "        vertical-align: middle;\n",
              "    }\n",
              "\n",
              "    .dataframe tbody tr th {\n",
              "        vertical-align: top;\n",
              "    }\n",
              "\n",
              "    .dataframe thead th {\n",
              "        text-align: right;\n",
              "    }\n",
              "</style>\n",
              "<table border=\"1\" class=\"dataframe\">\n",
              "  <thead>\n",
              "    <tr style=\"text-align: right;\">\n",
              "      <th></th>\n",
              "      <th>V1</th>\n",
              "      <th>V2</th>\n",
              "      <th>V3</th>\n",
              "      <th>V4</th>\n",
              "      <th>V5</th>\n",
              "      <th>V6</th>\n",
              "    </tr>\n",
              "  </thead>\n",
              "  <tbody>\n",
              "    <tr>\n",
              "      <th>223</th>\n",
              "      <td>65</td>\n",
              "      <td>63</td>\n",
              "      <td>19</td>\n",
              "      <td>20</td>\n",
              "      <td>14</td>\n",
              "      <td>0.5</td>\n",
              "    </tr>\n",
              "  </tbody>\n",
              "</table>\n",
              "</div>\n",
              "    <div class=\"colab-df-buttons\">\n",
              "\n",
              "  <div class=\"colab-df-container\">\n",
              "    <button class=\"colab-df-convert\" onclick=\"convertToInteractive('df-bb1bd096-cb8b-4423-9d17-9d2b3f8def37')\"\n",
              "            title=\"Convert this dataframe to an interactive table.\"\n",
              "            style=\"display:none;\">\n",
              "\n",
              "  <svg xmlns=\"http://www.w3.org/2000/svg\" height=\"24px\" viewBox=\"0 -960 960 960\">\n",
              "    <path d=\"M120-120v-720h720v720H120Zm60-500h600v-160H180v160Zm220 220h160v-160H400v160Zm0 220h160v-160H400v160ZM180-400h160v-160H180v160Zm440 0h160v-160H620v160ZM180-180h160v-160H180v160Zm440 0h160v-160H620v160Z\"/>\n",
              "  </svg>\n",
              "    </button>\n",
              "\n",
              "  <style>\n",
              "    .colab-df-container {\n",
              "      display:flex;\n",
              "      gap: 12px;\n",
              "    }\n",
              "\n",
              "    .colab-df-convert {\n",
              "      background-color: #E8F0FE;\n",
              "      border: none;\n",
              "      border-radius: 50%;\n",
              "      cursor: pointer;\n",
              "      display: none;\n",
              "      fill: #1967D2;\n",
              "      height: 32px;\n",
              "      padding: 0 0 0 0;\n",
              "      width: 32px;\n",
              "    }\n",
              "\n",
              "    .colab-df-convert:hover {\n",
              "      background-color: #E2EBFA;\n",
              "      box-shadow: 0px 1px 2px rgba(60, 64, 67, 0.3), 0px 1px 3px 1px rgba(60, 64, 67, 0.15);\n",
              "      fill: #174EA6;\n",
              "    }\n",
              "\n",
              "    .colab-df-buttons div {\n",
              "      margin-bottom: 4px;\n",
              "    }\n",
              "\n",
              "    [theme=dark] .colab-df-convert {\n",
              "      background-color: #3B4455;\n",
              "      fill: #D2E3FC;\n",
              "    }\n",
              "\n",
              "    [theme=dark] .colab-df-convert:hover {\n",
              "      background-color: #434B5C;\n",
              "      box-shadow: 0px 1px 3px 1px rgba(0, 0, 0, 0.15);\n",
              "      filter: drop-shadow(0px 1px 2px rgba(0, 0, 0, 0.3));\n",
              "      fill: #FFFFFF;\n",
              "    }\n",
              "  </style>\n",
              "\n",
              "    <script>\n",
              "      const buttonEl =\n",
              "        document.querySelector('#df-bb1bd096-cb8b-4423-9d17-9d2b3f8def37 button.colab-df-convert');\n",
              "      buttonEl.style.display =\n",
              "        google.colab.kernel.accessAllowed ? 'block' : 'none';\n",
              "\n",
              "      async function convertToInteractive(key) {\n",
              "        const element = document.querySelector('#df-bb1bd096-cb8b-4423-9d17-9d2b3f8def37');\n",
              "        const dataTable =\n",
              "          await google.colab.kernel.invokeFunction('convertToInteractive',\n",
              "                                                    [key], {});\n",
              "        if (!dataTable) return;\n",
              "\n",
              "        const docLinkHtml = 'Like what you see? Visit the ' +\n",
              "          '<a target=\"_blank\" href=https://colab.research.google.com/notebooks/data_table.ipynb>data table notebook</a>'\n",
              "          + ' to learn more about interactive tables.';\n",
              "        element.innerHTML = '';\n",
              "        dataTable['output_type'] = 'display_data';\n",
              "        await google.colab.output.renderOutput(dataTable, element);\n",
              "        const docLink = document.createElement('div');\n",
              "        docLink.innerHTML = docLinkHtml;\n",
              "        element.appendChild(docLink);\n",
              "      }\n",
              "    </script>\n",
              "  </div>\n",
              "\n",
              "\n",
              "    </div>\n",
              "  </div>\n"
            ],
            "application/vnd.google.colaboratory.intrinsic+json": {
              "type": "dataframe",
              "summary": "{\n  \"name\": \"data_X[(data_X['V1'] > upper_limit) | (data_X['V1'] < lower_limit)]\",\n  \"rows\": 1,\n  \"fields\": [\n    {\n      \"column\": \"V1\",\n      \"properties\": {\n        \"dtype\": \"number\",\n        \"std\": null,\n        \"min\": 65,\n        \"max\": 65,\n        \"num_unique_values\": 1,\n        \"samples\": [\n          65\n        ],\n        \"semantic_type\": \"\",\n        \"description\": \"\"\n      }\n    },\n    {\n      \"column\": \"V2\",\n      \"properties\": {\n        \"dtype\": \"number\",\n        \"std\": null,\n        \"min\": 63,\n        \"max\": 63,\n        \"num_unique_values\": 1,\n        \"samples\": [\n          63\n        ],\n        \"semantic_type\": \"\",\n        \"description\": \"\"\n      }\n    },\n    {\n      \"column\": \"V3\",\n      \"properties\": {\n        \"dtype\": \"number\",\n        \"std\": null,\n        \"min\": 19,\n        \"max\": 19,\n        \"num_unique_values\": 1,\n        \"samples\": [\n          19\n        ],\n        \"semantic_type\": \"\",\n        \"description\": \"\"\n      }\n    },\n    {\n      \"column\": \"V4\",\n      \"properties\": {\n        \"dtype\": \"number\",\n        \"std\": null,\n        \"min\": 20,\n        \"max\": 20,\n        \"num_unique_values\": 1,\n        \"samples\": [\n          20\n        ],\n        \"semantic_type\": \"\",\n        \"description\": \"\"\n      }\n    },\n    {\n      \"column\": \"V5\",\n      \"properties\": {\n        \"dtype\": \"number\",\n        \"std\": null,\n        \"min\": 14,\n        \"max\": 14,\n        \"num_unique_values\": 1,\n        \"samples\": [\n          14\n        ],\n        \"semantic_type\": \"\",\n        \"description\": \"\"\n      }\n    },\n    {\n      \"column\": \"V6\",\n      \"properties\": {\n        \"dtype\": \"number\",\n        \"std\": null,\n        \"min\": 0.5,\n        \"max\": 0.5,\n        \"num_unique_values\": 1,\n        \"samples\": [\n          0.5\n        ],\n        \"semantic_type\": \"\",\n        \"description\": \"\"\n      }\n    }\n  ]\n}"
            }
          },
          "metadata": {},
          "execution_count": 64
        }
      ],
      "source": [
        "#Encontrando los valores atípicos\n",
        "data_X[(data_X['V1'] > upper_limit) | (data_X['V1'] < lower_limit)]"
      ]
    },
    {
      "cell_type": "code",
      "execution_count": 65,
      "metadata": {
        "id": "hUTrxzlhF6PJ",
        "outputId": "1523f0ca-f370-40b5-c122-87761cf6f6a7",
        "colab": {
          "base_uri": "https://localhost:8080/"
        }
      },
      "outputs": [
        {
          "output_type": "execute_result",
          "data": {
            "text/plain": [
              "(345, 6)"
            ]
          },
          "metadata": {},
          "execution_count": 65
        }
      ],
      "source": [
        "data_X.shape"
      ]
    },
    {
      "cell_type": "code",
      "execution_count": 66,
      "metadata": {
        "id": "muZqhd7SF6PK",
        "outputId": "4ac5eea8-8bd4-41dc-a79e-211264dc0663",
        "colab": {
          "base_uri": "https://localhost:8080/"
        }
      },
      "outputs": [
        {
          "output_type": "execute_result",
          "data": {
            "text/plain": [
              "(344, 6)"
            ]
          },
          "metadata": {},
          "execution_count": 66
        }
      ],
      "source": [
        "#Recorte de valores atípicos\n",
        "new_df = data_X[(data_X['V1'] < upper_limit) & (data_X['V1'] > lower_limit)]\n",
        "new_df.shape"
      ]
    },
    {
      "cell_type": "code",
      "execution_count": 67,
      "metadata": {
        "id": "RgHxQysnF6PK"
      },
      "outputs": [],
      "source": [
        "#Aplicación de los límites: asignamos el upper_limit y lower_limit al dataset original data_X, ahora copiado en new_df_cap\n",
        "new_df_cap = data_X.copy()\n",
        "new_df_cap['V1'] = np.where(\n",
        "    new_df_cap['V1']>upper_limit,\n",
        "    upper_limit,\n",
        "    np.where(\n",
        "        new_df_cap['V1']<lower_limit,\n",
        "        lower_limit,\n",
        "        new_df_cap['V1']\n",
        "    )\n",
        ")"
      ]
    },
    {
      "cell_type": "code",
      "execution_count": 68,
      "metadata": {
        "id": "Sf-zeE-9F6PK",
        "outputId": "e0486cbc-a21a-429d-d5f6-4d9a08d3e6ae",
        "colab": {
          "base_uri": "https://localhost:8080/",
          "height": 53
        }
      },
      "outputs": [
        {
          "output_type": "execute_result",
          "data": {
            "text/plain": [
              "Empty DataFrame\n",
              "Columns: [V1, V2, V3, V4, V5, V6]\n",
              "Index: []"
            ],
            "text/html": [
              "\n",
              "  <div id=\"df-978de585-16eb-4637-aad6-d438a27e6b1c\" class=\"colab-df-container\">\n",
              "    <div>\n",
              "<style scoped>\n",
              "    .dataframe tbody tr th:only-of-type {\n",
              "        vertical-align: middle;\n",
              "    }\n",
              "\n",
              "    .dataframe tbody tr th {\n",
              "        vertical-align: top;\n",
              "    }\n",
              "\n",
              "    .dataframe thead th {\n",
              "        text-align: right;\n",
              "    }\n",
              "</style>\n",
              "<table border=\"1\" class=\"dataframe\">\n",
              "  <thead>\n",
              "    <tr style=\"text-align: right;\">\n",
              "      <th></th>\n",
              "      <th>V1</th>\n",
              "      <th>V2</th>\n",
              "      <th>V3</th>\n",
              "      <th>V4</th>\n",
              "      <th>V5</th>\n",
              "      <th>V6</th>\n",
              "    </tr>\n",
              "  </thead>\n",
              "  <tbody>\n",
              "  </tbody>\n",
              "</table>\n",
              "</div>\n",
              "    <div class=\"colab-df-buttons\">\n",
              "\n",
              "  <div class=\"colab-df-container\">\n",
              "    <button class=\"colab-df-convert\" onclick=\"convertToInteractive('df-978de585-16eb-4637-aad6-d438a27e6b1c')\"\n",
              "            title=\"Convert this dataframe to an interactive table.\"\n",
              "            style=\"display:none;\">\n",
              "\n",
              "  <svg xmlns=\"http://www.w3.org/2000/svg\" height=\"24px\" viewBox=\"0 -960 960 960\">\n",
              "    <path d=\"M120-120v-720h720v720H120Zm60-500h600v-160H180v160Zm220 220h160v-160H400v160Zm0 220h160v-160H400v160ZM180-400h160v-160H180v160Zm440 0h160v-160H620v160ZM180-180h160v-160H180v160Zm440 0h160v-160H620v160Z\"/>\n",
              "  </svg>\n",
              "    </button>\n",
              "\n",
              "  <style>\n",
              "    .colab-df-container {\n",
              "      display:flex;\n",
              "      gap: 12px;\n",
              "    }\n",
              "\n",
              "    .colab-df-convert {\n",
              "      background-color: #E8F0FE;\n",
              "      border: none;\n",
              "      border-radius: 50%;\n",
              "      cursor: pointer;\n",
              "      display: none;\n",
              "      fill: #1967D2;\n",
              "      height: 32px;\n",
              "      padding: 0 0 0 0;\n",
              "      width: 32px;\n",
              "    }\n",
              "\n",
              "    .colab-df-convert:hover {\n",
              "      background-color: #E2EBFA;\n",
              "      box-shadow: 0px 1px 2px rgba(60, 64, 67, 0.3), 0px 1px 3px 1px rgba(60, 64, 67, 0.15);\n",
              "      fill: #174EA6;\n",
              "    }\n",
              "\n",
              "    .colab-df-buttons div {\n",
              "      margin-bottom: 4px;\n",
              "    }\n",
              "\n",
              "    [theme=dark] .colab-df-convert {\n",
              "      background-color: #3B4455;\n",
              "      fill: #D2E3FC;\n",
              "    }\n",
              "\n",
              "    [theme=dark] .colab-df-convert:hover {\n",
              "      background-color: #434B5C;\n",
              "      box-shadow: 0px 1px 3px 1px rgba(0, 0, 0, 0.15);\n",
              "      filter: drop-shadow(0px 1px 2px rgba(0, 0, 0, 0.3));\n",
              "      fill: #FFFFFF;\n",
              "    }\n",
              "  </style>\n",
              "\n",
              "    <script>\n",
              "      const buttonEl =\n",
              "        document.querySelector('#df-978de585-16eb-4637-aad6-d438a27e6b1c button.colab-df-convert');\n",
              "      buttonEl.style.display =\n",
              "        google.colab.kernel.accessAllowed ? 'block' : 'none';\n",
              "\n",
              "      async function convertToInteractive(key) {\n",
              "        const element = document.querySelector('#df-978de585-16eb-4637-aad6-d438a27e6b1c');\n",
              "        const dataTable =\n",
              "          await google.colab.kernel.invokeFunction('convertToInteractive',\n",
              "                                                    [key], {});\n",
              "        if (!dataTable) return;\n",
              "\n",
              "        const docLinkHtml = 'Like what you see? Visit the ' +\n",
              "          '<a target=\"_blank\" href=https://colab.research.google.com/notebooks/data_table.ipynb>data table notebook</a>'\n",
              "          + ' to learn more about interactive tables.';\n",
              "        element.innerHTML = '';\n",
              "        dataTable['output_type'] = 'display_data';\n",
              "        await google.colab.output.renderOutput(dataTable, element);\n",
              "        const docLink = document.createElement('div');\n",
              "        docLink.innerHTML = docLinkHtml;\n",
              "        element.appendChild(docLink);\n",
              "      }\n",
              "    </script>\n",
              "  </div>\n",
              "\n",
              "\n",
              "    </div>\n",
              "  </div>\n"
            ],
            "application/vnd.google.colaboratory.intrinsic+json": {
              "type": "dataframe",
              "summary": "{\n  \"name\": \"new_df_cap[(new_df_cap['V1'] > upper_limit) | (new_df_cap['V1'] < lower_limit)]\",\n  \"rows\": 0,\n  \"fields\": [\n    {\n      \"column\": \"V1\",\n      \"properties\": {\n        \"dtype\": \"number\",\n        \"std\": null,\n        \"min\": null,\n        \"max\": null,\n        \"num_unique_values\": 0,\n        \"samples\": [],\n        \"semantic_type\": \"\",\n        \"description\": \"\"\n      }\n    },\n    {\n      \"column\": \"V2\",\n      \"properties\": {\n        \"dtype\": \"number\",\n        \"std\": null,\n        \"min\": null,\n        \"max\": null,\n        \"num_unique_values\": 0,\n        \"samples\": [],\n        \"semantic_type\": \"\",\n        \"description\": \"\"\n      }\n    },\n    {\n      \"column\": \"V3\",\n      \"properties\": {\n        \"dtype\": \"number\",\n        \"std\": null,\n        \"min\": null,\n        \"max\": null,\n        \"num_unique_values\": 0,\n        \"samples\": [],\n        \"semantic_type\": \"\",\n        \"description\": \"\"\n      }\n    },\n    {\n      \"column\": \"V4\",\n      \"properties\": {\n        \"dtype\": \"number\",\n        \"std\": null,\n        \"min\": null,\n        \"max\": null,\n        \"num_unique_values\": 0,\n        \"samples\": [],\n        \"semantic_type\": \"\",\n        \"description\": \"\"\n      }\n    },\n    {\n      \"column\": \"V5\",\n      \"properties\": {\n        \"dtype\": \"number\",\n        \"std\": null,\n        \"min\": null,\n        \"max\": null,\n        \"num_unique_values\": 0,\n        \"samples\": [],\n        \"semantic_type\": \"\",\n        \"description\": \"\"\n      }\n    },\n    {\n      \"column\": \"V6\",\n      \"properties\": {\n        \"dtype\": \"number\",\n        \"std\": null,\n        \"min\": null,\n        \"max\": null,\n        \"num_unique_values\": 0,\n        \"samples\": [],\n        \"semantic_type\": \"\",\n        \"description\": \"\"\n      }\n    }\n  ]\n}"
            }
          },
          "metadata": {},
          "execution_count": 68
        }
      ],
      "source": [
        "#Encontrando los valores atípicos, ya no los tiene\n",
        "new_df_cap[(new_df_cap['V1'] > upper_limit) | (new_df_cap['V1'] < lower_limit)]"
      ]
    },
    {
      "cell_type": "code",
      "execution_count": 69,
      "metadata": {
        "id": "hBxBBsOJF6PL",
        "outputId": "faf2b74b-a794-4169-d237-207c65d4b465",
        "colab": {
          "base_uri": "https://localhost:8080/"
        }
      },
      "outputs": [
        {
          "output_type": "execute_result",
          "data": {
            "text/plain": [
              "(345, 6)"
            ]
          },
          "metadata": {},
          "execution_count": 69
        }
      ],
      "source": [
        "#Mantenemos la misma cantidad de observaciones pero reemplazamos los valores atipicos en el datase copia del original new_df_cap\n",
        "new_df_cap.shape"
      ]
    },
    {
      "cell_type": "code",
      "execution_count": 83,
      "metadata": {
        "id": "khJy5xw7F6PL",
        "outputId": "6ecb00a4-29cf-4938-dfa8-bb916dd39055",
        "colab": {
          "base_uri": "https://localhost:8080/",
          "height": 338
        }
      },
      "outputs": [
        {
          "output_type": "execute_result",
          "data": {
            "text/plain": [
              "<Axes: ylabel='V1'>"
            ]
          },
          "metadata": {},
          "execution_count": 83
        },
        {
          "output_type": "display_data",
          "data": {
            "text/plain": [
              "<Figure size 1600x800 with 2 Axes>"
            ],
            "image/png": "[encoded data removed]"
          },
          "metadata": {}
        }
      ],
      "source": [
        "#Visualizamos la distribucion de los datos del dataset original data_X\n",
        "plt.figure(figsize=(16,8))\n",
        "plt.subplot(2,2,1)\n",
        "sns.histplot(data_X['V1'])\n",
        "plt.subplot(2,2,2)\n",
        "sns.boxplot(data_X['V1'])"
      ]
    },
    {
      "cell_type": "code",
      "source": [
        "#Visualizamos la distribucion de los datos del dataset new_df_cap (copia del original en el cual actualizamos los outliers con los valores\n",
        "# lower_limit y upper_limit\n",
        "plt.subplot(2,2,3)\n",
        "sns.histplot(new_df_cap['V1'])\n",
        "plt.subplot(2,2,4)\n",
        "sns.boxplot(new_df_cap['V1'])\n",
        "plt.show()"
      ],
      "metadata": {
        "colab": {
          "base_uri": "https://localhost:8080/",
          "height": 248
        },
        "id": "lQ2pewbSPsbb",
        "outputId": "ca9ff48f-b1f6-4e74-dd73-c2f2a9eb84ce"
      },
      "execution_count": 85,
      "outputs": [
        {
          "output_type": "display_data",
          "data": {
            "text/plain": [
              "<Figure size 640x480 with 2 Axes>"
            ],
            "image/png": "[encoded data removed]"
          },
          "metadata": {}
        }
      ]
    },
    {
      "cell_type": "code",
      "execution_count": 72,
      "metadata": {
        "id": "yxFsSxjhF6PM"
      },
      "outputs": [],
      "source": [
        "#2.Tratamiento 2\n",
        "#Las variables no se aproximan a una distribución normal"
      ]
    },
    {
      "cell_type": "code",
      "execution_count": 86,
      "metadata": {
        "id": "1H-s42i7F6PM",
        "outputId": "c5b37547-ea54-459b-d599-1f3fc4ff54b9",
        "colab": {
          "base_uri": "https://localhost:8080/",
          "height": 206
        }
      },
      "outputs": [
        {
          "output_type": "execute_result",
          "data": {
            "text/plain": [
              "   V1  V2  V3  V4  V5   V6\n",
              "0  85  92  45  27  31  0.0\n",
              "1  85  64  59  32  23  0.0\n",
              "2  86  54  33  16  54  0.0\n",
              "3  91  78  34  24  36  0.0\n",
              "4  87  70  12  28  10  0.0"
            ],
            "text/html": [
              "\n",
              "  <div id=\"df-efbdcf3b-d185-41ba-b03a-e50cf2a5bdc0\" class=\"colab-df-container\">\n",
              "    <div>\n",
              "<style scoped>\n",
              "    .dataframe tbody tr th:only-of-type {\n",
              "        vertical-align: middle;\n",
              "    }\n",
              "\n",
              "    .dataframe tbody tr th {\n",
              "        vertical-align: top;\n",
              "    }\n",
              "\n",
              "    .dataframe thead th {\n",
              "        text-align: right;\n",
              "    }\n",
              "</style>\n",
              "<table border=\"1\" class=\"dataframe\">\n",
              "  <thead>\n",
              "    <tr style=\"text-align: right;\">\n",
              "      <th></th>\n",
              "      <th>V1</th>\n",
              "      <th>V2</th>\n",
              "      <th>V3</th>\n",
              "      <th>V4</th>\n",
              "      <th>V5</th>\n",
              "      <th>V6</th>\n",
              "    </tr>\n",
              "  </thead>\n",
              "  <tbody>\n",
              "    <tr>\n",
              "      <th>0</th>\n",
              "      <td>85</td>\n",
              "      <td>92</td>\n",
              "      <td>45</td>\n",
              "      <td>27</td>\n",
              "      <td>31</td>\n",
              "      <td>0.0</td>\n",
              "    </tr>\n",
              "    <tr>\n",
              "      <th>1</th>\n",
              "      <td>85</td>\n",
              "      <td>64</td>\n",
              "      <td>59</td>\n",
              "      <td>32</td>\n",
              "      <td>23</td>\n",
              "      <td>0.0</td>\n",
              "    </tr>\n",
              "    <tr>\n",
              "      <th>2</th>\n",
              "      <td>86</td>\n",
              "      <td>54</td>\n",
              "      <td>33</td>\n",
              "      <td>16</td>\n",
              "      <td>54</td>\n",
              "      <td>0.0</td>\n",
              "    </tr>\n",
              "    <tr>\n",
              "      <th>3</th>\n",
              "      <td>91</td>\n",
              "      <td>78</td>\n",
              "      <td>34</td>\n",
              "      <td>24</td>\n",
              "      <td>36</td>\n",
              "      <td>0.0</td>\n",
              "    </tr>\n",
              "    <tr>\n",
              "      <th>4</th>\n",
              "      <td>87</td>\n",
              "      <td>70</td>\n",
              "      <td>12</td>\n",
              "      <td>28</td>\n",
              "      <td>10</td>\n",
              "      <td>0.0</td>\n",
              "    </tr>\n",
              "  </tbody>\n",
              "</table>\n",
              "</div>\n",
              "    <div class=\"colab-df-buttons\">\n",
              "\n",
              "  <div class=\"colab-df-container\">\n",
              "    <button class=\"colab-df-convert\" onclick=\"convertToInteractive('df-efbdcf3b-d185-41ba-b03a-e50cf2a5bdc0')\"\n",
              "            title=\"Convert this dataframe to an interactive table.\"\n",
              "            style=\"display:none;\">\n",
              "\n",
              "  <svg xmlns=\"http://www.w3.org/2000/svg\" height=\"24px\" viewBox=\"0 -960 960 960\">\n",
              "    <path d=\"M120-120v-720h720v720H120Zm60-500h600v-160H180v160Zm220 220h160v-160H400v160Zm0 220h160v-160H400v160ZM180-400h160v-160H180v160Zm440 0h160v-160H620v160ZM180-180h160v-160H180v160Zm440 0h160v-160H620v160Z\"/>\n",
              "  </svg>\n",
              "    </button>\n",
              "\n",
              "  <style>\n",
              "    .colab-df-container {\n",
              "      display:flex;\n",
              "      gap: 12px;\n",
              "    }\n",
              "\n",
              "    .colab-df-convert {\n",
              "      background-color: #E8F0FE;\n",
              "      border: none;\n",
              "      border-radius: 50%;\n",
              "      cursor: pointer;\n",
              "      display: none;\n",
              "      fill: #1967D2;\n",
              "      height: 32px;\n",
              "      padding: 0 0 0 0;\n",
              "      width: 32px;\n",
              "    }\n",
              "\n",
              "    .colab-df-convert:hover {\n",
              "      background-color: #E2EBFA;\n",
              "      box-shadow: 0px 1px 2px rgba(60, 64, 67, 0.3), 0px 1px 3px 1px rgba(60, 64, 67, 0.15);\n",
              "      fill: #174EA6;\n",
              "    }\n",
              "\n",
              "    .colab-df-buttons div {\n",
              "      margin-bottom: 4px;\n",
              "    }\n",
              "\n",
              "    [theme=dark] .colab-df-convert {\n",
              "      background-color: #3B4455;\n",
              "      fill: #D2E3FC;\n",
              "    }\n",
              "\n",
              "    [theme=dark] .colab-df-convert:hover {\n",
              "      background-color: #434B5C;\n",
              "      box-shadow: 0px 1px 3px 1px rgba(0, 0, 0, 0.15);\n",
              "      filter: drop-shadow(0px 1px 2px rgba(0, 0, 0, 0.3));\n",
              "      fill: #FFFFFF;\n",
              "    }\n",
              "  </style>\n",
              "\n",
              "    <script>\n",
              "      const buttonEl =\n",
              "        document.querySelector('#df-efbdcf3b-d185-41ba-b03a-e50cf2a5bdc0 button.colab-df-convert');\n",
              "      buttonEl.style.display =\n",
              "        google.colab.kernel.accessAllowed ? 'block' : 'none';\n",
              "\n",
              "      async function convertToInteractive(key) {\n",
              "        const element = document.querySelector('#df-efbdcf3b-d185-41ba-b03a-e50cf2a5bdc0');\n",
              "        const dataTable =\n",
              "          await google.colab.kernel.invokeFunction('convertToInteractive',\n",
              "                                                    [key], {});\n",
              "        if (!dataTable) return;\n",
              "\n",
              "        const docLinkHtml = 'Like what you see? Visit the ' +\n",
              "          '<a target=\"_blank\" href=https://colab.research.google.com/notebooks/data_table.ipynb>data table notebook</a>'\n",
              "          + ' to learn more about interactive tables.';\n",
              "        element.innerHTML = '';\n",
              "        dataTable['output_type'] = 'display_data';\n",
              "        await google.colab.output.renderOutput(dataTable, element);\n",
              "        const docLink = document.createElement('div');\n",
              "        docLink.innerHTML = docLinkHtml;\n",
              "        element.appendChild(docLink);\n",
              "      }\n",
              "    </script>\n",
              "  </div>\n",
              "\n",
              "\n",
              "<div id=\"df-0c81ae33-4db9-49a5-a682-f1b8791b46cd\">\n",
              "  <button class=\"colab-df-quickchart\" onclick=\"quickchart('df-0c81ae33-4db9-49a5-a682-f1b8791b46cd')\"\n",
              "            title=\"Suggest charts\"\n",
              "            style=\"display:none;\">\n",
              "\n",
              "<svg xmlns=\"http://www.w3.org/2000/svg\" height=\"24px\"viewBox=\"0 0 24 24\"\n",
              "     width=\"24px\">\n",
              "    <g>\n",
              "        <path d=\"M19 3H5c-1.1 0-2 .9-2 2v14c0 1.1.9 2 2 2h14c1.1 0 2-.9 2-2V5c0-1.1-.9-2-2-2zM9 17H7v-7h2v7zm4 0h-2V7h2v10zm4 0h-2v-4h2v4z\"/>\n",
              "    </g>\n",
              "</svg>\n",
              "  </button>\n",
              "\n",
              "<style>\n",
              "  .colab-df-quickchart {\n",
              "      --bg-color: #E8F0FE;\n",
              "      --fill-color: #1967D2;\n",
              "      --hover-bg-color: #E2EBFA;\n",
              "      --hover-fill-color: #174EA6;\n",
              "      --disabled-fill-color: #AAA;\n",
              "      --disabled-bg-color: #DDD;\n",
              "  }\n",
              "\n",
              "  [theme=dark] .colab-df-quickchart {\n",
              "      --bg-color: #3B4455;\n",
              "      --fill-color: #D2E3FC;\n",
              "      --hover-bg-color: #434B5C;\n",
              "      --hover-fill-color: #FFFFFF;\n",
              "      --disabled-bg-color: #3B4455;\n",
              "      --disabled-fill-color: #666;\n",
              "  }\n",
              "\n",
              "  .colab-df-quickchart {\n",
              "    background-color: var(--bg-color);\n",
              "    border: none;\n",
              "    border-radius: 50%;\n",
              "    cursor: pointer;\n",
              "    display: none;\n",
              "    fill: var(--fill-color);\n",
              "    height: 32px;\n",
              "    padding: 0;\n",
              "    width: 32px;\n",
              "  }\n",
              "\n",
              "  .colab-df-quickchart:hover {\n",
              "    background-color: var(--hover-bg-color);\n",
              "    box-shadow: 0 1px 2px rgba(60, 64, 67, 0.3), 0 1px 3px 1px rgba(60, 64, 67, 0.15);\n",
              "    fill: var(--button-hover-fill-color);\n",
              "  }\n",
              "\n",
              "  .colab-df-quickchart-complete:disabled,\n",
              "  .colab-df-quickchart-complete:disabled:hover {\n",
              "    background-color: var(--disabled-bg-color);\n",
              "    fill: var(--disabled-fill-color);\n",
              "    box-shadow: none;\n",
              "  }\n",
              "\n",
              "  .colab-df-spinner {\n",
              "    border: 2px solid var(--fill-color);\n",
              "    border-color: transparent;\n",
              "    border-bottom-color: var(--fill-color);\n",
              "    animation:\n",
              "      spin 1s steps(1) infinite;\n",
              "  }\n",
              "\n",
              "  @keyframes spin {\n",
              "    0% {\n",
              "      border-color: transparent;\n",
              "      border-bottom-color: var(--fill-color);\n",
              "      border-left-color: var(--fill-color);\n",
              "    }\n",
              "    20% {\n",
              "      border-color: transparent;\n",
              "      border-left-color: var(--fill-color);\n",
              "      border-top-color: var(--fill-color);\n",
              "    }\n",
              "    30% {\n",
              "      border-color: transparent;\n",
              "      border-left-color: var(--fill-color);\n",
              "      border-top-color: var(--fill-color);\n",
              "      border-right-color: var(--fill-color);\n",
              "    }\n",
              "    40% {\n",
              "      border-color: transparent;\n",
              "      border-right-color: var(--fill-color);\n",
              "      border-top-color: var(--fill-color);\n",
              "    }\n",
              "    60% {\n",
              "      border-color: transparent;\n",
              "      border-right-color: var(--fill-color);\n",
              "    }\n",
              "    80% {\n",
              "      border-color: transparent;\n",
              "      border-right-color: var(--fill-color);\n",
              "      border-bottom-color: var(--fill-color);\n",
              "    }\n",
              "    90% {\n",
              "      border-color: transparent;\n",
              "      border-bottom-color: var(--fill-color);\n",
              "    }\n",
              "  }\n",
              "</style>\n",
              "\n",
              "  <script>\n",
              "    async function quickchart(key) {\n",
              "      const quickchartButtonEl =\n",
              "        document.querySelector('#' + key + ' button');\n",
              "      quickchartButtonEl.disabled = true;  // To prevent multiple clicks.\n",
              "      quickchartButtonEl.classList.add('colab-df-spinner');\n",
              "      try {\n",
              "        const charts = await google.colab.kernel.invokeFunction(\n",
              "            'suggestCharts', [key], {});\n",
              "      } catch (error) {\n",
              "        console.error('Error during call to suggestCharts:', error);\n",
              "      }\n",
              "      quickchartButtonEl.classList.remove('colab-df-spinner');\n",
              "      quickchartButtonEl.classList.add('colab-df-quickchart-complete');\n",
              "    }\n",
              "    (() => {\n",
              "      let quickchartButtonEl =\n",
              "        document.querySelector('#df-0c81ae33-4db9-49a5-a682-f1b8791b46cd button');\n",
              "      quickchartButtonEl.style.display =\n",
              "        google.colab.kernel.accessAllowed ? 'block' : 'none';\n",
              "    })();\n",
              "  </script>\n",
              "</div>\n",
              "\n",
              "    </div>\n",
              "  </div>\n"
            ],
            "application/vnd.google.colaboratory.intrinsic+json": {
              "type": "dataframe",
              "variable_name": "data_X",
              "summary": "{\n  \"name\": \"data_X\",\n  \"rows\": 345,\n  \"fields\": [\n    {\n      \"column\": \"V1\",\n      \"properties\": {\n        \"dtype\": \"number\",\n        \"std\": 4,\n        \"min\": 65,\n        \"max\": 103,\n        \"num_unique_values\": 26,\n        \"samples\": [\n          89,\n          83,\n          85\n        ],\n        \"semantic_type\": \"\",\n        \"description\": \"\"\n      }\n    },\n    {\n      \"column\": \"V2\",\n      \"properties\": {\n        \"dtype\": \"number\",\n        \"std\": 18,\n        \"min\": 23,\n        \"max\": 138,\n        \"num_unique_values\": 78,\n        \"samples\": [\n          50,\n          92,\n          75\n        ],\n        \"semantic_type\": \"\",\n        \"description\": \"\"\n      }\n    },\n    {\n      \"column\": \"V3\",\n      \"properties\": {\n        \"dtype\": \"number\",\n        \"std\": 19,\n        \"min\": 4,\n        \"max\": 155,\n        \"num_unique_values\": 67,\n        \"samples\": [\n          42,\n          18,\n          12\n        ],\n        \"semantic_type\": \"\",\n        \"description\": \"\"\n      }\n    },\n    {\n      \"column\": \"V4\",\n      \"properties\": {\n        \"dtype\": \"number\",\n        \"std\": 10,\n        \"min\": 5,\n        \"max\": 82,\n        \"num_unique_values\": 47,\n        \"samples\": [\n          30,\n          41,\n          8\n        ],\n        \"semantic_type\": \"\",\n        \"description\": \"\"\n      }\n    },\n    {\n      \"column\": \"V5\",\n      \"properties\": {\n        \"dtype\": \"number\",\n        \"std\": 39,\n        \"min\": 5,\n        \"max\": 297,\n        \"num_unique_values\": 94,\n        \"samples\": [\n          53,\n          82,\n          37\n        ],\n        \"semantic_type\": \"\",\n        \"description\": \"\"\n      }\n    },\n    {\n      \"column\": \"V6\",\n      \"properties\": {\n        \"dtype\": \"number\",\n        \"std\": 3.337835264577128,\n        \"min\": 0.0,\n        \"max\": 20.0,\n        \"num_unique_values\": 16,\n        \"samples\": [\n          0.0,\n          0.5,\n          4.0\n        ],\n        \"semantic_type\": \"\",\n        \"description\": \"\"\n      }\n    }\n  ]\n}"
            }
          },
          "metadata": {},
          "execution_count": 86
        }
      ],
      "source": [
        "data_X = pd.DataFrame(data.drop('V7', axis=1))\n",
        "data_X.head()"
      ]
    },
    {
      "cell_type": "markdown",
      "source": [
        "![image.png](data:image/png;base64,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)"
      ],
      "metadata": {
        "id": "AdGEBEMXRm1x"
      }
    },
    {
      "cell_type": "code",
      "execution_count": 74,
      "metadata": {
        "id": "IPW8VTPaF6PM"
      },
      "outputs": [],
      "source": [
        "#Encontrando RIC (rango intercuartilico)\n",
        "percentile25 = data_X['V1'].quantile(0.25)\n",
        "percentile75 = data_X['V1'].quantile(0.75)\n",
        "ric = percentile75 - percentile25 #Equivale a Q3-Q1"
      ]
    },
    {
      "cell_type": "code",
      "execution_count": 75,
      "metadata": {
        "id": "m7m_dQwyF6PN"
      },
      "outputs": [],
      "source": [
        "#Limitación de valores atípicos\n",
        "upper_limit = percentile75 + 1.5 * ric # Equivale a Q3 + 1.5(ric)\n",
        "lower_limit = percentile25 - 1.5 * ric # Equivale a Q1 - 1.5(ric)"
      ]
    },
    {
      "cell_type": "code",
      "execution_count": 76,
      "metadata": {
        "scrolled": true,
        "id": "zrTB060PF6PN",
        "outputId": "fdbe2c16-f029-4b3a-ceba-41d639b86cc8",
        "colab": {
          "base_uri": "https://localhost:8080/",
          "height": 112
        }
      },
      "outputs": [
        {
          "output_type": "execute_result",
          "data": {
            "text/plain": [
              "      V1  V2  V3  V4  V5   V6\n",
              "68   103  75  19  30  13  1.0\n",
              "223   65  63  19  20  14  0.5"
            ],
            "text/html": [
              "\n",
              "  <div id=\"df-c57a7700-d1e4-414d-82bb-55577d4ae416\" class=\"colab-df-container\">\n",
              "    <div>\n",
              "<style scoped>\n",
              "    .dataframe tbody tr th:only-of-type {\n",
              "        vertical-align: middle;\n",
              "    }\n",
              "\n",
              "    .dataframe tbody tr th {\n",
              "        vertical-align: top;\n",
              "    }\n",
              "\n",
              "    .dataframe thead th {\n",
              "        text-align: right;\n",
              "    }\n",
              "</style>\n",
              "<table border=\"1\" class=\"dataframe\">\n",
              "  <thead>\n",
              "    <tr style=\"text-align: right;\">\n",
              "      <th></th>\n",
              "      <th>V1</th>\n",
              "      <th>V2</th>\n",
              "      <th>V3</th>\n",
              "      <th>V4</th>\n",
              "      <th>V5</th>\n",
              "      <th>V6</th>\n",
              "    </tr>\n",
              "  </thead>\n",
              "  <tbody>\n",
              "    <tr>\n",
              "      <th>68</th>\n",
              "      <td>103</td>\n",
              "      <td>75</td>\n",
              "      <td>19</td>\n",
              "      <td>30</td>\n",
              "      <td>13</td>\n",
              "      <td>1.0</td>\n",
              "    </tr>\n",
              "    <tr>\n",
              "      <th>223</th>\n",
              "      <td>65</td>\n",
              "      <td>63</td>\n",
              "      <td>19</td>\n",
              "      <td>20</td>\n",
              "      <td>14</td>\n",
              "      <td>0.5</td>\n",
              "    </tr>\n",
              "  </tbody>\n",
              "</table>\n",
              "</div>\n",
              "    <div class=\"colab-df-buttons\">\n",
              "\n",
              "  <div class=\"colab-df-container\">\n",
              "    <button class=\"colab-df-convert\" onclick=\"convertToInteractive('df-c57a7700-d1e4-414d-82bb-55577d4ae416')\"\n",
              "            title=\"Convert this dataframe to an interactive table.\"\n",
              "            style=\"display:none;\">\n",
              "\n",
              "  <svg xmlns=\"http://www.w3.org/2000/svg\" height=\"24px\" viewBox=\"0 -960 960 960\">\n",
              "    <path d=\"M120-120v-720h720v720H120Zm60-500h600v-160H180v160Zm220 220h160v-160H400v160Zm0 220h160v-160H400v160ZM180-400h160v-160H180v160Zm440 0h160v-160H620v160ZM180-180h160v-160H180v160Zm440 0h160v-160H620v160Z\"/>\n",
              "  </svg>\n",
              "    </button>\n",
              "\n",
              "  <style>\n",
              "    .colab-df-container {\n",
              "      display:flex;\n",
              "      gap: 12px;\n",
              "    }\n",
              "\n",
              "    .colab-df-convert {\n",
              "      background-color: #E8F0FE;\n",
              "      border: none;\n",
              "      border-radius: 50%;\n",
              "      cursor: pointer;\n",
              "      display: none;\n",
              "      fill: #1967D2;\n",
              "      height: 32px;\n",
              "      padding: 0 0 0 0;\n",
              "      width: 32px;\n",
              "    }\n",
              "\n",
              "    .colab-df-convert:hover {\n",
              "      background-color: #E2EBFA;\n",
              "      box-shadow: 0px 1px 2px rgba(60, 64, 67, 0.3), 0px 1px 3px 1px rgba(60, 64, 67, 0.15);\n",
              "      fill: #174EA6;\n",
              "    }\n",
              "\n",
              "    .colab-df-buttons div {\n",
              "      margin-bottom: 4px;\n",
              "    }\n",
              "\n",
              "    [theme=dark] .colab-df-convert {\n",
              "      background-color: #3B4455;\n",
              "      fill: #D2E3FC;\n",
              "    }\n",
              "\n",
              "    [theme=dark] .colab-df-convert:hover {\n",
              "      background-color: #434B5C;\n",
              "      box-shadow: 0px 1px 3px 1px rgba(0, 0, 0, 0.15);\n",
              "      filter: drop-shadow(0px 1px 2px rgba(0, 0, 0, 0.3));\n",
              "      fill: #FFFFFF;\n",
              "    }\n",
              "  </style>\n",
              "\n",
              "    <script>\n",
              "      const buttonEl =\n",
              "        document.querySelector('#df-c57a7700-d1e4-414d-82bb-55577d4ae416 button.colab-df-convert');\n",
              "      buttonEl.style.display =\n",
              "        google.colab.kernel.accessAllowed ? 'block' : 'none';\n",
              "\n",
              "      async function convertToInteractive(key) {\n",
              "        const element = document.querySelector('#df-c57a7700-d1e4-414d-82bb-55577d4ae416');\n",
              "        const dataTable =\n",
              "          await google.colab.kernel.invokeFunction('convertToInteractive',\n",
              "                                                    [key], {});\n",
              "        if (!dataTable) return;\n",
              "\n",
              "        const docLinkHtml = 'Like what you see? Visit the ' +\n",
              "          '<a target=\"_blank\" href=https://colab.research.google.com/notebooks/data_table.ipynb>data table notebook</a>'\n",
              "          + ' to learn more about interactive tables.';\n",
              "        element.innerHTML = '';\n",
              "        dataTable['output_type'] = 'display_data';\n",
              "        await google.colab.output.renderOutput(dataTable, element);\n",
              "        const docLink = document.createElement('div');\n",
              "        docLink.innerHTML = docLinkHtml;\n",
              "        element.appendChild(docLink);\n",
              "      }\n",
              "    </script>\n",
              "  </div>\n",
              "\n",
              "\n",
              "<div id=\"df-b651e286-c0ce-4658-a402-3b3f7de1b7f4\">\n",
              "  <button class=\"colab-df-quickchart\" onclick=\"quickchart('df-b651e286-c0ce-4658-a402-3b3f7de1b7f4')\"\n",
              "            title=\"Suggest charts\"\n",
              "            style=\"display:none;\">\n",
              "\n",
              "<svg xmlns=\"http://www.w3.org/2000/svg\" height=\"24px\"viewBox=\"0 0 24 24\"\n",
              "     width=\"24px\">\n",
              "    <g>\n",
              "        <path d=\"M19 3H5c-1.1 0-2 .9-2 2v14c0 1.1.9 2 2 2h14c1.1 0 2-.9 2-2V5c0-1.1-.9-2-2-2zM9 17H7v-7h2v7zm4 0h-2V7h2v10zm4 0h-2v-4h2v4z\"/>\n",
              "    </g>\n",
              "</svg>\n",
              "  </button>\n",
              "\n",
              "<style>\n",
              "  .colab-df-quickchart {\n",
              "      --bg-color: #E8F0FE;\n",
              "      --fill-color: #1967D2;\n",
              "      --hover-bg-color: #E2EBFA;\n",
              "      --hover-fill-color: #174EA6;\n",
              "      --disabled-fill-color: #AAA;\n",
              "      --disabled-bg-color: #DDD;\n",
              "  }\n",
              "\n",
              "  [theme=dark] .colab-df-quickchart {\n",
              "      --bg-color: #3B4455;\n",
              "      --fill-color: #D2E3FC;\n",
              "      --hover-bg-color: #434B5C;\n",
              "      --hover-fill-color: #FFFFFF;\n",
              "      --disabled-bg-color: #3B4455;\n",
              "      --disabled-fill-color: #666;\n",
              "  }\n",
              "\n",
              "  .colab-df-quickchart {\n",
              "    background-color: var(--bg-color);\n",
              "    border: none;\n",
              "    border-radius: 50%;\n",
              "    cursor: pointer;\n",
              "    display: none;\n",
              "    fill: var(--fill-color);\n",
              "    height: 32px;\n",
              "    padding: 0;\n",
              "    width: 32px;\n",
              "  }\n",
              "\n",
              "  .colab-df-quickchart:hover {\n",
              "    background-color: var(--hover-bg-color);\n",
              "    box-shadow: 0 1px 2px rgba(60, 64, 67, 0.3), 0 1px 3px 1px rgba(60, 64, 67, 0.15);\n",
              "    fill: var(--button-hover-fill-color);\n",
              "  }\n",
              "\n",
              "  .colab-df-quickchart-complete:disabled,\n",
              "  .colab-df-quickchart-complete:disabled:hover {\n",
              "    background-color: var(--disabled-bg-color);\n",
              "    fill: var(--disabled-fill-color);\n",
              "    box-shadow: none;\n",
              "  }\n",
              "\n",
              "  .colab-df-spinner {\n",
              "    border: 2px solid var(--fill-color);\n",
              "    border-color: transparent;\n",
              "    border-bottom-color: var(--fill-color);\n",
              "    animation:\n",
              "      spin 1s steps(1) infinite;\n",
              "  }\n",
              "\n",
              "  @keyframes spin {\n",
              "    0% {\n",
              "      border-color: transparent;\n",
              "      border-bottom-color: var(--fill-color);\n",
              "      border-left-color: var(--fill-color);\n",
              "    }\n",
              "    20% {\n",
              "      border-color: transparent;\n",
              "      border-left-color: var(--fill-color);\n",
              "      border-top-color: var(--fill-color);\n",
              "    }\n",
              "    30% {\n",
              "      border-color: transparent;\n",
              "      border-left-color: var(--fill-color);\n",
              "      border-top-color: var(--fill-color);\n",
              "      border-right-color: var(--fill-color);\n",
              "    }\n",
              "    40% {\n",
              "      border-color: transparent;\n",
              "      border-right-color: var(--fill-color);\n",
              "      border-top-color: var(--fill-color);\n",
              "    }\n",
              "    60% {\n",
              "      border-color: transparent;\n",
              "      border-right-color: var(--fill-color);\n",
              "    }\n",
              "    80% {\n",
              "      border-color: transparent;\n",
              "      border-right-color: var(--fill-color);\n",
              "      border-bottom-color: var(--fill-color);\n",
              "    }\n",
              "    90% {\n",
              "      border-color: transparent;\n",
              "      border-bottom-color: var(--fill-color);\n",
              "    }\n",
              "  }\n",
              "</style>\n",
              "\n",
              "  <script>\n",
              "    async function quickchart(key) {\n",
              "      const quickchartButtonEl =\n",
              "        document.querySelector('#' + key + ' button');\n",
              "      quickchartButtonEl.disabled = true;  // To prevent multiple clicks.\n",
              "      quickchartButtonEl.classList.add('colab-df-spinner');\n",
              "      try {\n",
              "        const charts = await google.colab.kernel.invokeFunction(\n",
              "            'suggestCharts', [key], {});\n",
              "      } catch (error) {\n",
              "        console.error('Error during call to suggestCharts:', error);\n",
              "      }\n",
              "      quickchartButtonEl.classList.remove('colab-df-spinner');\n",
              "      quickchartButtonEl.classList.add('colab-df-quickchart-complete');\n",
              "    }\n",
              "    (() => {\n",
              "      let quickchartButtonEl =\n",
              "        document.querySelector('#df-b651e286-c0ce-4658-a402-3b3f7de1b7f4 button');\n",
              "      quickchartButtonEl.style.display =\n",
              "        google.colab.kernel.accessAllowed ? 'block' : 'none';\n",
              "    })();\n",
              "  </script>\n",
              "</div>\n",
              "\n",
              "    </div>\n",
              "  </div>\n"
            ],
            "application/vnd.google.colaboratory.intrinsic+json": {
              "type": "dataframe",
              "summary": "{\n  \"name\": \"data_X[(data_X['V1'] > upper_limit) | (data_X['V1'] < lower_limit)]\",\n  \"rows\": 2,\n  \"fields\": [\n    {\n      \"column\": \"V1\",\n      \"properties\": {\n        \"dtype\": \"number\",\n        \"std\": 26,\n        \"min\": 65,\n        \"max\": 103,\n        \"num_unique_values\": 2,\n        \"samples\": [\n          65,\n          103\n        ],\n        \"semantic_type\": \"\",\n        \"description\": \"\"\n      }\n    },\n    {\n      \"column\": \"V2\",\n      \"properties\": {\n        \"dtype\": \"number\",\n        \"std\": 8,\n        \"min\": 63,\n        \"max\": 75,\n        \"num_unique_values\": 2,\n        \"samples\": [\n          63,\n          75\n        ],\n        \"semantic_type\": \"\",\n        \"description\": \"\"\n      }\n    },\n    {\n      \"column\": \"V3\",\n      \"properties\": {\n        \"dtype\": \"number\",\n        \"std\": 0,\n        \"min\": 19,\n        \"max\": 19,\n        \"num_unique_values\": 1,\n        \"samples\": [\n          19\n        ],\n        \"semantic_type\": \"\",\n        \"description\": \"\"\n      }\n    },\n    {\n      \"column\": \"V4\",\n      \"properties\": {\n        \"dtype\": \"number\",\n        \"std\": 7,\n        \"min\": 20,\n        \"max\": 30,\n        \"num_unique_values\": 2,\n        \"samples\": [\n          20\n        ],\n        \"semantic_type\": \"\",\n        \"description\": \"\"\n      }\n    },\n    {\n      \"column\": \"V5\",\n      \"properties\": {\n        \"dtype\": \"number\",\n        \"std\": 0,\n        \"min\": 13,\n        \"max\": 14,\n        \"num_unique_values\": 2,\n        \"samples\": [\n          14\n        ],\n        \"semantic_type\": \"\",\n        \"description\": \"\"\n      }\n    },\n    {\n      \"column\": \"V6\",\n      \"properties\": {\n        \"dtype\": \"number\",\n        \"std\": 0.3535533905932738,\n        \"min\": 0.5,\n        \"max\": 1.0,\n        \"num_unique_values\": 2,\n        \"samples\": [\n          0.5\n        ],\n        \"semantic_type\": \"\",\n        \"description\": \"\"\n      }\n    }\n  ]\n}"
            }
          },
          "metadata": {},
          "execution_count": 76
        }
      ],
      "source": [
        "#Encontrando los valores atípicos\n",
        "data_X[(data_X['V1'] > upper_limit) | (data_X['V1'] < lower_limit)]"
      ]
    },
    {
      "cell_type": "code",
      "execution_count": 77,
      "metadata": {
        "id": "W2r4R5crF6PO",
        "outputId": "0994a5a0-4673-411f-b4ed-d419b59afd32",
        "colab": {
          "base_uri": "https://localhost:8080/"
        }
      },
      "outputs": [
        {
          "output_type": "execute_result",
          "data": {
            "text/plain": [
              "(343, 6)"
            ]
          },
          "metadata": {},
          "execution_count": 77
        }
      ],
      "source": [
        "#Aplicación de los límites: asignamos el upper_limit y lower_limit al dataset original data_X, ahora copiado en new_df\n",
        "new_df = data_X[data_X['V1'] < upper_limit]\n",
        "new_df.shape"
      ]
    },
    {
      "cell_type": "code",
      "execution_count": 78,
      "metadata": {
        "id": "k3LXz-_mF6PO"
      },
      "outputs": [],
      "source": [
        "#Aplicación de los límites: asignamos el upper_limit y lower_limit al dataset original data_X, ahora copiado en new_df_cap\n",
        "new_df_cap = data_X.copy()\n",
        "new_df_cap['V1'] = np.where(\n",
        "    new_df_cap['V1'] > upper_limit,\n",
        "    upper_limit,\n",
        "    np.where(\n",
        "        new_df_cap['V1'] < lower_limit,\n",
        "        lower_limit,\n",
        "        new_df_cap['V1']\n",
        "    )\n",
        ")"
      ]
    },
    {
      "cell_type": "code",
      "execution_count": 79,
      "metadata": {
        "id": "i406EE9oF6PO",
        "outputId": "1a345fd8-62fe-426a-ce1b-ec6ef48cc8cf",
        "colab": {
          "base_uri": "https://localhost:8080/",
          "height": 53
        }
      },
      "outputs": [
        {
          "output_type": "execute_result",
          "data": {
            "text/plain": [
              "Empty DataFrame\n",
              "Columns: [V1, V2, V3, V4, V5, V6]\n",
              "Index: []"
            ],
            "text/html": [
              "\n",
              "  <div id=\"df-95dd786b-6c13-4fe7-b707-c2e6143453f4\" class=\"colab-df-container\">\n",
              "    <div>\n",
              "<style scoped>\n",
              "    .dataframe tbody tr th:only-of-type {\n",
              "        vertical-align: middle;\n",
              "    }\n",
              "\n",
              "    .dataframe tbody tr th {\n",
              "        vertical-align: top;\n",
              "    }\n",
              "\n",
              "    .dataframe thead th {\n",
              "        text-align: right;\n",
              "    }\n",
              "</style>\n",
              "<table border=\"1\" class=\"dataframe\">\n",
              "  <thead>\n",
              "    <tr style=\"text-align: right;\">\n",
              "      <th></th>\n",
              "      <th>V1</th>\n",
              "      <th>V2</th>\n",
              "      <th>V3</th>\n",
              "      <th>V4</th>\n",
              "      <th>V5</th>\n",
              "      <th>V6</th>\n",
              "    </tr>\n",
              "  </thead>\n",
              "  <tbody>\n",
              "  </tbody>\n",
              "</table>\n",
              "</div>\n",
              "    <div class=\"colab-df-buttons\">\n",
              "\n",
              "  <div class=\"colab-df-container\">\n",
              "    <button class=\"colab-df-convert\" onclick=\"convertToInteractive('df-95dd786b-6c13-4fe7-b707-c2e6143453f4')\"\n",
              "            title=\"Convert this dataframe to an interactive table.\"\n",
              "            style=\"display:none;\">\n",
              "\n",
              "  <svg xmlns=\"http://www.w3.org/2000/svg\" height=\"24px\" viewBox=\"0 -960 960 960\">\n",
              "    <path d=\"M120-120v-720h720v720H120Zm60-500h600v-160H180v160Zm220 220h160v-160H400v160Zm0 220h160v-160H400v160ZM180-400h160v-160H180v160Zm440 0h160v-160H620v160ZM180-180h160v-160H180v160Zm440 0h160v-160H620v160Z\"/>\n",
              "  </svg>\n",
              "    </button>\n",
              "\n",
              "  <style>\n",
              "    .colab-df-container {\n",
              "      display:flex;\n",
              "      gap: 12px;\n",
              "    }\n",
              "\n",
              "    .colab-df-convert {\n",
              "      background-color: #E8F0FE;\n",
              "      border: none;\n",
              "      border-radius: 50%;\n",
              "      cursor: pointer;\n",
              "      display: none;\n",
              "      fill: #1967D2;\n",
              "      height: 32px;\n",
              "      padding: 0 0 0 0;\n",
              "      width: 32px;\n",
              "    }\n",
              "\n",
              "    .colab-df-convert:hover {\n",
              "      background-color: #E2EBFA;\n",
              "      box-shadow: 0px 1px 2px rgba(60, 64, 67, 0.3), 0px 1px 3px 1px rgba(60, 64, 67, 0.15);\n",
              "      fill: #174EA6;\n",
              "    }\n",
              "\n",
              "    .colab-df-buttons div {\n",
              "      margin-bottom: 4px;\n",
              "    }\n",
              "\n",
              "    [theme=dark] .colab-df-convert {\n",
              "      background-color: #3B4455;\n",
              "      fill: #D2E3FC;\n",
              "    }\n",
              "\n",
              "    [theme=dark] .colab-df-convert:hover {\n",
              "      background-color: #434B5C;\n",
              "      box-shadow: 0px 1px 3px 1px rgba(0, 0, 0, 0.15);\n",
              "      filter: drop-shadow(0px 1px 2px rgba(0, 0, 0, 0.3));\n",
              "      fill: #FFFFFF;\n",
              "    }\n",
              "  </style>\n",
              "\n",
              "    <script>\n",
              "      const buttonEl =\n",
              "        document.querySelector('#df-95dd786b-6c13-4fe7-b707-c2e6143453f4 button.colab-df-convert');\n",
              "      buttonEl.style.display =\n",
              "        google.colab.kernel.accessAllowed ? 'block' : 'none';\n",
              "\n",
              "      async function convertToInteractive(key) {\n",
              "        const element = document.querySelector('#df-95dd786b-6c13-4fe7-b707-c2e6143453f4');\n",
              "        const dataTable =\n",
              "          await google.colab.kernel.invokeFunction('convertToInteractive',\n",
              "                                                    [key], {});\n",
              "        if (!dataTable) return;\n",
              "\n",
              "        const docLinkHtml = 'Like what you see? Visit the ' +\n",
              "          '<a target=\"_blank\" href=https://colab.research.google.com/notebooks/data_table.ipynb>data table notebook</a>'\n",
              "          + ' to learn more about interactive tables.';\n",
              "        element.innerHTML = '';\n",
              "        dataTable['output_type'] = 'display_data';\n",
              "        await google.colab.output.renderOutput(dataTable, element);\n",
              "        const docLink = document.createElement('div');\n",
              "        docLink.innerHTML = docLinkHtml;\n",
              "        element.appendChild(docLink);\n",
              "      }\n",
              "    </script>\n",
              "  </div>\n",
              "\n",
              "\n",
              "    </div>\n",
              "  </div>\n"
            ],
            "application/vnd.google.colaboratory.intrinsic+json": {
              "type": "dataframe",
              "summary": "{\n  \"name\": \"new_df_cap[(new_df_cap['V1'] > upper_limit) | (new_df_cap['V1'] < lower_limit)]\",\n  \"rows\": 0,\n  \"fields\": [\n    {\n      \"column\": \"V1\",\n      \"properties\": {\n        \"dtype\": \"number\",\n        \"std\": null,\n        \"min\": null,\n        \"max\": null,\n        \"num_unique_values\": 0,\n        \"samples\": [],\n        \"semantic_type\": \"\",\n        \"description\": \"\"\n      }\n    },\n    {\n      \"column\": \"V2\",\n      \"properties\": {\n        \"dtype\": \"number\",\n        \"std\": null,\n        \"min\": null,\n        \"max\": null,\n        \"num_unique_values\": 0,\n        \"samples\": [],\n        \"semantic_type\": \"\",\n        \"description\": \"\"\n      }\n    },\n    {\n      \"column\": \"V3\",\n      \"properties\": {\n        \"dtype\": \"number\",\n        \"std\": null,\n        \"min\": null,\n        \"max\": null,\n        \"num_unique_values\": 0,\n        \"samples\": [],\n        \"semantic_type\": \"\",\n        \"description\": \"\"\n      }\n    },\n    {\n      \"column\": \"V4\",\n      \"properties\": {\n        \"dtype\": \"number\",\n        \"std\": null,\n        \"min\": null,\n        \"max\": null,\n        \"num_unique_values\": 0,\n        \"samples\": [],\n        \"semantic_type\": \"\",\n        \"description\": \"\"\n      }\n    },\n    {\n      \"column\": \"V5\",\n      \"properties\": {\n        \"dtype\": \"number\",\n        \"std\": null,\n        \"min\": null,\n        \"max\": null,\n        \"num_unique_values\": 0,\n        \"samples\": [],\n        \"semantic_type\": \"\",\n        \"description\": \"\"\n      }\n    },\n    {\n      \"column\": \"V6\",\n      \"properties\": {\n        \"dtype\": \"number\",\n        \"std\": null,\n        \"min\": null,\n        \"max\": null,\n        \"num_unique_values\": 0,\n        \"samples\": [],\n        \"semantic_type\": \"\",\n        \"description\": \"\"\n      }\n    }\n  ]\n}"
            }
          },
          "metadata": {},
          "execution_count": 79
        }
      ],
      "source": [
        "#Encontrando los valores atípicos, ya no los tiene la copia del dataset original\n",
        "new_df_cap[(new_df_cap['V1'] > upper_limit) | (new_df_cap['V1'] < lower_limit)]"
      ]
    },
    {
      "cell_type": "code",
      "execution_count": 80,
      "metadata": {
        "id": "UO9EOUqDF6PP",
        "outputId": "af7ec362-c4ee-4628-a420-be0522340b52",
        "colab": {
          "base_uri": "https://localhost:8080/"
        }
      },
      "outputs": [
        {
          "output_type": "execute_result",
          "data": {
            "text/plain": [
              "(345, 6)"
            ]
          },
          "metadata": {},
          "execution_count": 80
        }
      ],
      "source": [
        "#Mantenemos la misma cantidad de observaciones pero reemplazamos los valores atipicos en el datase copia del original new_df_cap\n",
        "new_df_cap.shape"
      ]
    },
    {
      "cell_type": "code",
      "execution_count": 87,
      "metadata": {
        "id": "yBgp1Q7PF6PP",
        "outputId": "17e6bf52-8c0b-4bc2-c67c-8f88fb44df3c",
        "colab": {
          "base_uri": "https://localhost:8080/",
          "height": 338
        }
      },
      "outputs": [
        {
          "output_type": "execute_result",
          "data": {
            "text/plain": [
              "<Axes: ylabel='V1'>"
            ]
          },
          "metadata": {},
          "execution_count": 87
        },
        {
          "output_type": "display_data",
          "data": {
            "text/plain": [
              "<Figure size 1600x800 with 2 Axes>"
            ],
            "image/png": "[encoded data removed]"
          },
          "metadata": {}
        }
      ],
      "source": [
        "#Visualizamos la distribucion de los datos del dataset original data_X.  Observamos que no sigue una distribucion normal.\n",
        "plt.figure(figsize=(16,8))\n",
        "plt.subplot(2,2,1)\n",
        "sns.histplot(data_X['V1'])\n",
        "plt.subplot(2,2,2)\n",
        "sns.boxplot(data_X['V1'])\n"
      ]
    },
    {
      "cell_type": "code",
      "source": [
        "#Visualizamos la distribucion de los datos del dataset new_df_cap (copia del original en el cual actualizamos los outliers con los valores\n",
        "# lower_limit y upper_limit).  Se observa una distribucion mas cerca a la normal.\n",
        "plt.figure(figsize=(16,8))\n",
        "plt.subplot(2,2,3)\n",
        "sns.histplot(new_df_cap['V1'])\n",
        "plt.subplot(2,2,4)\n",
        "sns.boxplot(new_df_cap['V1'])\n",
        "plt.show()"
      ],
      "metadata": {
        "colab": {
          "base_uri": "https://localhost:8080/",
          "height": 321
        },
        "id": "4GwYU2X-TKe1",
        "outputId": "f8fb4a70-14f8-457b-c44a-0bc9e13f5e13"
      },
      "execution_count": 89,
      "outputs": [
        {
          "output_type": "display_data",
          "data": {
            "text/plain": [
              "<Figure size 1600x800 with 2 Axes>"
            ],
            "image/png": "[encoded data removed]"
          },
          "metadata": {}
        }
      ]
    }
  ],
  "metadata": {
    "kernelspec": {
      "display_name": "Python 3 (ipykernel)",
      "language": "python",
      "name": "python3"
    },
    "language_info": {
      "codemirror_mode": {
        "name": "ipython",
        "version": 3
      },
      "file_extension": ".py",
      "mimetype": "text/x-python",
      "name": "python",
      "nbconvert_exporter": "python",
      "pygments_lexer": "ipython3",
      "version": "3.9.7"
    },
    "colab": {
      "provenance": []
    }
  },
  "nbformat": 4,
  "nbformat_minor": 0
}