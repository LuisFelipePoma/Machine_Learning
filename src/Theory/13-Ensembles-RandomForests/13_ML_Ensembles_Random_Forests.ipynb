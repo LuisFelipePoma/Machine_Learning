{
  "cells": [
    {
      "cell_type": "markdown",
      "metadata": {
        "id": "8nHbbD_qDn1N"
      },
      "source": [
        "### **CC57 - MACHINE LEARNING - ENSEMBLE DE CLASIFICADORES - RANDOM FORESTS**"
      ]
    },
    {
      "cell_type": "markdown",
      "metadata": {
        "id": "1yARjABlDn1Q"
      },
      "source": [
        "### **Comprensión del negocio**"
      ]
    },
    {
      "cell_type": "markdown",
      "metadata": {
        "id": "UQ7Xou8SDn1Q"
      },
      "source": [
        "**Objetivo del negocio:** Incrementar el marketshare de \"Perú Bank\" en el mercado de depósitos a plazo."
      ]
    },
    {
      "cell_type": "markdown",
      "metadata": {
        "id": "ba5ygDqwDn1R"
      },
      "source": [
        "**Objetivo de ML:** Predecir la probabilidad de que un cliente acepte el producto de depósito a plazo que ofrece **\"Perú Bank\"** mediante el canal de Call Center."
      ]
    },
    {
      "cell_type": "markdown",
      "metadata": {
        "id": "0lRoSgR7Dn1R"
      },
      "source": [
        "### **Comprensión de los datos**"
      ]
    },
    {
      "cell_type": "code",
      "execution_count": 1,
      "metadata": {
        "id": "f5qRKd9rDn1S"
      },
      "outputs": [],
      "source": [
        "import pandas as pd\n",
        "import matplotlib.pyplot as plt\n",
        "import seaborn as sns\n",
        "import numpy as np\n",
        "import scipy.stats as ss\n",
        "\n",
        "from sklearn.model_selection import train_test_split\n",
        "\n",
        "from sklearn.ensemble import RandomForestClassifier\n",
        "\n",
        "from sklearn.metrics import classification_report, confusion_matrix\n",
        "from sklearn.metrics import ConfusionMatrixDisplay\n",
        "from sklearn.metrics import roc_curve, auc, roc_auc_score\n",
        "\n",
        "from sklearn.preprocessing import StandardScaler\n",
        "from sklearn.preprocessing import LabelEncoder\n",
        "\n",
        "from sklearn.model_selection import cross_val_score\n",
        "from sklearn.model_selection import GridSearchCV"
      ]
    },
    {
      "cell_type": "code",
      "execution_count": 2,
      "metadata": {
        "id": "ezdtz0AsDn1U"
      },
      "outputs": [],
      "source": [
        "data = pd.read_csv('bank_deposit.csv')"
      ]
    },
    {
      "cell_type": "code",
      "execution_count": 3,
      "metadata": {
        "colab": {
          "base_uri": "https://localhost:8080/",
          "height": 206
        },
        "id": "m55Tw1hVDn1U",
        "outputId": "1f8d4309-0636-45eb-8d32-1672f2c0c1f1"
      },
      "outputs": [
        {
          "output_type": "execute_result",
          "data": {
            "text/plain": [
              "   idcliente  duration  previous  housing  campaign  loan  default  target  \\\n",
              "0          1       261         0        1         1     0        0       0   \n",
              "1          2        50         0        1         1     0        0       0   \n",
              "2          3      1492         0        1         1     0        0       0   \n",
              "3          4       104         0        1         1     0        0       0   \n",
              "4          5        13         0        1         1     0        0       0   \n",
              "\n",
              "   muestra  \n",
              "0        1  \n",
              "1        1  \n",
              "2        1  \n",
              "3        1  \n",
              "4        1  "
            ],
            "text/html": [
              "\n",
              "  <div id=\"df-38339481-690e-422c-8cca-986ed67ddec8\" class=\"colab-df-container\">\n",
              "    <div>\n",
              "<style scoped>\n",
              "    .dataframe tbody tr th:only-of-type {\n",
              "        vertical-align: middle;\n",
              "    }\n",
              "\n",
              "    .dataframe tbody tr th {\n",
              "        vertical-align: top;\n",
              "    }\n",
              "\n",
              "    .dataframe thead th {\n",
              "        text-align: right;\n",
              "    }\n",
              "</style>\n",
              "<table border=\"1\" class=\"dataframe\">\n",
              "  <thead>\n",
              "    <tr style=\"text-align: right;\">\n",
              "      <th></th>\n",
              "      <th>idcliente</th>\n",
              "      <th>duration</th>\n",
              "      <th>previous</th>\n",
              "      <th>housing</th>\n",
              "      <th>campaign</th>\n",
              "      <th>loan</th>\n",
              "      <th>default</th>\n",
              "      <th>target</th>\n",
              "      <th>muestra</th>\n",
              "    </tr>\n",
              "  </thead>\n",
              "  <tbody>\n",
              "    <tr>\n",
              "      <th>0</th>\n",
              "      <td>1</td>\n",
              "      <td>261</td>\n",
              "      <td>0</td>\n",
              "      <td>1</td>\n",
              "      <td>1</td>\n",
              "      <td>0</td>\n",
              "      <td>0</td>\n",
              "      <td>0</td>\n",
              "      <td>1</td>\n",
              "    </tr>\n",
              "    <tr>\n",
              "      <th>1</th>\n",
              "      <td>2</td>\n",
              "      <td>50</td>\n",
              "      <td>0</td>\n",
              "      <td>1</td>\n",
              "      <td>1</td>\n",
              "      <td>0</td>\n",
              "      <td>0</td>\n",
              "      <td>0</td>\n",
              "      <td>1</td>\n",
              "    </tr>\n",
              "    <tr>\n",
              "      <th>2</th>\n",
              "      <td>3</td>\n",
              "      <td>1492</td>\n",
              "      <td>0</td>\n",
              "      <td>1</td>\n",
              "      <td>1</td>\n",
              "      <td>0</td>\n",
              "      <td>0</td>\n",
              "      <td>0</td>\n",
              "      <td>1</td>\n",
              "    </tr>\n",
              "    <tr>\n",
              "      <th>3</th>\n",
              "      <td>4</td>\n",
              "      <td>104</td>\n",
              "      <td>0</td>\n",
              "      <td>1</td>\n",
              "      <td>1</td>\n",
              "      <td>0</td>\n",
              "      <td>0</td>\n",
              "      <td>0</td>\n",
              "      <td>1</td>\n",
              "    </tr>\n",
              "    <tr>\n",
              "      <th>4</th>\n",
              "      <td>5</td>\n",
              "      <td>13</td>\n",
              "      <td>0</td>\n",
              "      <td>1</td>\n",
              "      <td>1</td>\n",
              "      <td>0</td>\n",
              "      <td>0</td>\n",
              "      <td>0</td>\n",
              "      <td>1</td>\n",
              "    </tr>\n",
              "  </tbody>\n",
              "</table>\n",
              "</div>\n",
              "    <div class=\"colab-df-buttons\">\n",
              "\n",
              "  <div class=\"colab-df-container\">\n",
              "    <button class=\"colab-df-convert\" onclick=\"convertToInteractive('df-38339481-690e-422c-8cca-986ed67ddec8')\"\n",
              "            title=\"Convert this dataframe to an interactive table.\"\n",
              "            style=\"display:none;\">\n",
              "\n",
              "  <svg xmlns=\"http://www.w3.org/2000/svg\" height=\"24px\" viewBox=\"0 -960 960 960\">\n",
              "    <path d=\"M120-120v-720h720v720H120Zm60-500h600v-160H180v160Zm220 220h160v-160H400v160Zm0 220h160v-160H400v160ZM180-400h160v-160H180v160Zm440 0h160v-160H620v160ZM180-180h160v-160H180v160Zm440 0h160v-160H620v160Z\"/>\n",
              "  </svg>\n",
              "    </button>\n",
              "\n",
              "  <style>\n",
              "    .colab-df-container {\n",
              "      display:flex;\n",
              "      gap: 12px;\n",
              "    }\n",
              "\n",
              "    .colab-df-convert {\n",
              "      background-color: #E8F0FE;\n",
              "      border: none;\n",
              "      border-radius: 50%;\n",
              "      cursor: pointer;\n",
              "      display: none;\n",
              "      fill: #1967D2;\n",
              "      height: 32px;\n",
              "      padding: 0 0 0 0;\n",
              "      width: 32px;\n",
              "    }\n",
              "\n",
              "    .colab-df-convert:hover {\n",
              "      background-color: #E2EBFA;\n",
              "      box-shadow: 0px 1px 2px rgba(60, 64, 67, 0.3), 0px 1px 3px 1px rgba(60, 64, 67, 0.15);\n",
              "      fill: #174EA6;\n",
              "    }\n",
              "\n",
              "    .colab-df-buttons div {\n",
              "      margin-bottom: 4px;\n",
              "    }\n",
              "\n",
              "    [theme=dark] .colab-df-convert {\n",
              "      background-color: #3B4455;\n",
              "      fill: #D2E3FC;\n",
              "    }\n",
              "\n",
              "    [theme=dark] .colab-df-convert:hover {\n",
              "      background-color: #434B5C;\n",
              "      box-shadow: 0px 1px 3px 1px rgba(0, 0, 0, 0.15);\n",
              "      filter: drop-shadow(0px 1px 2px rgba(0, 0, 0, 0.3));\n",
              "      fill: #FFFFFF;\n",
              "    }\n",
              "  </style>\n",
              "\n",
              "    <script>\n",
              "      const buttonEl =\n",
              "        document.querySelector('#df-38339481-690e-422c-8cca-986ed67ddec8 button.colab-df-convert');\n",
              "      buttonEl.style.display =\n",
              "        google.colab.kernel.accessAllowed ? 'block' : 'none';\n",
              "\n",
              "      async function convertToInteractive(key) {\n",
              "        const element = document.querySelector('#df-38339481-690e-422c-8cca-986ed67ddec8');\n",
              "        const dataTable =\n",
              "          await google.colab.kernel.invokeFunction('convertToInteractive',\n",
              "                                                    [key], {});\n",
              "        if (!dataTable) return;\n",
              "\n",
              "        const docLinkHtml = 'Like what you see? Visit the ' +\n",
              "          '<a target=\"_blank\" href=https://colab.research.google.com/notebooks/data_table.ipynb>data table notebook</a>'\n",
              "          + ' to learn more about interactive tables.';\n",
              "        element.innerHTML = '';\n",
              "        dataTable['output_type'] = 'display_data';\n",
              "        await google.colab.output.renderOutput(dataTable, element);\n",
              "        const docLink = document.createElement('div');\n",
              "        docLink.innerHTML = docLinkHtml;\n",
              "        element.appendChild(docLink);\n",
              "      }\n",
              "    </script>\n",
              "  </div>\n",
              "\n",
              "\n",
              "<div id=\"df-8339332d-ae53-47bc-ac45-fbd7e67c4f6b\">\n",
              "  <button class=\"colab-df-quickchart\" onclick=\"quickchart('df-8339332d-ae53-47bc-ac45-fbd7e67c4f6b')\"\n",
              "            title=\"Suggest charts\"\n",
              "            style=\"display:none;\">\n",
              "\n",
              "<svg xmlns=\"http://www.w3.org/2000/svg\" height=\"24px\"viewBox=\"0 0 24 24\"\n",
              "     width=\"24px\">\n",
              "    <g>\n",
              "        <path d=\"M19 3H5c-1.1 0-2 .9-2 2v14c0 1.1.9 2 2 2h14c1.1 0 2-.9 2-2V5c0-1.1-.9-2-2-2zM9 17H7v-7h2v7zm4 0h-2V7h2v10zm4 0h-2v-4h2v4z\"/>\n",
              "    </g>\n",
              "</svg>\n",
              "  </button>\n",
              "\n",
              "<style>\n",
              "  .colab-df-quickchart {\n",
              "      --bg-color: #E8F0FE;\n",
              "      --fill-color: #1967D2;\n",
              "      --hover-bg-color: #E2EBFA;\n",
              "      --hover-fill-color: #174EA6;\n",
              "      --disabled-fill-color: #AAA;\n",
              "      --disabled-bg-color: #DDD;\n",
              "  }\n",
              "\n",
              "  [theme=dark] .colab-df-quickchart {\n",
              "      --bg-color: #3B4455;\n",
              "      --fill-color: #D2E3FC;\n",
              "      --hover-bg-color: #434B5C;\n",
              "      --hover-fill-color: #FFFFFF;\n",
              "      --disabled-bg-color: #3B4455;\n",
              "      --disabled-fill-color: #666;\n",
              "  }\n",
              "\n",
              "  .colab-df-quickchart {\n",
              "    background-color: var(--bg-color);\n",
              "    border: none;\n",
              "    border-radius: 50%;\n",
              "    cursor: pointer;\n",
              "    display: none;\n",
              "    fill: var(--fill-color);\n",
              "    height: 32px;\n",
              "    padding: 0;\n",
              "    width: 32px;\n",
              "  }\n",
              "\n",
              "  .colab-df-quickchart:hover {\n",
              "    background-color: var(--hover-bg-color);\n",
              "    box-shadow: 0 1px 2px rgba(60, 64, 67, 0.3), 0 1px 3px 1px rgba(60, 64, 67, 0.15);\n",
              "    fill: var(--button-hover-fill-color);\n",
              "  }\n",
              "\n",
              "  .colab-df-quickchart-complete:disabled,\n",
              "  .colab-df-quickchart-complete:disabled:hover {\n",
              "    background-color: var(--disabled-bg-color);\n",
              "    fill: var(--disabled-fill-color);\n",
              "    box-shadow: none;\n",
              "  }\n",
              "\n",
              "  .colab-df-spinner {\n",
              "    border: 2px solid var(--fill-color);\n",
              "    border-color: transparent;\n",
              "    border-bottom-color: var(--fill-color);\n",
              "    animation:\n",
              "      spin 1s steps(1) infinite;\n",
              "  }\n",
              "\n",
              "  @keyframes spin {\n",
              "    0% {\n",
              "      border-color: transparent;\n",
              "      border-bottom-color: var(--fill-color);\n",
              "      border-left-color: var(--fill-color);\n",
              "    }\n",
              "    20% {\n",
              "      border-color: transparent;\n",
              "      border-left-color: var(--fill-color);\n",
              "      border-top-color: var(--fill-color);\n",
              "    }\n",
              "    30% {\n",
              "      border-color: transparent;\n",
              "      border-left-color: var(--fill-color);\n",
              "      border-top-color: var(--fill-color);\n",
              "      border-right-color: var(--fill-color);\n",
              "    }\n",
              "    40% {\n",
              "      border-color: transparent;\n",
              "      border-right-color: var(--fill-color);\n",
              "      border-top-color: var(--fill-color);\n",
              "    }\n",
              "    60% {\n",
              "      border-color: transparent;\n",
              "      border-right-color: var(--fill-color);\n",
              "    }\n",
              "    80% {\n",
              "      border-color: transparent;\n",
              "      border-right-color: var(--fill-color);\n",
              "      border-bottom-color: var(--fill-color);\n",
              "    }\n",
              "    90% {\n",
              "      border-color: transparent;\n",
              "      border-bottom-color: var(--fill-color);\n",
              "    }\n",
              "  }\n",
              "</style>\n",
              "\n",
              "  <script>\n",
              "    async function quickchart(key) {\n",
              "      const quickchartButtonEl =\n",
              "        document.querySelector('#' + key + ' button');\n",
              "      quickchartButtonEl.disabled = true;  // To prevent multiple clicks.\n",
              "      quickchartButtonEl.classList.add('colab-df-spinner');\n",
              "      try {\n",
              "        const charts = await google.colab.kernel.invokeFunction(\n",
              "            'suggestCharts', [key], {});\n",
              "      } catch (error) {\n",
              "        console.error('Error during call to suggestCharts:', error);\n",
              "      }\n",
              "      quickchartButtonEl.classList.remove('colab-df-spinner');\n",
              "      quickchartButtonEl.classList.add('colab-df-quickchart-complete');\n",
              "    }\n",
              "    (() => {\n",
              "      let quickchartButtonEl =\n",
              "        document.querySelector('#df-8339332d-ae53-47bc-ac45-fbd7e67c4f6b button');\n",
              "      quickchartButtonEl.style.display =\n",
              "        google.colab.kernel.accessAllowed ? 'block' : 'none';\n",
              "    })();\n",
              "  </script>\n",
              "</div>\n",
              "\n",
              "    </div>\n",
              "  </div>\n"
            ],
            "application/vnd.google.colaboratory.intrinsic+json": {
              "type": "dataframe",
              "variable_name": "data",
              "summary": "{\n  \"name\": \"data\",\n  \"rows\": 10578,\n  \"fields\": [\n    {\n      \"column\": \"idcliente\",\n      \"properties\": {\n        \"dtype\": \"number\",\n        \"std\": 3053,\n        \"min\": 1,\n        \"max\": 10578,\n        \"num_unique_values\": 10578,\n        \"samples\": [\n          5358,\n          6596,\n          9606\n        ],\n        \"semantic_type\": \"\",\n        \"description\": \"\"\n      }\n    },\n    {\n      \"column\": \"duration\",\n      \"properties\": {\n        \"dtype\": \"number\",\n        \"std\": 348,\n        \"min\": 1,\n        \"max\": 3881,\n        \"num_unique_values\": 1418,\n        \"samples\": [\n          158,\n          428,\n          1553\n        ],\n        \"semantic_type\": \"\",\n        \"description\": \"\"\n      }\n    },\n    {\n      \"column\": \"previous\",\n      \"properties\": {\n        \"dtype\": \"number\",\n        \"std\": 2,\n        \"min\": 0,\n        \"max\": 58,\n        \"num_unique_values\": 33,\n        \"samples\": [\n          55,\n          15,\n          29\n        ],\n        \"semantic_type\": \"\",\n        \"description\": \"\"\n      }\n    },\n    {\n      \"column\": \"housing\",\n      \"properties\": {\n        \"dtype\": \"number\",\n        \"std\": 0,\n        \"min\": 0,\n        \"max\": 1,\n        \"num_unique_values\": 2,\n        \"samples\": [\n          0,\n          1\n        ],\n        \"semantic_type\": \"\",\n        \"description\": \"\"\n      }\n    },\n    {\n      \"column\": \"campaign\",\n      \"properties\": {\n        \"dtype\": \"number\",\n        \"std\": 2,\n        \"min\": 1,\n        \"max\": 36,\n        \"num_unique_values\": 33,\n        \"samples\": [\n          36,\n          11\n        ],\n        \"semantic_type\": \"\",\n        \"description\": \"\"\n      }\n    },\n    {\n      \"column\": \"loan\",\n      \"properties\": {\n        \"dtype\": \"number\",\n        \"std\": 0,\n        \"min\": 0,\n        \"max\": 1,\n        \"num_unique_values\": 2,\n        \"samples\": [\n          1,\n          0\n        ],\n        \"semantic_type\": \"\",\n        \"description\": \"\"\n      }\n    },\n    {\n      \"column\": \"default\",\n      \"properties\": {\n        \"dtype\": \"number\",\n        \"std\": 0,\n        \"min\": 0,\n        \"max\": 1,\n        \"num_unique_values\": 2,\n        \"samples\": [\n          1,\n          0\n        ],\n        \"semantic_type\": \"\",\n        \"description\": \"\"\n      }\n    },\n    {\n      \"column\": \"target\",\n      \"properties\": {\n        \"dtype\": \"number\",\n        \"std\": 0,\n        \"min\": 0,\n        \"max\": 1,\n        \"num_unique_values\": 2,\n        \"samples\": [\n          1,\n          0\n        ],\n        \"semantic_type\": \"\",\n        \"description\": \"\"\n      }\n    },\n    {\n      \"column\": \"muestra\",\n      \"properties\": {\n        \"dtype\": \"number\",\n        \"std\": 0,\n        \"min\": 0,\n        \"max\": 1,\n        \"num_unique_values\": 2,\n        \"samples\": [\n          0,\n          1\n        ],\n        \"semantic_type\": \"\",\n        \"description\": \"\"\n      }\n    }\n  ]\n}"
            }
          },
          "metadata": {},
          "execution_count": 3
        }
      ],
      "source": [
        "data.head(5)"
      ]
    },
    {
      "cell_type": "code",
      "execution_count": 4,
      "metadata": {
        "colab": {
          "base_uri": "https://localhost:8080/"
        },
        "id": "zV0yipAkDn1W",
        "outputId": "7ebeeffe-3528-4cf9-9abd-cfee4247a0fd"
      },
      "outputs": [
        {
          "output_type": "execute_result",
          "data": {
            "text/plain": [
              "idcliente    int64\n",
              "duration     int64\n",
              "previous     int64\n",
              "housing      int64\n",
              "campaign     int64\n",
              "loan         int64\n",
              "default      int64\n",
              "target       int64\n",
              "muestra      int64\n",
              "dtype: object"
            ]
          },
          "metadata": {},
          "execution_count": 4
        }
      ],
      "source": [
        "data.dtypes"
      ]
    },
    {
      "cell_type": "code",
      "execution_count": 5,
      "metadata": {
        "id": "3OOSGjMRDn1W"
      },
      "outputs": [],
      "source": [
        "data['housing'] = data['housing'].astype(object)\n",
        "data['loan'] = data['loan'].astype(object)\n",
        "data['default'] = data['default'].astype(object)"
      ]
    },
    {
      "cell_type": "code",
      "execution_count": 6,
      "metadata": {
        "scrolled": true,
        "colab": {
          "base_uri": "https://localhost:8080/"
        },
        "id": "b1y4n-pfDn1X",
        "outputId": "10043097-5b64-42bf-c52c-7bad1a8251d0"
      },
      "outputs": [
        {
          "output_type": "execute_result",
          "data": {
            "text/plain": [
              "idcliente     int64\n",
              "duration      int64\n",
              "previous      int64\n",
              "housing      object\n",
              "campaign      int64\n",
              "loan         object\n",
              "default      object\n",
              "target        int64\n",
              "muestra       int64\n",
              "dtype: object"
            ]
          },
          "metadata": {},
          "execution_count": 6
        }
      ],
      "source": [
        "data.dtypes"
      ]
    },
    {
      "cell_type": "code",
      "execution_count": 7,
      "metadata": {
        "scrolled": true,
        "colab": {
          "base_uri": "https://localhost:8080/",
          "height": 435
        },
        "id": "ft39qJ-GDn1Y",
        "outputId": "e735e074-e9e7-4b1a-b2b8-90e59b96fccf"
      },
      "outputs": [
        {
          "output_type": "display_data",
          "data": {
            "text/plain": [
              "<Figure size 640x480 with 2 Axes>"
            ],
            "image/png": "[encoded data removed]"
          },
          "metadata": {}
        }
      ],
      "source": [
        "#Heatmap\n",
        "sns.heatmap(data.loc[:,['duration','previous','campaign']].corr(method = \"spearman\"))\n",
        "plt.show()"
      ]
    },
    {
      "cell_type": "code",
      "execution_count": 8,
      "metadata": {
        "id": "KqJqpmi7Dn1Y"
      },
      "outputs": [],
      "source": [
        "#Prueba de Correlación\n",
        "#Ho: no existe correlación entre las variables\n",
        "#Ha: existe correlación entre las variables"
      ]
    },
    {
      "cell_type": "code",
      "execution_count": 9,
      "metadata": {
        "scrolled": true,
        "colab": {
          "base_uri": "https://localhost:8080/",
          "height": 143
        },
        "id": "7Q309wbGDn1Z",
        "outputId": "3e619658-b2ca-4b27-cdcc-b4d9b48e2111"
      },
      "outputs": [
        {
          "output_type": "execute_result",
          "data": {
            "text/plain": [
              "          duration  previous  campaign\n",
              "duration  1.000000  0.007392 -0.045111\n",
              "previous  0.007392  1.000000 -0.133380\n",
              "campaign -0.045111 -0.133380  1.000000"
            ],
            "text/html": [
              "\n",
              "  <div id=\"df-ba229c2d-ee96-4ab3-8a76-31575ab279b8\" class=\"colab-df-container\">\n",
              "    <div>\n",
              "<style scoped>\n",
              "    .dataframe tbody tr th:only-of-type {\n",
              "        vertical-align: middle;\n",
              "    }\n",
              "\n",
              "    .dataframe tbody tr th {\n",
              "        vertical-align: top;\n",
              "    }\n",
              "\n",
              "    .dataframe thead th {\n",
              "        text-align: right;\n",
              "    }\n",
              "</style>\n",
              "<table border=\"1\" class=\"dataframe\">\n",
              "  <thead>\n",
              "    <tr style=\"text-align: right;\">\n",
              "      <th></th>\n",
              "      <th>duration</th>\n",
              "      <th>previous</th>\n",
              "      <th>campaign</th>\n",
              "    </tr>\n",
              "  </thead>\n",
              "  <tbody>\n",
              "    <tr>\n",
              "      <th>duration</th>\n",
              "      <td>1.000000</td>\n",
              "      <td>0.007392</td>\n",
              "      <td>-0.045111</td>\n",
              "    </tr>\n",
              "    <tr>\n",
              "      <th>previous</th>\n",
              "      <td>0.007392</td>\n",
              "      <td>1.000000</td>\n",
              "      <td>-0.133380</td>\n",
              "    </tr>\n",
              "    <tr>\n",
              "      <th>campaign</th>\n",
              "      <td>-0.045111</td>\n",
              "      <td>-0.133380</td>\n",
              "      <td>1.000000</td>\n",
              "    </tr>\n",
              "  </tbody>\n",
              "</table>\n",
              "</div>\n",
              "    <div class=\"colab-df-buttons\">\n",
              "\n",
              "  <div class=\"colab-df-container\">\n",
              "    <button class=\"colab-df-convert\" onclick=\"convertToInteractive('df-ba229c2d-ee96-4ab3-8a76-31575ab279b8')\"\n",
              "            title=\"Convert this dataframe to an interactive table.\"\n",
              "            style=\"display:none;\">\n",
              "\n",
              "  <svg xmlns=\"http://www.w3.org/2000/svg\" height=\"24px\" viewBox=\"0 -960 960 960\">\n",
              "    <path d=\"M120-120v-720h720v720H120Zm60-500h600v-160H180v160Zm220 220h160v-160H400v160Zm0 220h160v-160H400v160ZM180-400h160v-160H180v160Zm440 0h160v-160H620v160ZM180-180h160v-160H180v160Zm440 0h160v-160H620v160Z\"/>\n",
              "  </svg>\n",
              "    </button>\n",
              "\n",
              "  <style>\n",
              "    .colab-df-container {\n",
              "      display:flex;\n",
              "      gap: 12px;\n",
              "    }\n",
              "\n",
              "    .colab-df-convert {\n",
              "      background-color: #E8F0FE;\n",
              "      border: none;\n",
              "      border-radius: 50%;\n",
              "      cursor: pointer;\n",
              "      display: none;\n",
              "      fill: #1967D2;\n",
              "      height: 32px;\n",
              "      padding: 0 0 0 0;\n",
              "      width: 32px;\n",
              "    }\n",
              "\n",
              "    .colab-df-convert:hover {\n",
              "      background-color: #E2EBFA;\n",
              "      box-shadow: 0px 1px 2px rgba(60, 64, 67, 0.3), 0px 1px 3px 1px rgba(60, 64, 67, 0.15);\n",
              "      fill: #174EA6;\n",
              "    }\n",
              "\n",
              "    .colab-df-buttons div {\n",
              "      margin-bottom: 4px;\n",
              "    }\n",
              "\n",
              "    [theme=dark] .colab-df-convert {\n",
              "      background-color: #3B4455;\n",
              "      fill: #D2E3FC;\n",
              "    }\n",
              "\n",
              "    [theme=dark] .colab-df-convert:hover {\n",
              "      background-color: #434B5C;\n",
              "      box-shadow: 0px 1px 3px 1px rgba(0, 0, 0, 0.15);\n",
              "      filter: drop-shadow(0px 1px 2px rgba(0, 0, 0, 0.3));\n",
              "      fill: #FFFFFF;\n",
              "    }\n",
              "  </style>\n",
              "\n",
              "    <script>\n",
              "      const buttonEl =\n",
              "        document.querySelector('#df-ba229c2d-ee96-4ab3-8a76-31575ab279b8 button.colab-df-convert');\n",
              "      buttonEl.style.display =\n",
              "        google.colab.kernel.accessAllowed ? 'block' : 'none';\n",
              "\n",
              "      async function convertToInteractive(key) {\n",
              "        const element = document.querySelector('#df-ba229c2d-ee96-4ab3-8a76-31575ab279b8');\n",
              "        const dataTable =\n",
              "          await google.colab.kernel.invokeFunction('convertToInteractive',\n",
              "                                                    [key], {});\n",
              "        if (!dataTable) return;\n",
              "\n",
              "        const docLinkHtml = 'Like what you see? Visit the ' +\n",
              "          '<a target=\"_blank\" href=https://colab.research.google.com/notebooks/data_table.ipynb>data table notebook</a>'\n",
              "          + ' to learn more about interactive tables.';\n",
              "        element.innerHTML = '';\n",
              "        dataTable['output_type'] = 'display_data';\n",
              "        await google.colab.output.renderOutput(dataTable, element);\n",
              "        const docLink = document.createElement('div');\n",
              "        docLink.innerHTML = docLinkHtml;\n",
              "        element.appendChild(docLink);\n",
              "      }\n",
              "    </script>\n",
              "  </div>\n",
              "\n",
              "\n",
              "<div id=\"df-d6d4f356-4414-4d79-a107-29fcfa0b8240\">\n",
              "  <button class=\"colab-df-quickchart\" onclick=\"quickchart('df-d6d4f356-4414-4d79-a107-29fcfa0b8240')\"\n",
              "            title=\"Suggest charts\"\n",
              "            style=\"display:none;\">\n",
              "\n",
              "<svg xmlns=\"http://www.w3.org/2000/svg\" height=\"24px\"viewBox=\"0 0 24 24\"\n",
              "     width=\"24px\">\n",
              "    <g>\n",
              "        <path d=\"M19 3H5c-1.1 0-2 .9-2 2v14c0 1.1.9 2 2 2h14c1.1 0 2-.9 2-2V5c0-1.1-.9-2-2-2zM9 17H7v-7h2v7zm4 0h-2V7h2v10zm4 0h-2v-4h2v4z\"/>\n",
              "    </g>\n",
              "</svg>\n",
              "  </button>\n",
              "\n",
              "<style>\n",
              "  .colab-df-quickchart {\n",
              "      --bg-color: #E8F0FE;\n",
              "      --fill-color: #1967D2;\n",
              "      --hover-bg-color: #E2EBFA;\n",
              "      --hover-fill-color: #174EA6;\n",
              "      --disabled-fill-color: #AAA;\n",
              "      --disabled-bg-color: #DDD;\n",
              "  }\n",
              "\n",
              "  [theme=dark] .colab-df-quickchart {\n",
              "      --bg-color: #3B4455;\n",
              "      --fill-color: #D2E3FC;\n",
              "      --hover-bg-color: #434B5C;\n",
              "      --hover-fill-color: #FFFFFF;\n",
              "      --disabled-bg-color: #3B4455;\n",
              "      --disabled-fill-color: #666;\n",
              "  }\n",
              "\n",
              "  .colab-df-quickchart {\n",
              "    background-color: var(--bg-color);\n",
              "    border: none;\n",
              "    border-radius: 50%;\n",
              "    cursor: pointer;\n",
              "    display: none;\n",
              "    fill: var(--fill-color);\n",
              "    height: 32px;\n",
              "    padding: 0;\n",
              "    width: 32px;\n",
              "  }\n",
              "\n",
              "  .colab-df-quickchart:hover {\n",
              "    background-color: var(--hover-bg-color);\n",
              "    box-shadow: 0 1px 2px rgba(60, 64, 67, 0.3), 0 1px 3px 1px rgba(60, 64, 67, 0.15);\n",
              "    fill: var(--button-hover-fill-color);\n",
              "  }\n",
              "\n",
              "  .colab-df-quickchart-complete:disabled,\n",
              "  .colab-df-quickchart-complete:disabled:hover {\n",
              "    background-color: var(--disabled-bg-color);\n",
              "    fill: var(--disabled-fill-color);\n",
              "    box-shadow: none;\n",
              "  }\n",
              "\n",
              "  .colab-df-spinner {\n",
              "    border: 2px solid var(--fill-color);\n",
              "    border-color: transparent;\n",
              "    border-bottom-color: var(--fill-color);\n",
              "    animation:\n",
              "      spin 1s steps(1) infinite;\n",
              "  }\n",
              "\n",
              "  @keyframes spin {\n",
              "    0% {\n",
              "      border-color: transparent;\n",
              "      border-bottom-color: var(--fill-color);\n",
              "      border-left-color: var(--fill-color);\n",
              "    }\n",
              "    20% {\n",
              "      border-color: transparent;\n",
              "      border-left-color: var(--fill-color);\n",
              "      border-top-color: var(--fill-color);\n",
              "    }\n",
              "    30% {\n",
              "      border-color: transparent;\n",
              "      border-left-color: var(--fill-color);\n",
              "      border-top-color: var(--fill-color);\n",
              "      border-right-color: var(--fill-color);\n",
              "    }\n",
              "    40% {\n",
              "      border-color: transparent;\n",
              "      border-right-color: var(--fill-color);\n",
              "      border-top-color: var(--fill-color);\n",
              "    }\n",
              "    60% {\n",
              "      border-color: transparent;\n",
              "      border-right-color: var(--fill-color);\n",
              "    }\n",
              "    80% {\n",
              "      border-color: transparent;\n",
              "      border-right-color: var(--fill-color);\n",
              "      border-bottom-color: var(--fill-color);\n",
              "    }\n",
              "    90% {\n",
              "      border-color: transparent;\n",
              "      border-bottom-color: var(--fill-color);\n",
              "    }\n",
              "  }\n",
              "</style>\n",
              "\n",
              "  <script>\n",
              "    async function quickchart(key) {\n",
              "      const quickchartButtonEl =\n",
              "        document.querySelector('#' + key + ' button');\n",
              "      quickchartButtonEl.disabled = true;  // To prevent multiple clicks.\n",
              "      quickchartButtonEl.classList.add('colab-df-spinner');\n",
              "      try {\n",
              "        const charts = await google.colab.kernel.invokeFunction(\n",
              "            'suggestCharts', [key], {});\n",
              "      } catch (error) {\n",
              "        console.error('Error during call to suggestCharts:', error);\n",
              "      }\n",
              "      quickchartButtonEl.classList.remove('colab-df-spinner');\n",
              "      quickchartButtonEl.classList.add('colab-df-quickchart-complete');\n",
              "    }\n",
              "    (() => {\n",
              "      let quickchartButtonEl =\n",
              "        document.querySelector('#df-d6d4f356-4414-4d79-a107-29fcfa0b8240 button');\n",
              "      quickchartButtonEl.style.display =\n",
              "        google.colab.kernel.accessAllowed ? 'block' : 'none';\n",
              "    })();\n",
              "  </script>\n",
              "</div>\n",
              "\n",
              "    </div>\n",
              "  </div>\n"
            ],
            "application/vnd.google.colaboratory.intrinsic+json": {
              "type": "dataframe",
              "summary": "{\n  \"name\": \"data\",\n  \"rows\": 3,\n  \"fields\": [\n    {\n      \"column\": \"duration\",\n      \"properties\": {\n        \"dtype\": \"number\",\n        \"std\": 0.5888244089759916,\n        \"min\": -0.0451110278144618,\n        \"max\": 1.0,\n        \"num_unique_values\": 3,\n        \"samples\": [\n          1.0,\n          0.007391554527368722,\n          -0.0451110278144618\n        ],\n        \"semantic_type\": \"\",\n        \"description\": \"\"\n      }\n    },\n    {\n      \"column\": \"previous\",\n      \"properties\": {\n        \"dtype\": \"number\",\n        \"std\": 0.6177429503537543,\n        \"min\": -0.13337989612024528,\n        \"max\": 1.0,\n        \"num_unique_values\": 3,\n        \"samples\": [\n          0.007391554527368722,\n          1.0,\n          -0.13337989612024528\n        ],\n        \"semantic_type\": \"\",\n        \"description\": \"\"\n      }\n    },\n    {\n      \"column\": \"campaign\",\n      \"properties\": {\n        \"dtype\": \"number\",\n        \"std\": 0.6304229324430971,\n        \"min\": -0.13337989612024528,\n        \"max\": 1.0,\n        \"num_unique_values\": 3,\n        \"samples\": [\n          -0.0451110278144618,\n          -0.13337989612024528,\n          1.0\n        ],\n        \"semantic_type\": \"\",\n        \"description\": \"\"\n      }\n    }\n  ]\n}"
            }
          },
          "metadata": {},
          "execution_count": 9
        }
      ],
      "source": [
        "data.loc[:,['duration','previous','campaign']].corr(method = \"spearman\")"
      ]
    },
    {
      "cell_type": "code",
      "execution_count": 10,
      "metadata": {
        "scrolled": true,
        "colab": {
          "base_uri": "https://localhost:8080/"
        },
        "id": "IwLuQQSkDn1Z",
        "outputId": "7bbdd773-28f7-407d-e373-ba5eff482dc8"
      },
      "outputs": [
        {
          "output_type": "execute_result",
          "data": {
            "text/plain": [
              "dtype('int64')"
            ]
          },
          "metadata": {},
          "execution_count": 10
        }
      ],
      "source": [
        "data['target'].dtype"
      ]
    },
    {
      "cell_type": "code",
      "execution_count": 11,
      "metadata": {
        "id": "X_W0jyBADn1a"
      },
      "outputs": [],
      "source": [
        "data['target'] = data['target'].astype('int64')"
      ]
    },
    {
      "cell_type": "code",
      "execution_count": 12,
      "metadata": {
        "scrolled": true,
        "colab": {
          "base_uri": "https://localhost:8080/"
        },
        "id": "f05wHdO4Dn1a",
        "outputId": "91d57447-5c94-4873-acda-8233b366179a"
      },
      "outputs": [
        {
          "output_type": "execute_result",
          "data": {
            "text/plain": [
              "dtype('int64')"
            ]
          },
          "metadata": {},
          "execution_count": 12
        }
      ],
      "source": [
        "data['target'].dtype"
      ]
    },
    {
      "cell_type": "code",
      "execution_count": 13,
      "metadata": {
        "colab": {
          "base_uri": "https://localhost:8080/"
        },
        "id": "Tx2d5a9yDn1a",
        "outputId": "7f528315-67f1-49b5-8fd9-326cbaf9cd32"
      },
      "outputs": [
        {
          "output_type": "execute_result",
          "data": {
            "text/plain": [
              "target\n",
              "0    5289\n",
              "1    5289\n",
              "Name: count, dtype: int64"
            ]
          },
          "metadata": {},
          "execution_count": 13
        }
      ],
      "source": [
        "data.target.value_counts()"
      ]
    },
    {
      "cell_type": "code",
      "execution_count": 14,
      "metadata": {
        "scrolled": true,
        "colab": {
          "base_uri": "https://localhost:8080/"
        },
        "id": "QGt7Ad-aDn1b",
        "outputId": "7ba0c388-9cea-4c5f-d52a-ebb5f56fa2d0"
      },
      "outputs": [
        {
          "output_type": "execute_result",
          "data": {
            "text/plain": [
              "target\n",
              "0    50.0\n",
              "1    50.0\n",
              "Name: proportion, dtype: float64"
            ]
          },
          "metadata": {},
          "execution_count": 14
        }
      ],
      "source": [
        "100*data['target'].value_counts(normalize=True)"
      ]
    },
    {
      "cell_type": "code",
      "execution_count": 15,
      "metadata": {
        "scrolled": true,
        "colab": {
          "base_uri": "https://localhost:8080/",
          "height": 481
        },
        "id": "kBkN6gWrDn1b",
        "outputId": "de1a620a-df94-413a-bb98-49076f7e2852"
      },
      "outputs": [
        {
          "output_type": "display_data",
          "data": {
            "text/plain": [
              "<Figure size 640x480 with 1 Axes>"
            ],
            "image/png": "[encoded data removed]"
          },
          "metadata": {}
        }
      ],
      "source": [
        "sns.countplot(data = data, x = 'target')\n",
        "plt.xlabel('target', fontsize = 15)\n",
        "plt.title('¿Cuántos usuarios han aceptado la campaña de depósito a plazo?', fontsize = 15)\n",
        "plt.show()"
      ]
    },
    {
      "cell_type": "code",
      "execution_count": 16,
      "metadata": {
        "colab": {
          "base_uri": "https://localhost:8080/",
          "height": 449
        },
        "id": "YvW0sg4HDn1c",
        "outputId": "24785ff0-14bf-4dbe-a2e8-d973d7637bb0"
      },
      "outputs": [
        {
          "output_type": "display_data",
          "data": {
            "text/plain": [
              "<Figure size 640x480 with 1 Axes>"
            ],
            "image/png": "[encoded data removed]"
          },
          "metadata": {}
        }
      ],
      "source": [
        "sns.boxplot(x='target',y='duration',data=data)\n",
        "plt.show()"
      ]
    },
    {
      "cell_type": "code",
      "execution_count": 17,
      "metadata": {
        "scrolled": true,
        "colab": {
          "base_uri": "https://localhost:8080/",
          "height": 450
        },
        "id": "z_RC0hDjDn1c",
        "outputId": "29f46c5d-4586-4418-bfe8-b29c25283d99"
      },
      "outputs": [
        {
          "output_type": "display_data",
          "data": {
            "text/plain": [
              "<Figure size 640x480 with 1 Axes>"
            ],
            "image/png": "[encoded data removed]"
          },
          "metadata": {}
        }
      ],
      "source": [
        "sns.boxplot(x='target',y='previous',data=data)\n",
        "plt.show()"
      ]
    },
    {
      "cell_type": "code",
      "execution_count": 18,
      "metadata": {
        "colab": {
          "base_uri": "https://localhost:8080/",
          "height": 449
        },
        "id": "4HKy_FpKDn1d",
        "outputId": "4d800ae4-02b1-4ff3-ac7c-0555ad2ac060"
      },
      "outputs": [
        {
          "output_type": "display_data",
          "data": {
            "text/plain": [
              "<Figure size 640x480 with 1 Axes>"
            ],
            "image/png": "[encoded data removed]"
          },
          "metadata": {}
        }
      ],
      "source": [
        "sns.boxplot(x='target',y='campaign',data=data)\n",
        "plt.show()"
      ]
    },
    {
      "cell_type": "code",
      "execution_count": 19,
      "metadata": {
        "scrolled": true,
        "colab": {
          "base_uri": "https://localhost:8080/",
          "height": 452
        },
        "id": "pv-o56fhDn1d",
        "outputId": "9e7e75c4-c6ad-4a9f-ce43-d89434f97398"
      },
      "outputs": [
        {
          "output_type": "stream",
          "name": "stdout",
          "text": [
            "housing     0     1\n",
            "target             \n",
            "0        2176  3113\n",
            "1        3354  1935\n"
          ]
        },
        {
          "output_type": "display_data",
          "data": {
            "text/plain": [
              "<Figure size 400x400 with 1 Axes>"
            ],
            "image/png": "[encoded data removed]"
          },
          "metadata": {}
        }
      ],
      "source": [
        "print(pd.crosstab(data[\"target\"],data[\"housing\"]))\n",
        "t = pd.crosstab(data[\"target\"],data[\"housing\"])\n",
        "t.div(t.sum(1).astype(float),axis=0).plot(kind=\"bar\",stacked=True,figsize=(4,4))\n",
        "plt.xlabel(\"target\")\n",
        "plt.ylabel(\"Percentage\")\n",
        "plt.show()"
      ]
    },
    {
      "cell_type": "code",
      "execution_count": 20,
      "metadata": {
        "scrolled": true,
        "colab": {
          "base_uri": "https://localhost:8080/",
          "height": 452
        },
        "id": "dKQke_qwDn1e",
        "outputId": "edfe7d23-1104-495e-e8bb-fd146ca5375e"
      },
      "outputs": [
        {
          "output_type": "stream",
          "name": "stdout",
          "text": [
            "loan       0    1\n",
            "target           \n",
            "0       4359  930\n",
            "1       4805  484\n"
          ]
        },
        {
          "output_type": "display_data",
          "data": {
            "text/plain": [
              "<Figure size 400x400 with 1 Axes>"
            ],
            "image/png": "[encoded data removed]"
          },
          "metadata": {}
        }
      ],
      "source": [
        "print(pd.crosstab(data[\"target\"],data[\"loan\"]))\n",
        "t = pd.crosstab(data[\"target\"],data[\"loan\"])\n",
        "t.div(t.sum(1).astype(float),axis=0).plot(kind=\"bar\",stacked=True,figsize=(4,4))\n",
        "plt.xlabel(\"target\")\n",
        "plt.ylabel(\"Percentage\")\n",
        "plt.show()"
      ]
    },
    {
      "cell_type": "code",
      "execution_count": 21,
      "metadata": {
        "colab": {
          "base_uri": "https://localhost:8080/",
          "height": 452
        },
        "id": "wngbyzP6Dn1e",
        "outputId": "be8dd1bb-44ac-498d-b1a2-85665a4a2ef5"
      },
      "outputs": [
        {
          "output_type": "stream",
          "name": "stdout",
          "text": [
            "default     0   1\n",
            "target           \n",
            "0        5202  87\n",
            "1        5237  52\n"
          ]
        },
        {
          "output_type": "display_data",
          "data": {
            "text/plain": [
              "<Figure size 400x400 with 1 Axes>"
            ],
            "image/png": "[encoded data removed]"
          },
          "metadata": {}
        }
      ],
      "source": [
        "print(pd.crosstab(data[\"target\"],data[\"default\"]))\n",
        "t = pd.crosstab(data[\"target\"],data[\"default\"])\n",
        "t.div(t.sum(1).astype(float),axis=0).plot(kind=\"bar\",stacked=True,figsize=(4,4))\n",
        "plt.xlabel(\"target\")\n",
        "plt.ylabel(\"Percentage\")\n",
        "plt.show()"
      ]
    },
    {
      "cell_type": "markdown",
      "metadata": {
        "id": "k9I_t89cDn1f"
      },
      "source": [
        "### **Preparación de los datos**"
      ]
    },
    {
      "cell_type": "code",
      "execution_count": 22,
      "metadata": {
        "scrolled": true,
        "id": "w_2OABrUDn1f"
      },
      "outputs": [],
      "source": [
        "#La función sklearn.preprocessing.LabelEncoder codifica etiquetas de una característica categórica en valores numéricos\n",
        "#entre 0 y el número de clases menos 1.\n",
        "\n",
        "data['c_housing'] = LabelEncoder().fit_transform(data.housing.values)\n",
        "data['c_loan'] = LabelEncoder().fit_transform(data.loan.values)\n",
        "data['c_default'] = LabelEncoder().fit_transform(data.default.values)"
      ]
    },
    {
      "cell_type": "code",
      "execution_count": 23,
      "metadata": {
        "colab": {
          "base_uri": "https://localhost:8080/",
          "height": 206
        },
        "id": "4tVakYI1Dn1g",
        "outputId": "28d71211-06d7-471f-aeaf-b74cfc0b20ad"
      },
      "outputs": [
        {
          "output_type": "execute_result",
          "data": {
            "text/plain": [
              "   idcliente  duration  previous housing  campaign loan default  target  \\\n",
              "0          1       261         0       1         1    0       0       0   \n",
              "1          2        50         0       1         1    0       0       0   \n",
              "2          3      1492         0       1         1    0       0       0   \n",
              "3          4       104         0       1         1    0       0       0   \n",
              "4          5        13         0       1         1    0       0       0   \n",
              "\n",
              "   muestra  c_housing  c_loan  c_default  \n",
              "0        1          1       0          0  \n",
              "1        1          1       0          0  \n",
              "2        1          1       0          0  \n",
              "3        1          1       0          0  \n",
              "4        1          1       0          0  "
            ],
            "text/html": [
              "\n",
              "  <div id=\"df-f1515882-3f02-44a7-9466-23ccf5769bca\" class=\"colab-df-container\">\n",
              "    <div>\n",
              "<style scoped>\n",
              "    .dataframe tbody tr th:only-of-type {\n",
              "        vertical-align: middle;\n",
              "    }\n",
              "\n",
              "    .dataframe tbody tr th {\n",
              "        vertical-align: top;\n",
              "    }\n",
              "\n",
              "    .dataframe thead th {\n",
              "        text-align: right;\n",
              "    }\n",
              "</style>\n",
              "<table border=\"1\" class=\"dataframe\">\n",
              "  <thead>\n",
              "    <tr style=\"text-align: right;\">\n",
              "      <th></th>\n",
              "      <th>idcliente</th>\n",
              "      <th>duration</th>\n",
              "      <th>previous</th>\n",
              "      <th>housing</th>\n",
              "      <th>campaign</th>\n",
              "      <th>loan</th>\n",
              "      <th>default</th>\n",
              "      <th>target</th>\n",
              "      <th>muestra</th>\n",
              "      <th>c_housing</th>\n",
              "      <th>c_loan</th>\n",
              "      <th>c_default</th>\n",
              "    </tr>\n",
              "  </thead>\n",
              "  <tbody>\n",
              "    <tr>\n",
              "      <th>0</th>\n",
              "      <td>1</td>\n",
              "      <td>261</td>\n",
              "      <td>0</td>\n",
              "      <td>1</td>\n",
              "      <td>1</td>\n",
              "      <td>0</td>\n",
              "      <td>0</td>\n",
              "      <td>0</td>\n",
              "      <td>1</td>\n",
              "      <td>1</td>\n",
              "      <td>0</td>\n",
              "      <td>0</td>\n",
              "    </tr>\n",
              "    <tr>\n",
              "      <th>1</th>\n",
              "      <td>2</td>\n",
              "      <td>50</td>\n",
              "      <td>0</td>\n",
              "      <td>1</td>\n",
              "      <td>1</td>\n",
              "      <td>0</td>\n",
              "      <td>0</td>\n",
              "      <td>0</td>\n",
              "      <td>1</td>\n",
              "      <td>1</td>\n",
              "      <td>0</td>\n",
              "      <td>0</td>\n",
              "    </tr>\n",
              "    <tr>\n",
              "      <th>2</th>\n",
              "      <td>3</td>\n",
              "      <td>1492</td>\n",
              "      <td>0</td>\n",
              "      <td>1</td>\n",
              "      <td>1</td>\n",
              "      <td>0</td>\n",
              "      <td>0</td>\n",
              "      <td>0</td>\n",
              "      <td>1</td>\n",
              "      <td>1</td>\n",
              "      <td>0</td>\n",
              "      <td>0</td>\n",
              "    </tr>\n",
              "    <tr>\n",
              "      <th>3</th>\n",
              "      <td>4</td>\n",
              "      <td>104</td>\n",
              "      <td>0</td>\n",
              "      <td>1</td>\n",
              "      <td>1</td>\n",
              "      <td>0</td>\n",
              "      <td>0</td>\n",
              "      <td>0</td>\n",
              "      <td>1</td>\n",
              "      <td>1</td>\n",
              "      <td>0</td>\n",
              "      <td>0</td>\n",
              "    </tr>\n",
              "    <tr>\n",
              "      <th>4</th>\n",
              "      <td>5</td>\n",
              "      <td>13</td>\n",
              "      <td>0</td>\n",
              "      <td>1</td>\n",
              "      <td>1</td>\n",
              "      <td>0</td>\n",
              "      <td>0</td>\n",
              "      <td>0</td>\n",
              "      <td>1</td>\n",
              "      <td>1</td>\n",
              "      <td>0</td>\n",
              "      <td>0</td>\n",
              "    </tr>\n",
              "  </tbody>\n",
              "</table>\n",
              "</div>\n",
              "    <div class=\"colab-df-buttons\">\n",
              "\n",
              "  <div class=\"colab-df-container\">\n",
              "    <button class=\"colab-df-convert\" onclick=\"convertToInteractive('df-f1515882-3f02-44a7-9466-23ccf5769bca')\"\n",
              "            title=\"Convert this dataframe to an interactive table.\"\n",
              "            style=\"display:none;\">\n",
              "\n",
              "  <svg xmlns=\"http://www.w3.org/2000/svg\" height=\"24px\" viewBox=\"0 -960 960 960\">\n",
              "    <path d=\"M120-120v-720h720v720H120Zm60-500h600v-160H180v160Zm220 220h160v-160H400v160Zm0 220h160v-160H400v160ZM180-400h160v-160H180v160Zm440 0h160v-160H620v160ZM180-180h160v-160H180v160Zm440 0h160v-160H620v160Z\"/>\n",
              "  </svg>\n",
              "    </button>\n",
              "\n",
              "  <style>\n",
              "    .colab-df-container {\n",
              "      display:flex;\n",
              "      gap: 12px;\n",
              "    }\n",
              "\n",
              "    .colab-df-convert {\n",
              "      background-color: #E8F0FE;\n",
              "      border: none;\n",
              "      border-radius: 50%;\n",
              "      cursor: pointer;\n",
              "      display: none;\n",
              "      fill: #1967D2;\n",
              "      height: 32px;\n",
              "      padding: 0 0 0 0;\n",
              "      width: 32px;\n",
              "    }\n",
              "\n",
              "    .colab-df-convert:hover {\n",
              "      background-color: #E2EBFA;\n",
              "      box-shadow: 0px 1px 2px rgba(60, 64, 67, 0.3), 0px 1px 3px 1px rgba(60, 64, 67, 0.15);\n",
              "      fill: #174EA6;\n",
              "    }\n",
              "\n",
              "    .colab-df-buttons div {\n",
              "      margin-bottom: 4px;\n",
              "    }\n",
              "\n",
              "    [theme=dark] .colab-df-convert {\n",
              "      background-color: #3B4455;\n",
              "      fill: #D2E3FC;\n",
              "    }\n",
              "\n",
              "    [theme=dark] .colab-df-convert:hover {\n",
              "      background-color: #434B5C;\n",
              "      box-shadow: 0px 1px 3px 1px rgba(0, 0, 0, 0.15);\n",
              "      filter: drop-shadow(0px 1px 2px rgba(0, 0, 0, 0.3));\n",
              "      fill: #FFFFFF;\n",
              "    }\n",
              "  </style>\n",
              "\n",
              "    <script>\n",
              "      const buttonEl =\n",
              "        document.querySelector('#df-f1515882-3f02-44a7-9466-23ccf5769bca button.colab-df-convert');\n",
              "      buttonEl.style.display =\n",
              "        google.colab.kernel.accessAllowed ? 'block' : 'none';\n",
              "\n",
              "      async function convertToInteractive(key) {\n",
              "        const element = document.querySelector('#df-f1515882-3f02-44a7-9466-23ccf5769bca');\n",
              "        const dataTable =\n",
              "          await google.colab.kernel.invokeFunction('convertToInteractive',\n",
              "                                                    [key], {});\n",
              "        if (!dataTable) return;\n",
              "\n",
              "        const docLinkHtml = 'Like what you see? Visit the ' +\n",
              "          '<a target=\"_blank\" href=https://colab.research.google.com/notebooks/data_table.ipynb>data table notebook</a>'\n",
              "          + ' to learn more about interactive tables.';\n",
              "        element.innerHTML = '';\n",
              "        dataTable['output_type'] = 'display_data';\n",
              "        await google.colab.output.renderOutput(dataTable, element);\n",
              "        const docLink = document.createElement('div');\n",
              "        docLink.innerHTML = docLinkHtml;\n",
              "        element.appendChild(docLink);\n",
              "      }\n",
              "    </script>\n",
              "  </div>\n",
              "\n",
              "\n",
              "<div id=\"df-a725f2b5-61f5-40df-8602-606e52bf015d\">\n",
              "  <button class=\"colab-df-quickchart\" onclick=\"quickchart('df-a725f2b5-61f5-40df-8602-606e52bf015d')\"\n",
              "            title=\"Suggest charts\"\n",
              "            style=\"display:none;\">\n",
              "\n",
              "<svg xmlns=\"http://www.w3.org/2000/svg\" height=\"24px\"viewBox=\"0 0 24 24\"\n",
              "     width=\"24px\">\n",
              "    <g>\n",
              "        <path d=\"M19 3H5c-1.1 0-2 .9-2 2v14c0 1.1.9 2 2 2h14c1.1 0 2-.9 2-2V5c0-1.1-.9-2-2-2zM9 17H7v-7h2v7zm4 0h-2V7h2v10zm4 0h-2v-4h2v4z\"/>\n",
              "    </g>\n",
              "</svg>\n",
              "  </button>\n",
              "\n",
              "<style>\n",
              "  .colab-df-quickchart {\n",
              "      --bg-color: #E8F0FE;\n",
              "      --fill-color: #1967D2;\n",
              "      --hover-bg-color: #E2EBFA;\n",
              "      --hover-fill-color: #174EA6;\n",
              "      --disabled-fill-color: #AAA;\n",
              "      --disabled-bg-color: #DDD;\n",
              "  }\n",
              "\n",
              "  [theme=dark] .colab-df-quickchart {\n",
              "      --bg-color: #3B4455;\n",
              "      --fill-color: #D2E3FC;\n",
              "      --hover-bg-color: #434B5C;\n",
              "      --hover-fill-color: #FFFFFF;\n",
              "      --disabled-bg-color: #3B4455;\n",
              "      --disabled-fill-color: #666;\n",
              "  }\n",
              "\n",
              "  .colab-df-quickchart {\n",
              "    background-color: var(--bg-color);\n",
              "    border: none;\n",
              "    border-radius: 50%;\n",
              "    cursor: pointer;\n",
              "    display: none;\n",
              "    fill: var(--fill-color);\n",
              "    height: 32px;\n",
              "    padding: 0;\n",
              "    width: 32px;\n",
              "  }\n",
              "\n",
              "  .colab-df-quickchart:hover {\n",
              "    background-color: var(--hover-bg-color);\n",
              "    box-shadow: 0 1px 2px rgba(60, 64, 67, 0.3), 0 1px 3px 1px rgba(60, 64, 67, 0.15);\n",
              "    fill: var(--button-hover-fill-color);\n",
              "  }\n",
              "\n",
              "  .colab-df-quickchart-complete:disabled,\n",
              "  .colab-df-quickchart-complete:disabled:hover {\n",
              "    background-color: var(--disabled-bg-color);\n",
              "    fill: var(--disabled-fill-color);\n",
              "    box-shadow: none;\n",
              "  }\n",
              "\n",
              "  .colab-df-spinner {\n",
              "    border: 2px solid var(--fill-color);\n",
              "    border-color: transparent;\n",
              "    border-bottom-color: var(--fill-color);\n",
              "    animation:\n",
              "      spin 1s steps(1) infinite;\n",
              "  }\n",
              "\n",
              "  @keyframes spin {\n",
              "    0% {\n",
              "      border-color: transparent;\n",
              "      border-bottom-color: var(--fill-color);\n",
              "      border-left-color: var(--fill-color);\n",
              "    }\n",
              "    20% {\n",
              "      border-color: transparent;\n",
              "      border-left-color: var(--fill-color);\n",
              "      border-top-color: var(--fill-color);\n",
              "    }\n",
              "    30% {\n",
              "      border-color: transparent;\n",
              "      border-left-color: var(--fill-color);\n",
              "      border-top-color: var(--fill-color);\n",
              "      border-right-color: var(--fill-color);\n",
              "    }\n",
              "    40% {\n",
              "      border-color: transparent;\n",
              "      border-right-color: var(--fill-color);\n",
              "      border-top-color: var(--fill-color);\n",
              "    }\n",
              "    60% {\n",
              "      border-color: transparent;\n",
              "      border-right-color: var(--fill-color);\n",
              "    }\n",
              "    80% {\n",
              "      border-color: transparent;\n",
              "      border-right-color: var(--fill-color);\n",
              "      border-bottom-color: var(--fill-color);\n",
              "    }\n",
              "    90% {\n",
              "      border-color: transparent;\n",
              "      border-bottom-color: var(--fill-color);\n",
              "    }\n",
              "  }\n",
              "</style>\n",
              "\n",
              "  <script>\n",
              "    async function quickchart(key) {\n",
              "      const quickchartButtonEl =\n",
              "        document.querySelector('#' + key + ' button');\n",
              "      quickchartButtonEl.disabled = true;  // To prevent multiple clicks.\n",
              "      quickchartButtonEl.classList.add('colab-df-spinner');\n",
              "      try {\n",
              "        const charts = await google.colab.kernel.invokeFunction(\n",
              "            'suggestCharts', [key], {});\n",
              "      } catch (error) {\n",
              "        console.error('Error during call to suggestCharts:', error);\n",
              "      }\n",
              "      quickchartButtonEl.classList.remove('colab-df-spinner');\n",
              "      quickchartButtonEl.classList.add('colab-df-quickchart-complete');\n",
              "    }\n",
              "    (() => {\n",
              "      let quickchartButtonEl =\n",
              "        document.querySelector('#df-a725f2b5-61f5-40df-8602-606e52bf015d button');\n",
              "      quickchartButtonEl.style.display =\n",
              "        google.colab.kernel.accessAllowed ? 'block' : 'none';\n",
              "    })();\n",
              "  </script>\n",
              "</div>\n",
              "\n",
              "    </div>\n",
              "  </div>\n"
            ],
            "application/vnd.google.colaboratory.intrinsic+json": {
              "type": "dataframe",
              "variable_name": "data",
              "summary": "{\n  \"name\": \"data\",\n  \"rows\": 10578,\n  \"fields\": [\n    {\n      \"column\": \"idcliente\",\n      \"properties\": {\n        \"dtype\": \"number\",\n        \"std\": 3053,\n        \"min\": 1,\n        \"max\": 10578,\n        \"num_unique_values\": 10578,\n        \"samples\": [\n          5358,\n          6596,\n          9606\n        ],\n        \"semantic_type\": \"\",\n        \"description\": \"\"\n      }\n    },\n    {\n      \"column\": \"duration\",\n      \"properties\": {\n        \"dtype\": \"number\",\n        \"std\": 348,\n        \"min\": 1,\n        \"max\": 3881,\n        \"num_unique_values\": 1418,\n        \"samples\": [\n          158,\n          428,\n          1553\n        ],\n        \"semantic_type\": \"\",\n        \"description\": \"\"\n      }\n    },\n    {\n      \"column\": \"previous\",\n      \"properties\": {\n        \"dtype\": \"number\",\n        \"std\": 2,\n        \"min\": 0,\n        \"max\": 58,\n        \"num_unique_values\": 33,\n        \"samples\": [\n          55,\n          15,\n          29\n        ],\n        \"semantic_type\": \"\",\n        \"description\": \"\"\n      }\n    },\n    {\n      \"column\": \"housing\",\n      \"properties\": {\n        \"dtype\": \"date\",\n        \"min\": 0,\n        \"max\": 1,\n        \"num_unique_values\": 2,\n        \"samples\": [\n          0,\n          1\n        ],\n        \"semantic_type\": \"\",\n        \"description\": \"\"\n      }\n    },\n    {\n      \"column\": \"campaign\",\n      \"properties\": {\n        \"dtype\": \"number\",\n        \"std\": 2,\n        \"min\": 1,\n        \"max\": 36,\n        \"num_unique_values\": 33,\n        \"samples\": [\n          36,\n          11\n        ],\n        \"semantic_type\": \"\",\n        \"description\": \"\"\n      }\n    },\n    {\n      \"column\": \"loan\",\n      \"properties\": {\n        \"dtype\": \"date\",\n        \"min\": 0,\n        \"max\": 1,\n        \"num_unique_values\": 2,\n        \"samples\": [\n          1,\n          0\n        ],\n        \"semantic_type\": \"\",\n        \"description\": \"\"\n      }\n    },\n    {\n      \"column\": \"default\",\n      \"properties\": {\n        \"dtype\": \"date\",\n        \"min\": 0,\n        \"max\": 1,\n        \"num_unique_values\": 2,\n        \"samples\": [\n          1,\n          0\n        ],\n        \"semantic_type\": \"\",\n        \"description\": \"\"\n      }\n    },\n    {\n      \"column\": \"target\",\n      \"properties\": {\n        \"dtype\": \"number\",\n        \"std\": 0,\n        \"min\": 0,\n        \"max\": 1,\n        \"num_unique_values\": 2,\n        \"samples\": [\n          1,\n          0\n        ],\n        \"semantic_type\": \"\",\n        \"description\": \"\"\n      }\n    },\n    {\n      \"column\": \"muestra\",\n      \"properties\": {\n        \"dtype\": \"number\",\n        \"std\": 0,\n        \"min\": 0,\n        \"max\": 1,\n        \"num_unique_values\": 2,\n        \"samples\": [\n          0,\n          1\n        ],\n        \"semantic_type\": \"\",\n        \"description\": \"\"\n      }\n    },\n    {\n      \"column\": \"c_housing\",\n      \"properties\": {\n        \"dtype\": \"number\",\n        \"std\": 0,\n        \"min\": 0,\n        \"max\": 1,\n        \"num_unique_values\": 2,\n        \"samples\": [\n          0,\n          1\n        ],\n        \"semantic_type\": \"\",\n        \"description\": \"\"\n      }\n    },\n    {\n      \"column\": \"c_loan\",\n      \"properties\": {\n        \"dtype\": \"number\",\n        \"std\": 0,\n        \"min\": 0,\n        \"max\": 1,\n        \"num_unique_values\": 2,\n        \"samples\": [\n          1,\n          0\n        ],\n        \"semantic_type\": \"\",\n        \"description\": \"\"\n      }\n    },\n    {\n      \"column\": \"c_default\",\n      \"properties\": {\n        \"dtype\": \"number\",\n        \"std\": 0,\n        \"min\": 0,\n        \"max\": 1,\n        \"num_unique_values\": 2,\n        \"samples\": [\n          1,\n          0\n        ],\n        \"semantic_type\": \"\",\n        \"description\": \"\"\n      }\n    }\n  ]\n}"
            }
          },
          "metadata": {},
          "execution_count": 23
        }
      ],
      "source": [
        "data.head(5)"
      ]
    },
    {
      "cell_type": "code",
      "execution_count": 24,
      "metadata": {
        "id": "TlhFhMXNDn1g"
      },
      "outputs": [],
      "source": [
        "X = data[['c_housing','c_loan','duration']]\n",
        "y = data['target']"
      ]
    },
    {
      "cell_type": "code",
      "execution_count": 25,
      "metadata": {
        "id": "GBSIiYlrDn1h"
      },
      "outputs": [],
      "source": [
        "X = X.to_numpy()"
      ]
    },
    {
      "cell_type": "code",
      "execution_count": 26,
      "metadata": {
        "colab": {
          "base_uri": "https://localhost:8080/"
        },
        "id": "vXscFl3MDn1h",
        "outputId": "095b428a-0212-4409-8b55-a123d13f26c1"
      },
      "outputs": [
        {
          "output_type": "execute_result",
          "data": {
            "text/plain": [
              "array([[   1,    0,  261],\n",
              "       [   1,    0,   50],\n",
              "       [   1,    0, 1492],\n",
              "       [   1,    0,  104],\n",
              "       [   1,    0,   13]])"
            ]
          },
          "metadata": {},
          "execution_count": 26
        }
      ],
      "source": [
        "X[0:5]"
      ]
    },
    {
      "cell_type": "code",
      "execution_count": 27,
      "metadata": {
        "id": "r7K9EcPKDn1h"
      },
      "outputs": [],
      "source": [
        "y = y.to_numpy()"
      ]
    },
    {
      "cell_type": "code",
      "execution_count": 28,
      "metadata": {
        "colab": {
          "base_uri": "https://localhost:8080/"
        },
        "id": "nn2Yskf7Dn1i",
        "outputId": "d03d034b-0768-432a-c2a5-aeba4a16915e"
      },
      "outputs": [
        {
          "output_type": "execute_result",
          "data": {
            "text/plain": [
              "array([0, 0, 0, 0, 0])"
            ]
          },
          "metadata": {},
          "execution_count": 28
        }
      ],
      "source": [
        "y[0:5]"
      ]
    },
    {
      "cell_type": "code",
      "execution_count": 29,
      "metadata": {
        "id": "MPckLOTaDn1i"
      },
      "outputs": [],
      "source": [
        "X_train, X_test, y_train, y_test = train_test_split(X, y, test_size = 0.20, random_state = 0)"
      ]
    },
    {
      "cell_type": "code",
      "execution_count": 30,
      "metadata": {
        "colab": {
          "base_uri": "https://localhost:8080/"
        },
        "id": "qd0O5xohDn1i",
        "outputId": "3dd1e8d8-f6e7-42ba-c582-9340ed145141"
      },
      "outputs": [
        {
          "output_type": "execute_result",
          "data": {
            "text/plain": [
              "array([[   1,    0, 1080],\n",
              "       [   1,    0,  204],\n",
              "       [   0,    0,  140],\n",
              "       [   0,    0,  373],\n",
              "       [   0,    0,  194]])"
            ]
          },
          "metadata": {},
          "execution_count": 30
        }
      ],
      "source": [
        "X_train[0:5]"
      ]
    },
    {
      "cell_type": "code",
      "execution_count": 31,
      "metadata": {
        "colab": {
          "base_uri": "https://localhost:8080/"
        },
        "id": "U_rLre3ADn1j",
        "outputId": "215ccb1a-181b-4750-e5b2-4191dbf4cbc4"
      },
      "outputs": [
        {
          "output_type": "execute_result",
          "data": {
            "text/plain": [
              "array([[  0,   0, 263],\n",
              "       [  0,   0, 597],\n",
              "       [  0,   0, 150],\n",
              "       [  0,   0, 917],\n",
              "       [  1,   0, 404]])"
            ]
          },
          "metadata": {},
          "execution_count": 31
        }
      ],
      "source": [
        "X_test[0:5]"
      ]
    },
    {
      "cell_type": "code",
      "execution_count": 32,
      "metadata": {
        "id": "haWlmNpQDn1j"
      },
      "outputs": [],
      "source": [
        "X_train_orig = X_train\n",
        "X_test_orig = X_test"
      ]
    },
    {
      "cell_type": "code",
      "execution_count": 33,
      "metadata": {
        "scrolled": true,
        "id": "9YjSVXOzDn1s"
      },
      "outputs": [],
      "source": [
        "X_train = StandardScaler().fit_transform(X_train)\n",
        "X_test = StandardScaler().fit_transform(X_test)"
      ]
    },
    {
      "cell_type": "code",
      "execution_count": 34,
      "metadata": {
        "colab": {
          "base_uri": "https://localhost:8080/"
        },
        "id": "kzRi6x1ODn1t",
        "outputId": "b30034e9-640e-4761-bff4-f4d2546087dd"
      },
      "outputs": [
        {
          "output_type": "execute_result",
          "data": {
            "text/plain": [
              "array([[ 1.05317258, -0.39338138,  2.00876968],\n",
              "       [ 1.05317258, -0.39338138, -0.50165504],\n",
              "       [-0.949512  , -0.39338138, -0.68506507],\n",
              "       [-0.949512  , -0.39338138, -0.01733795],\n",
              "       [-0.949512  , -0.39338138, -0.53031286]])"
            ]
          },
          "metadata": {},
          "execution_count": 34
        }
      ],
      "source": [
        "X_train[0:5]"
      ]
    },
    {
      "cell_type": "code",
      "execution_count": 35,
      "metadata": {
        "colab": {
          "base_uri": "https://localhost:8080/"
        },
        "id": "REMLK_TbDn1t",
        "outputId": "121e228f-71af-43bb-978d-c8d2a372e90d"
      },
      "outputs": [
        {
          "output_type": "execute_result",
          "data": {
            "text/plain": [
              "array([[-0.97941782, -0.39051946, -0.32766412],\n",
              "       [-0.97941782, -0.39051946,  0.63785382],\n",
              "       [-0.97941782, -0.39051946, -0.65432139],\n",
              "       [-0.97941782, -0.39051946,  1.56290095],\n",
              "       [ 1.02101471, -0.39051946,  0.07993477]])"
            ]
          },
          "metadata": {},
          "execution_count": 35
        }
      ],
      "source": [
        "X_test[0:5]"
      ]
    },
    {
      "cell_type": "markdown",
      "metadata": {
        "id": "UQ-9kX_1Dn1t"
      },
      "source": [
        "### **Modelado**"
      ]
    },
    {
      "cell_type": "markdown",
      "source": [
        "**(1) Ensemble Random Forests SIN hiperparametros**"
      ],
      "metadata": {
        "id": "lGfHLXmZNoUQ"
      }
    },
    {
      "cell_type": "code",
      "execution_count": 36,
      "metadata": {
        "id": "ow5hn8AWDn1t"
      },
      "outputs": [],
      "source": [
        "#Validación Cruzada\n",
        "cv_scores = cross_val_score(RandomForestClassifier(),X_train,y_train,cv=5)"
      ]
    },
    {
      "cell_type": "code",
      "execution_count": 37,
      "metadata": {
        "colab": {
          "base_uri": "https://localhost:8080/"
        },
        "id": "f57ty2VdDn1u",
        "outputId": "72aefd78-4346-43bf-ec01-0a7aefa156db"
      },
      "outputs": [
        {
          "output_type": "stream",
          "name": "stdout",
          "text": [
            "[0.70939161 0.72947431 0.70803783 0.74113475 0.72458629]\n"
          ]
        }
      ],
      "source": [
        "#Accuracy\n",
        "print(cv_scores)"
      ]
    },
    {
      "cell_type": "code",
      "execution_count": 38,
      "metadata": {
        "colab": {
          "base_uri": "https://localhost:8080/"
        },
        "id": "drDeawpJDn1u",
        "outputId": "3dc82ee4-b57a-4e8f-d846-4ac9438c378e"
      },
      "outputs": [
        {
          "output_type": "stream",
          "name": "stdout",
          "text": [
            "cv_scores mean:0.7225249567472236\n"
          ]
        }
      ],
      "source": [
        "#Accuracy Promedio\n",
        "print(\"cv_scores mean:{}\".format(np.mean(cv_scores)))"
      ]
    },
    {
      "cell_type": "markdown",
      "source": [
        "**(2) Ensemble Random Forests CON hiperparametros**"
      ],
      "metadata": {
        "id": "L01PTc09N6PK"
      }
    },
    {
      "cell_type": "code",
      "execution_count": 39,
      "metadata": {
        "id": "5m0RLEh3Dn1u"
      },
      "outputs": [],
      "source": [
        "#Tuning\n",
        "#n_estimators: Número de árboles.  Esta es la cantidad de árboles (en general, la cantidad de muestras en las que funcionará este algoritmo y\n",
        "#luego las agregará para darle la respuesta final) que desea construir antes de tomar la votación máxima o los promedios de predicciones.\n",
        "#Una mayor cantidad de árboles brinda un mejor rendimiento pero hace que el código sea más lento.\n",
        "\n",
        "#max_features: cantidad máxima de características a considerar al buscar el mejor split\n",
        "#max_depth: Profundidad del árbol\n",
        "\n",
        "param_grid = {\n",
        "    'n_estimators': [100, 200, 300, 400, 500, 600, 700],\n",
        "    'max_features': ['sqrt', 'log2'],\n",
        "    'max_depth': [2, 3, 4, 5, 6, 7, 8, 9, 10]\n",
        "}"
      ]
    },
    {
      "cell_type": "code",
      "execution_count": 40,
      "metadata": {
        "colab": {
          "base_uri": "https://localhost:8080/",
          "height": 1000
        },
        "id": "jz8WLBSxDn1v",
        "outputId": "bd36693c-3958-43c5-d20b-67e529998c3f"
      },
      "outputs": [
        {
          "output_type": "stream",
          "name": "stdout",
          "text": [
            "Fitting 5 folds for each of 126 candidates, totalling 630 fits\n",
            "[CV] END ...max_depth=2, max_features=sqrt, n_estimators=100; total time=   0.3s\n",
            "[CV] END ...max_depth=2, max_features=sqrt, n_estimators=100; total time=   0.3s\n",
            "[CV] END ...max_depth=2, max_features=sqrt, n_estimators=100; total time=   0.3s\n",
            "[CV] END ...max_depth=2, max_features=sqrt, n_estimators=100; total time=   0.3s\n",
            "[CV] END ...max_depth=2, max_features=sqrt, n_estimators=100; total time=   0.3s\n",
            "[CV] END ...max_depth=2, max_features=sqrt, n_estimators=200; total time=   0.5s\n",
            "[CV] END ...max_depth=2, max_features=sqrt, n_estimators=200; total time=   0.6s\n",
            "[CV] END ...max_depth=2, max_features=sqrt, n_estimators=200; total time=   0.5s\n",
            "[CV] END ...max_depth=2, max_features=sqrt, n_estimators=200; total time=   0.5s\n",
            "[CV] END ...max_depth=2, max_features=sqrt, n_estimators=200; total time=   0.6s\n",
            "[CV] END ...max_depth=2, max_features=sqrt, n_estimators=300; total time=   1.1s\n",
            "[CV] END ...max_depth=2, max_features=sqrt, n_estimators=300; total time=   1.1s\n",
            "[CV] END ...max_depth=2, max_features=sqrt, n_estimators=300; total time=   1.2s\n",
            "[CV] END ...max_depth=2, max_features=sqrt, n_estimators=300; total time=   1.1s\n",
            "[CV] END ...max_depth=2, max_features=sqrt, n_estimators=300; total time=   1.2s\n",
            "[CV] END ...max_depth=2, max_features=sqrt, n_estimators=400; total time=   1.5s\n",
            "[CV] END ...max_depth=2, max_features=sqrt, n_estimators=400; total time=   1.1s\n",
            "[CV] END ...max_depth=2, max_features=sqrt, n_estimators=400; total time=   1.1s\n",
            "[CV] END ...max_depth=2, max_features=sqrt, n_estimators=400; total time=   1.1s\n",
            "[CV] END ...max_depth=2, max_features=sqrt, n_estimators=400; total time=   1.1s\n",
            "[CV] END ...max_depth=2, max_features=sqrt, n_estimators=500; total time=   1.3s\n",
            "[CV] END ...max_depth=2, max_features=sqrt, n_estimators=500; total time=   1.3s\n",
            "[CV] END ...max_depth=2, max_features=sqrt, n_estimators=500; total time=   1.3s\n",
            "[CV] END ...max_depth=2, max_features=sqrt, n_estimators=500; total time=   1.3s\n",
            "[CV] END ...max_depth=2, max_features=sqrt, n_estimators=500; total time=   2.0s\n",
            "[CV] END ...max_depth=2, max_features=sqrt, n_estimators=600; total time=   2.1s\n",
            "[CV] END ...max_depth=2, max_features=sqrt, n_estimators=600; total time=   1.6s\n",
            "[CV] END ...max_depth=2, max_features=sqrt, n_estimators=600; total time=   1.6s\n",
            "[CV] END ...max_depth=2, max_features=sqrt, n_estimators=600; total time=   1.6s\n",
            "[CV] END ...max_depth=2, max_features=sqrt, n_estimators=600; total time=   1.6s\n",
            "[CV] END ...max_depth=2, max_features=sqrt, n_estimators=700; total time=   2.0s\n",
            "[CV] END ...max_depth=2, max_features=sqrt, n_estimators=700; total time=   2.4s\n",
            "[CV] END ...max_depth=2, max_features=sqrt, n_estimators=700; total time=   2.4s\n",
            "[CV] END ...max_depth=2, max_features=sqrt, n_estimators=700; total time=   1.8s\n",
            "[CV] END ...max_depth=2, max_features=sqrt, n_estimators=700; total time=   1.9s\n",
            "[CV] END ...max_depth=2, max_features=log2, n_estimators=100; total time=   0.3s\n",
            "[CV] END ...max_depth=2, max_features=log2, n_estimators=100; total time=   0.3s\n",
            "[CV] END ...max_depth=2, max_features=log2, n_estimators=100; total time=   0.3s\n",
            "[CV] END ...max_depth=2, max_features=log2, n_estimators=100; total time=   0.3s\n",
            "[CV] END ...max_depth=2, max_features=log2, n_estimators=100; total time=   0.3s\n",
            "[CV] END ...max_depth=2, max_features=log2, n_estimators=200; total time=   0.5s\n",
            "[CV] END ...max_depth=2, max_features=log2, n_estimators=200; total time=   0.5s\n",
            "[CV] END ...max_depth=2, max_features=log2, n_estimators=200; total time=   0.5s\n",
            "[CV] END ...max_depth=2, max_features=log2, n_estimators=200; total time=   0.5s\n",
            "[CV] END ...max_depth=2, max_features=log2, n_estimators=200; total time=   0.5s\n",
            "[CV] END ...max_depth=2, max_features=log2, n_estimators=300; total time=   0.8s\n",
            "[CV] END ...max_depth=2, max_features=log2, n_estimators=300; total time=   0.9s\n",
            "[CV] END ...max_depth=2, max_features=log2, n_estimators=300; total time=   1.2s\n",
            "[CV] END ...max_depth=2, max_features=log2, n_estimators=300; total time=   1.3s\n",
            "[CV] END ...max_depth=2, max_features=log2, n_estimators=300; total time=   0.9s\n",
            "[CV] END ...max_depth=2, max_features=log2, n_estimators=400; total time=   1.1s\n",
            "[CV] END ...max_depth=2, max_features=log2, n_estimators=400; total time=   1.1s\n",
            "[CV] END ...max_depth=2, max_features=log2, n_estimators=400; total time=   1.1s\n",
            "[CV] END ...max_depth=2, max_features=log2, n_estimators=400; total time=   1.1s\n",
            "[CV] END ...max_depth=2, max_features=log2, n_estimators=400; total time=   1.1s\n",
            "[CV] END ...max_depth=2, max_features=log2, n_estimators=500; total time=   1.3s\n",
            "[CV] END ...max_depth=2, max_features=log2, n_estimators=500; total time=   1.4s\n",
            "[CV] END ...max_depth=2, max_features=log2, n_estimators=500; total time=   1.3s\n",
            "[CV] END ...max_depth=2, max_features=log2, n_estimators=500; total time=   2.0s\n",
            "[CV] END ...max_depth=2, max_features=log2, n_estimators=500; total time=   1.8s\n",
            "[CV] END ...max_depth=2, max_features=log2, n_estimators=600; total time=   1.6s\n",
            "[CV] END ...max_depth=2, max_features=log2, n_estimators=600; total time=   1.6s\n",
            "[CV] END ...max_depth=2, max_features=log2, n_estimators=600; total time=   1.6s\n",
            "[CV] END ...max_depth=2, max_features=log2, n_estimators=600; total time=   1.6s\n",
            "[CV] END ...max_depth=2, max_features=log2, n_estimators=600; total time=   1.6s\n",
            "[CV] END ...max_depth=2, max_features=log2, n_estimators=700; total time=   2.0s\n",
            "[CV] END ...max_depth=2, max_features=log2, n_estimators=700; total time=   2.9s\n",
            "[CV] END ...max_depth=2, max_features=log2, n_estimators=700; total time=   1.9s\n",
            "[CV] END ...max_depth=2, max_features=log2, n_estimators=700; total time=   1.9s\n",
            "[CV] END ...max_depth=2, max_features=log2, n_estimators=700; total time=   3.0s\n",
            "[CV] END ...max_depth=3, max_features=sqrt, n_estimators=100; total time=   1.1s\n",
            "[CV] END ...max_depth=3, max_features=sqrt, n_estimators=100; total time=   0.5s\n",
            "[CV] END ...max_depth=3, max_features=sqrt, n_estimators=100; total time=   0.7s\n",
            "[CV] END ...max_depth=3, max_features=sqrt, n_estimators=100; total time=   0.7s\n",
            "[CV] END ...max_depth=3, max_features=sqrt, n_estimators=100; total time=   0.7s\n",
            "[CV] END ...max_depth=3, max_features=sqrt, n_estimators=200; total time=   0.9s\n",
            "[CV] END ...max_depth=3, max_features=sqrt, n_estimators=200; total time=   2.1s\n",
            "[CV] END ...max_depth=3, max_features=sqrt, n_estimators=200; total time=   0.7s\n",
            "[CV] END ...max_depth=3, max_features=sqrt, n_estimators=200; total time=   0.6s\n",
            "[CV] END ...max_depth=3, max_features=sqrt, n_estimators=200; total time=   0.6s\n",
            "[CV] END ...max_depth=3, max_features=sqrt, n_estimators=300; total time=   0.9s\n",
            "[CV] END ...max_depth=3, max_features=sqrt, n_estimators=300; total time=   0.9s\n",
            "[CV] END ...max_depth=3, max_features=sqrt, n_estimators=300; total time=   0.9s\n",
            "[CV] END ...max_depth=3, max_features=sqrt, n_estimators=300; total time=   0.9s\n",
            "[CV] END ...max_depth=3, max_features=sqrt, n_estimators=300; total time=   0.9s\n",
            "[CV] END ...max_depth=3, max_features=sqrt, n_estimators=400; total time=   1.2s\n",
            "[CV] END ...max_depth=3, max_features=sqrt, n_estimators=400; total time=   1.2s\n",
            "[CV] END ...max_depth=3, max_features=sqrt, n_estimators=400; total time=   1.2s\n",
            "[CV] END ...max_depth=3, max_features=sqrt, n_estimators=400; total time=   1.9s\n",
            "[CV] END ...max_depth=3, max_features=sqrt, n_estimators=400; total time=   1.7s\n",
            "[CV] END ...max_depth=3, max_features=sqrt, n_estimators=500; total time=   1.5s\n",
            "[CV] END ...max_depth=3, max_features=sqrt, n_estimators=500; total time=   1.5s\n",
            "[CV] END ...max_depth=3, max_features=sqrt, n_estimators=500; total time=   1.5s\n",
            "[CV] END ...max_depth=3, max_features=sqrt, n_estimators=500; total time=   1.5s\n",
            "[CV] END ...max_depth=3, max_features=sqrt, n_estimators=500; total time=   1.5s\n",
            "[CV] END ...max_depth=3, max_features=sqrt, n_estimators=600; total time=   1.8s\n",
            "[CV] END ...max_depth=3, max_features=sqrt, n_estimators=600; total time=   2.7s\n",
            "[CV] END ...max_depth=3, max_features=sqrt, n_estimators=600; total time=   2.0s\n",
            "[CV] END ...max_depth=3, max_features=sqrt, n_estimators=600; total time=   1.8s\n",
            "[CV] END ...max_depth=3, max_features=sqrt, n_estimators=600; total time=   1.8s\n",
            "[CV] END ...max_depth=3, max_features=sqrt, n_estimators=700; total time=   2.1s\n",
            "[CV] END ...max_depth=3, max_features=sqrt, n_estimators=700; total time=   2.1s\n",
            "[CV] END ...max_depth=3, max_features=sqrt, n_estimators=700; total time=   2.9s\n",
            "[CV] END ...max_depth=3, max_features=sqrt, n_estimators=700; total time=   2.4s\n",
            "[CV] END ...max_depth=3, max_features=sqrt, n_estimators=700; total time=   2.1s\n",
            "[CV] END ...max_depth=3, max_features=log2, n_estimators=100; total time=   0.3s\n",
            "[CV] END ...max_depth=3, max_features=log2, n_estimators=100; total time=   0.3s\n",
            "[CV] END ...max_depth=3, max_features=log2, n_estimators=100; total time=   0.3s\n",
            "[CV] END ...max_depth=3, max_features=log2, n_estimators=100; total time=   0.3s\n",
            "[CV] END ...max_depth=3, max_features=log2, n_estimators=100; total time=   0.3s\n",
            "[CV] END ...max_depth=3, max_features=log2, n_estimators=200; total time=   0.6s\n",
            "[CV] END ...max_depth=3, max_features=log2, n_estimators=200; total time=   0.6s\n",
            "[CV] END ...max_depth=3, max_features=log2, n_estimators=200; total time=   0.6s\n",
            "[CV] END ...max_depth=3, max_features=log2, n_estimators=200; total time=   0.6s\n",
            "[CV] END ...max_depth=3, max_features=log2, n_estimators=200; total time=   0.6s\n",
            "[CV] END ...max_depth=3, max_features=log2, n_estimators=300; total time=   0.9s\n",
            "[CV] END ...max_depth=3, max_features=log2, n_estimators=300; total time=   1.2s\n",
            "[CV] END ...max_depth=3, max_features=log2, n_estimators=300; total time=   1.4s\n",
            "[CV] END ...max_depth=3, max_features=log2, n_estimators=300; total time=   1.3s\n",
            "[CV] END ...max_depth=3, max_features=log2, n_estimators=300; total time=   0.9s\n",
            "[CV] END ...max_depth=3, max_features=log2, n_estimators=400; total time=   1.2s\n",
            "[CV] END ...max_depth=3, max_features=log2, n_estimators=400; total time=   1.2s\n",
            "[CV] END ...max_depth=3, max_features=log2, n_estimators=400; total time=   1.2s\n",
            "[CV] END ...max_depth=3, max_features=log2, n_estimators=400; total time=   1.3s\n",
            "[CV] END ...max_depth=3, max_features=log2, n_estimators=400; total time=   1.2s\n",
            "[CV] END ...max_depth=3, max_features=log2, n_estimators=500; total time=   1.5s\n",
            "[CV] END ...max_depth=3, max_features=log2, n_estimators=500; total time=   1.8s\n",
            "[CV] END ...max_depth=3, max_features=log2, n_estimators=500; total time=   2.4s\n",
            "[CV] END ...max_depth=3, max_features=log2, n_estimators=500; total time=   1.6s\n",
            "[CV] END ...max_depth=3, max_features=log2, n_estimators=500; total time=   1.5s\n",
            "[CV] END ...max_depth=3, max_features=log2, n_estimators=600; total time=   1.8s\n",
            "[CV] END ...max_depth=3, max_features=log2, n_estimators=600; total time=   1.9s\n",
            "[CV] END ...max_depth=3, max_features=log2, n_estimators=600; total time=   1.9s\n",
            "[CV] END ...max_depth=3, max_features=log2, n_estimators=600; total time=   2.0s\n",
            "[CV] END ...max_depth=3, max_features=log2, n_estimators=600; total time=   2.7s\n",
            "[CV] END ...max_depth=3, max_features=log2, n_estimators=700; total time=   2.1s\n",
            "[CV] END ...max_depth=3, max_features=log2, n_estimators=700; total time=   2.1s\n",
            "[CV] END ...max_depth=3, max_features=log2, n_estimators=700; total time=   2.1s\n",
            "[CV] END ...max_depth=3, max_features=log2, n_estimators=700; total time=   2.1s\n",
            "[CV] END ...max_depth=3, max_features=log2, n_estimators=700; total time=   2.6s\n",
            "[CV] END ...max_depth=4, max_features=sqrt, n_estimators=100; total time=   0.5s\n",
            "[CV] END ...max_depth=4, max_features=sqrt, n_estimators=100; total time=   0.6s\n",
            "[CV] END ...max_depth=4, max_features=sqrt, n_estimators=100; total time=   0.6s\n",
            "[CV] END ...max_depth=4, max_features=sqrt, n_estimators=100; total time=   0.4s\n",
            "[CV] END ...max_depth=4, max_features=sqrt, n_estimators=100; total time=   0.4s\n",
            "[CV] END ...max_depth=4, max_features=sqrt, n_estimators=200; total time=   0.7s\n",
            "[CV] END ...max_depth=4, max_features=sqrt, n_estimators=200; total time=   0.7s\n",
            "[CV] END ...max_depth=4, max_features=sqrt, n_estimators=200; total time=   0.7s\n",
            "[CV] END ...max_depth=4, max_features=sqrt, n_estimators=200; total time=   0.7s\n",
            "[CV] END ...max_depth=4, max_features=sqrt, n_estimators=200; total time=   0.7s\n",
            "[CV] END ...max_depth=4, max_features=sqrt, n_estimators=300; total time=   1.0s\n",
            "[CV] END ...max_depth=4, max_features=sqrt, n_estimators=300; total time=   1.0s\n",
            "[CV] END ...max_depth=4, max_features=sqrt, n_estimators=300; total time=   1.0s\n",
            "[CV] END ...max_depth=4, max_features=sqrt, n_estimators=300; total time=   1.0s\n",
            "[CV] END ...max_depth=4, max_features=sqrt, n_estimators=300; total time=   1.0s\n",
            "[CV] END ...max_depth=4, max_features=sqrt, n_estimators=400; total time=   2.6s\n",
            "[CV] END ...max_depth=4, max_features=sqrt, n_estimators=400; total time=   2.6s\n",
            "[CV] END ...max_depth=4, max_features=sqrt, n_estimators=400; total time=   1.4s\n",
            "[CV] END ...max_depth=4, max_features=sqrt, n_estimators=400; total time=   1.4s\n",
            "[CV] END ...max_depth=4, max_features=sqrt, n_estimators=400; total time=   1.4s\n",
            "[CV] END ...max_depth=4, max_features=sqrt, n_estimators=500; total time=   2.5s\n",
            "[CV] END ...max_depth=4, max_features=sqrt, n_estimators=500; total time=   3.5s\n",
            "[CV] END ...max_depth=4, max_features=sqrt, n_estimators=500; total time=   2.5s\n",
            "[CV] END ...max_depth=4, max_features=sqrt, n_estimators=500; total time=   1.7s\n",
            "[CV] END ...max_depth=4, max_features=sqrt, n_estimators=500; total time=   1.7s\n",
            "[CV] END ...max_depth=4, max_features=sqrt, n_estimators=600; total time=   2.1s\n",
            "[CV] END ...max_depth=4, max_features=sqrt, n_estimators=600; total time=   2.2s\n",
            "[CV] END ...max_depth=4, max_features=sqrt, n_estimators=600; total time=   7.0s\n",
            "[CV] END ...max_depth=4, max_features=sqrt, n_estimators=600; total time=   4.4s\n",
            "[CV] END ...max_depth=4, max_features=sqrt, n_estimators=600; total time=   3.6s\n",
            "[CV] END ...max_depth=4, max_features=sqrt, n_estimators=700; total time=   3.9s\n",
            "[CV] END ...max_depth=4, max_features=sqrt, n_estimators=700; total time=   2.8s\n",
            "[CV] END ...max_depth=4, max_features=sqrt, n_estimators=700; total time=   2.4s\n",
            "[CV] END ...max_depth=4, max_features=sqrt, n_estimators=700; total time=   2.5s\n",
            "[CV] END ...max_depth=4, max_features=sqrt, n_estimators=700; total time=   2.4s\n",
            "[CV] END ...max_depth=4, max_features=log2, n_estimators=100; total time=   0.4s\n",
            "[CV] END ...max_depth=4, max_features=log2, n_estimators=100; total time=   0.4s\n",
            "[CV] END ...max_depth=4, max_features=log2, n_estimators=100; total time=   0.5s\n",
            "[CV] END ...max_depth=4, max_features=log2, n_estimators=100; total time=   0.5s\n",
            "[CV] END ...max_depth=4, max_features=log2, n_estimators=100; total time=   0.6s\n",
            "[CV] END ...max_depth=4, max_features=log2, n_estimators=200; total time=   1.1s\n",
            "[CV] END ...max_depth=4, max_features=log2, n_estimators=200; total time=   0.8s\n",
            "[CV] END ...max_depth=4, max_features=log2, n_estimators=200; total time=   0.7s\n",
            "[CV] END ...max_depth=4, max_features=log2, n_estimators=200; total time=   0.7s\n",
            "[CV] END ...max_depth=4, max_features=log2, n_estimators=200; total time=   0.7s\n",
            "[CV] END ...max_depth=4, max_features=log2, n_estimators=300; total time=   1.0s\n",
            "[CV] END ...max_depth=4, max_features=log2, n_estimators=300; total time=   1.1s\n",
            "[CV] END ...max_depth=4, max_features=log2, n_estimators=300; total time=   1.1s\n",
            "[CV] END ...max_depth=4, max_features=log2, n_estimators=300; total time=   1.1s\n",
            "[CV] END ...max_depth=4, max_features=log2, n_estimators=300; total time=   1.0s\n",
            "[CV] END ...max_depth=4, max_features=log2, n_estimators=400; total time=   1.4s\n",
            "[CV] END ...max_depth=4, max_features=log2, n_estimators=400; total time=   1.8s\n",
            "[CV] END ...max_depth=4, max_features=log2, n_estimators=400; total time=   2.2s\n",
            "[CV] END ...max_depth=4, max_features=log2, n_estimators=400; total time=   1.4s\n",
            "[CV] END ...max_depth=4, max_features=log2, n_estimators=400; total time=   1.4s\n",
            "[CV] END ...max_depth=4, max_features=log2, n_estimators=500; total time=   1.7s\n",
            "[CV] END ...max_depth=4, max_features=log2, n_estimators=500; total time=   1.7s\n",
            "[CV] END ...max_depth=4, max_features=log2, n_estimators=500; total time=   1.7s\n",
            "[CV] END ...max_depth=4, max_features=log2, n_estimators=500; total time=   1.7s\n",
            "[CV] END ...max_depth=4, max_features=log2, n_estimators=500; total time=   2.6s\n",
            "[CV] END ...max_depth=4, max_features=log2, n_estimators=600; total time=   2.5s\n",
            "[CV] END ...max_depth=4, max_features=log2, n_estimators=600; total time=   2.1s\n",
            "[CV] END ...max_depth=4, max_features=log2, n_estimators=600; total time=   2.1s\n",
            "[CV] END ...max_depth=4, max_features=log2, n_estimators=600; total time=   2.1s\n",
            "[CV] END ...max_depth=4, max_features=log2, n_estimators=600; total time=   2.1s\n",
            "[CV] END ...max_depth=4, max_features=log2, n_estimators=700; total time=   3.7s\n",
            "[CV] END ...max_depth=4, max_features=log2, n_estimators=700; total time=   2.4s\n",
            "[CV] END ...max_depth=4, max_features=log2, n_estimators=700; total time=   2.5s\n",
            "[CV] END ...max_depth=4, max_features=log2, n_estimators=700; total time=   2.4s\n",
            "[CV] END ...max_depth=4, max_features=log2, n_estimators=700; total time=   2.5s\n",
            "[CV] END ...max_depth=5, max_features=sqrt, n_estimators=100; total time=   0.6s\n",
            "[CV] END ...max_depth=5, max_features=sqrt, n_estimators=100; total time=   0.6s\n",
            "[CV] END ...max_depth=5, max_features=sqrt, n_estimators=100; total time=   0.6s\n",
            "[CV] END ...max_depth=5, max_features=sqrt, n_estimators=100; total time=   0.6s\n",
            "[CV] END ...max_depth=5, max_features=sqrt, n_estimators=100; total time=   0.6s\n",
            "[CV] END ...max_depth=5, max_features=sqrt, n_estimators=200; total time=   0.8s\n",
            "[CV] END ...max_depth=5, max_features=sqrt, n_estimators=200; total time=   0.8s\n",
            "[CV] END ...max_depth=5, max_features=sqrt, n_estimators=200; total time=   0.8s\n",
            "[CV] END ...max_depth=5, max_features=sqrt, n_estimators=200; total time=   0.8s\n",
            "[CV] END ...max_depth=5, max_features=sqrt, n_estimators=200; total time=   0.8s\n",
            "[CV] END ...max_depth=5, max_features=sqrt, n_estimators=300; total time=   1.2s\n",
            "[CV] END ...max_depth=5, max_features=sqrt, n_estimators=300; total time=   1.2s\n",
            "[CV] END ...max_depth=5, max_features=sqrt, n_estimators=300; total time=   1.2s\n",
            "[CV] END ...max_depth=5, max_features=sqrt, n_estimators=300; total time=   1.2s\n",
            "[CV] END ...max_depth=5, max_features=sqrt, n_estimators=300; total time=   1.2s\n",
            "[CV] END ...max_depth=5, max_features=sqrt, n_estimators=400; total time=   2.4s\n",
            "[CV] END ...max_depth=5, max_features=sqrt, n_estimators=400; total time=   1.9s\n",
            "[CV] END ...max_depth=5, max_features=sqrt, n_estimators=400; total time=   1.6s\n",
            "[CV] END ...max_depth=5, max_features=sqrt, n_estimators=400; total time=   1.6s\n",
            "[CV] END ...max_depth=5, max_features=sqrt, n_estimators=400; total time=   1.6s\n",
            "[CV] END ...max_depth=5, max_features=sqrt, n_estimators=500; total time=   2.0s\n",
            "[CV] END ...max_depth=5, max_features=sqrt, n_estimators=500; total time=   2.0s\n",
            "[CV] END ...max_depth=5, max_features=sqrt, n_estimators=500; total time=   2.9s\n",
            "[CV] END ...max_depth=5, max_features=sqrt, n_estimators=500; total time=   2.1s\n",
            "[CV] END ...max_depth=5, max_features=sqrt, n_estimators=500; total time=   2.0s\n",
            "[CV] END ...max_depth=5, max_features=sqrt, n_estimators=600; total time=   2.4s\n",
            "[CV] END ...max_depth=5, max_features=sqrt, n_estimators=600; total time=   2.3s\n",
            "[CV] END ...max_depth=5, max_features=sqrt, n_estimators=600; total time=   2.8s\n",
            "[CV] END ...max_depth=5, max_features=sqrt, n_estimators=600; total time=   3.1s\n",
            "[CV] END ...max_depth=5, max_features=sqrt, n_estimators=600; total time=   2.4s\n",
            "[CV] END ...max_depth=5, max_features=sqrt, n_estimators=700; total time=   2.7s\n",
            "[CV] END ...max_depth=5, max_features=sqrt, n_estimators=700; total time=   2.7s\n",
            "[CV] END ...max_depth=5, max_features=sqrt, n_estimators=700; total time=   3.7s\n",
            "[CV] END ...max_depth=5, max_features=sqrt, n_estimators=700; total time=   3.0s\n",
            "[CV] END ...max_depth=5, max_features=sqrt, n_estimators=700; total time=   2.7s\n",
            "[CV] END ...max_depth=5, max_features=log2, n_estimators=100; total time=   0.4s\n",
            "[CV] END ...max_depth=5, max_features=log2, n_estimators=100; total time=   0.4s\n",
            "[CV] END ...max_depth=5, max_features=log2, n_estimators=100; total time=   0.4s\n",
            "[CV] END ...max_depth=5, max_features=log2, n_estimators=100; total time=   0.4s\n",
            "[CV] END ...max_depth=5, max_features=log2, n_estimators=100; total time=   0.4s\n",
            "[CV] END ...max_depth=5, max_features=log2, n_estimators=200; total time=   0.8s\n",
            "[CV] END ...max_depth=5, max_features=log2, n_estimators=200; total time=   0.8s\n",
            "[CV] END ...max_depth=5, max_features=log2, n_estimators=200; total time=   0.8s\n",
            "[CV] END ...max_depth=5, max_features=log2, n_estimators=200; total time=   1.7s\n",
            "[CV] END ...max_depth=5, max_features=log2, n_estimators=200; total time=   3.1s\n",
            "[CV] END ...max_depth=5, max_features=log2, n_estimators=300; total time=   1.2s\n",
            "[CV] END ...max_depth=5, max_features=log2, n_estimators=300; total time=   1.2s\n",
            "[CV] END ...max_depth=5, max_features=log2, n_estimators=300; total time=   1.2s\n",
            "[CV] END ...max_depth=5, max_features=log2, n_estimators=300; total time=   1.2s\n",
            "[CV] END ...max_depth=5, max_features=log2, n_estimators=300; total time=   1.2s\n",
            "[CV] END ...max_depth=5, max_features=log2, n_estimators=400; total time=   1.6s\n",
            "[CV] END ...max_depth=5, max_features=log2, n_estimators=400; total time=   1.6s\n",
            "[CV] END ...max_depth=5, max_features=log2, n_estimators=400; total time=   2.0s\n",
            "[CV] END ...max_depth=5, max_features=log2, n_estimators=400; total time=   2.3s\n",
            "[CV] END ...max_depth=5, max_features=log2, n_estimators=400; total time=   1.6s\n",
            "[CV] END ...max_depth=5, max_features=log2, n_estimators=500; total time=   2.0s\n",
            "[CV] END ...max_depth=5, max_features=log2, n_estimators=500; total time=   2.0s\n",
            "[CV] END ...max_depth=5, max_features=log2, n_estimators=500; total time=   2.0s\n",
            "[CV] END ...max_depth=5, max_features=log2, n_estimators=500; total time=   2.0s\n",
            "[CV] END ...max_depth=5, max_features=log2, n_estimators=500; total time=   2.9s\n",
            "[CV] END ...max_depth=5, max_features=log2, n_estimators=600; total time=   2.6s\n",
            "[CV] END ...max_depth=5, max_features=log2, n_estimators=600; total time=   2.4s\n",
            "[CV] END ...max_depth=5, max_features=log2, n_estimators=600; total time=   2.3s\n",
            "[CV] END ...max_depth=5, max_features=log2, n_estimators=600; total time=   2.3s\n",
            "[CV] END ...max_depth=5, max_features=log2, n_estimators=600; total time=   3.1s\n",
            "[CV] END ...max_depth=5, max_features=log2, n_estimators=700; total time=   3.2s\n",
            "[CV] END ...max_depth=5, max_features=log2, n_estimators=700; total time=   2.7s\n",
            "[CV] END ...max_depth=5, max_features=log2, n_estimators=700; total time=   2.8s\n",
            "[CV] END ...max_depth=5, max_features=log2, n_estimators=700; total time=   2.8s\n",
            "[CV] END ...max_depth=5, max_features=log2, n_estimators=700; total time=   3.8s\n",
            "[CV] END ...max_depth=6, max_features=sqrt, n_estimators=100; total time=   0.4s\n",
            "[CV] END ...max_depth=6, max_features=sqrt, n_estimators=100; total time=   0.4s\n",
            "[CV] END ...max_depth=6, max_features=sqrt, n_estimators=100; total time=   0.4s\n",
            "[CV] END ...max_depth=6, max_features=sqrt, n_estimators=100; total time=   0.5s\n",
            "[CV] END ...max_depth=6, max_features=sqrt, n_estimators=100; total time=   0.4s\n",
            "[CV] END ...max_depth=6, max_features=sqrt, n_estimators=200; total time=   0.9s\n",
            "[CV] END ...max_depth=6, max_features=sqrt, n_estimators=200; total time=   0.9s\n",
            "[CV] END ...max_depth=6, max_features=sqrt, n_estimators=200; total time=   0.9s\n",
            "[CV] END ...max_depth=6, max_features=sqrt, n_estimators=200; total time=   0.9s\n",
            "[CV] END ...max_depth=6, max_features=sqrt, n_estimators=200; total time=   0.9s\n",
            "[CV] END ...max_depth=6, max_features=sqrt, n_estimators=300; total time=   1.3s\n",
            "[CV] END ...max_depth=6, max_features=sqrt, n_estimators=300; total time=   1.3s\n",
            "[CV] END ...max_depth=6, max_features=sqrt, n_estimators=300; total time=   2.0s\n",
            "[CV] END ...max_depth=6, max_features=sqrt, n_estimators=300; total time=   1.8s\n",
            "[CV] END ...max_depth=6, max_features=sqrt, n_estimators=300; total time=   1.3s\n",
            "[CV] END ...max_depth=6, max_features=sqrt, n_estimators=400; total time=   1.7s\n",
            "[CV] END ...max_depth=6, max_features=sqrt, n_estimators=400; total time=   1.7s\n",
            "[CV] END ...max_depth=6, max_features=sqrt, n_estimators=400; total time=   1.8s\n",
            "[CV] END ...max_depth=6, max_features=sqrt, n_estimators=400; total time=   1.7s\n",
            "[CV] END ...max_depth=6, max_features=sqrt, n_estimators=400; total time=   2.0s\n",
            "[CV] END ...max_depth=6, max_features=sqrt, n_estimators=500; total time=   3.1s\n",
            "[CV] END ...max_depth=6, max_features=sqrt, n_estimators=500; total time=   2.2s\n",
            "[CV] END ...max_depth=6, max_features=sqrt, n_estimators=500; total time=   2.2s\n",
            "[CV] END ...max_depth=6, max_features=sqrt, n_estimators=500; total time=   2.2s\n",
            "[CV] END ...max_depth=6, max_features=sqrt, n_estimators=500; total time=   2.2s\n",
            "[CV] END ...max_depth=6, max_features=sqrt, n_estimators=600; total time=   3.6s\n",
            "[CV] END ...max_depth=6, max_features=sqrt, n_estimators=600; total time=   2.6s\n",
            "[CV] END ...max_depth=6, max_features=sqrt, n_estimators=600; total time=   2.6s\n",
            "[CV] END ...max_depth=6, max_features=sqrt, n_estimators=600; total time=   2.6s\n",
            "[CV] END ...max_depth=6, max_features=sqrt, n_estimators=600; total time=   4.3s\n",
            "[CV] END ...max_depth=6, max_features=sqrt, n_estimators=700; total time=   6.2s\n",
            "[CV] END ...max_depth=6, max_features=sqrt, n_estimators=700; total time=   4.3s\n",
            "[CV] END ...max_depth=6, max_features=sqrt, n_estimators=700; total time=   5.9s\n",
            "[CV] END ...max_depth=6, max_features=sqrt, n_estimators=700; total time=   3.5s\n",
            "[CV] END ...max_depth=6, max_features=sqrt, n_estimators=700; total time=   5.5s\n",
            "[CV] END ...max_depth=6, max_features=log2, n_estimators=100; total time=   1.3s\n",
            "[CV] END ...max_depth=6, max_features=log2, n_estimators=100; total time=   1.0s\n",
            "[CV] END ...max_depth=6, max_features=log2, n_estimators=100; total time=   1.2s\n",
            "[CV] END ...max_depth=6, max_features=log2, n_estimators=100; total time=   0.9s\n",
            "[CV] END ...max_depth=6, max_features=log2, n_estimators=100; total time=   0.6s\n",
            "[CV] END ...max_depth=6, max_features=log2, n_estimators=200; total time=   1.2s\n",
            "[CV] END ...max_depth=6, max_features=log2, n_estimators=200; total time=   1.5s\n",
            "[CV] END ...max_depth=6, max_features=log2, n_estimators=200; total time=   1.4s\n",
            "[CV] END ...max_depth=6, max_features=log2, n_estimators=200; total time=   1.5s\n",
            "[CV] END ...max_depth=6, max_features=log2, n_estimators=200; total time=   0.9s\n",
            "[CV] END ...max_depth=6, max_features=log2, n_estimators=300; total time=   1.3s\n",
            "[CV] END ...max_depth=6, max_features=log2, n_estimators=300; total time=   1.4s\n",
            "[CV] END ...max_depth=6, max_features=log2, n_estimators=300; total time=   2.0s\n",
            "[CV] END ...max_depth=6, max_features=log2, n_estimators=300; total time=   1.7s\n",
            "[CV] END ...max_depth=6, max_features=log2, n_estimators=300; total time=   1.3s\n",
            "[CV] END ...max_depth=6, max_features=log2, n_estimators=400; total time=   1.7s\n",
            "[CV] END ...max_depth=6, max_features=log2, n_estimators=400; total time=   1.7s\n",
            "[CV] END ...max_depth=6, max_features=log2, n_estimators=400; total time=   1.8s\n",
            "[CV] END ...max_depth=6, max_features=log2, n_estimators=400; total time=   1.8s\n",
            "[CV] END ...max_depth=6, max_features=log2, n_estimators=400; total time=   2.2s\n",
            "[CV] END ...max_depth=6, max_features=log2, n_estimators=500; total time=   3.0s\n",
            "[CV] END ...max_depth=6, max_features=log2, n_estimators=500; total time=   2.2s\n",
            "[CV] END ...max_depth=6, max_features=log2, n_estimators=500; total time=   2.2s\n",
            "[CV] END ...max_depth=6, max_features=log2, n_estimators=500; total time=   2.2s\n",
            "[CV] END ...max_depth=6, max_features=log2, n_estimators=500; total time=   2.1s\n",
            "[CV] END ...max_depth=6, max_features=log2, n_estimators=600; total time=   3.7s\n",
            "[CV] END ...max_depth=6, max_features=log2, n_estimators=600; total time=   2.6s\n",
            "[CV] END ...max_depth=6, max_features=log2, n_estimators=600; total time=   2.6s\n",
            "[CV] END ...max_depth=6, max_features=log2, n_estimators=600; total time=   3.1s\n",
            "[CV] END ...max_depth=6, max_features=log2, n_estimators=600; total time=   7.0s\n",
            "[CV] END ...max_depth=6, max_features=log2, n_estimators=700; total time=   4.2s\n",
            "[CV] END ...max_depth=6, max_features=log2, n_estimators=700; total time=   3.1s\n",
            "[CV] END ...max_depth=6, max_features=log2, n_estimators=700; total time=   3.8s\n",
            "[CV] END ...max_depth=6, max_features=log2, n_estimators=700; total time=   3.3s\n",
            "[CV] END ...max_depth=6, max_features=log2, n_estimators=700; total time=   3.0s\n",
            "[CV] END ...max_depth=7, max_features=sqrt, n_estimators=100; total time=   0.5s\n",
            "[CV] END ...max_depth=7, max_features=sqrt, n_estimators=100; total time=   0.5s\n",
            "[CV] END ...max_depth=7, max_features=sqrt, n_estimators=100; total time=   0.5s\n",
            "[CV] END ...max_depth=7, max_features=sqrt, n_estimators=100; total time=   0.5s\n",
            "[CV] END ...max_depth=7, max_features=sqrt, n_estimators=100; total time=   0.5s\n",
            "[CV] END ...max_depth=7, max_features=sqrt, n_estimators=200; total time=   0.9s\n",
            "[CV] END ...max_depth=7, max_features=sqrt, n_estimators=200; total time=   1.0s\n",
            "[CV] END ...max_depth=7, max_features=sqrt, n_estimators=200; total time=   1.4s\n",
            "[CV] END ...max_depth=7, max_features=sqrt, n_estimators=200; total time=   1.5s\n",
            "[CV] END ...max_depth=7, max_features=sqrt, n_estimators=200; total time=   1.2s\n",
            "[CV] END ...max_depth=7, max_features=sqrt, n_estimators=300; total time=   1.4s\n",
            "[CV] END ...max_depth=7, max_features=sqrt, n_estimators=300; total time=   1.4s\n",
            "[CV] END ...max_depth=7, max_features=sqrt, n_estimators=300; total time=   1.4s\n",
            "[CV] END ...max_depth=7, max_features=sqrt, n_estimators=300; total time=   1.4s\n",
            "[CV] END ...max_depth=7, max_features=sqrt, n_estimators=300; total time=   1.4s\n",
            "[CV] END ...max_depth=7, max_features=sqrt, n_estimators=400; total time=   1.9s\n",
            "[CV] END ...max_depth=7, max_features=sqrt, n_estimators=400; total time=   2.6s\n",
            "[CV] END ...max_depth=7, max_features=sqrt, n_estimators=400; total time=   2.4s\n",
            "[CV] END ...max_depth=7, max_features=sqrt, n_estimators=400; total time=   1.9s\n",
            "[CV] END ...max_depth=7, max_features=sqrt, n_estimators=400; total time=   2.1s\n",
            "[CV] END ...max_depth=7, max_features=sqrt, n_estimators=500; total time=   2.8s\n",
            "[CV] END ...max_depth=7, max_features=sqrt, n_estimators=500; total time=   2.5s\n",
            "[CV] END ...max_depth=7, max_features=sqrt, n_estimators=500; total time=   3.5s\n",
            "[CV] END ...max_depth=7, max_features=sqrt, n_estimators=500; total time=   2.3s\n",
            "[CV] END ...max_depth=7, max_features=sqrt, n_estimators=500; total time=   2.3s\n",
            "[CV] END ...max_depth=7, max_features=sqrt, n_estimators=600; total time=   2.8s\n",
            "[CV] END ...max_depth=7, max_features=sqrt, n_estimators=600; total time=   3.2s\n",
            "[CV] END ...max_depth=7, max_features=sqrt, n_estimators=600; total time=   3.7s\n",
            "[CV] END ...max_depth=7, max_features=sqrt, n_estimators=600; total time=   2.8s\n",
            "[CV] END ...max_depth=7, max_features=sqrt, n_estimators=600; total time=   2.8s\n",
            "[CV] END ...max_depth=7, max_features=sqrt, n_estimators=700; total time=   3.4s\n",
            "[CV] END ...max_depth=7, max_features=sqrt, n_estimators=700; total time=   4.4s\n",
            "[CV] END ...max_depth=7, max_features=sqrt, n_estimators=700; total time=   3.3s\n",
            "[CV] END ...max_depth=7, max_features=sqrt, n_estimators=700; total time=   3.3s\n",
            "[CV] END ...max_depth=7, max_features=sqrt, n_estimators=700; total time=   4.0s\n",
            "[CV] END ...max_depth=7, max_features=log2, n_estimators=100; total time=   0.8s\n",
            "[CV] END ...max_depth=7, max_features=log2, n_estimators=100; total time=   0.6s\n",
            "[CV] END ...max_depth=7, max_features=log2, n_estimators=100; total time=   0.5s\n",
            "[CV] END ...max_depth=7, max_features=log2, n_estimators=100; total time=   0.5s\n",
            "[CV] END ...max_depth=7, max_features=log2, n_estimators=100; total time=   0.5s\n",
            "[CV] END ...max_depth=7, max_features=log2, n_estimators=200; total time=   0.9s\n",
            "[CV] END ...max_depth=7, max_features=log2, n_estimators=200; total time=   0.9s\n",
            "[CV] END ...max_depth=7, max_features=log2, n_estimators=200; total time=   1.0s\n",
            "[CV] END ...max_depth=7, max_features=log2, n_estimators=200; total time=   1.0s\n",
            "[CV] END ...max_depth=7, max_features=log2, n_estimators=200; total time=   0.9s\n",
            "[CV] END ...max_depth=7, max_features=log2, n_estimators=300; total time=   1.4s\n",
            "[CV] END ...max_depth=7, max_features=log2, n_estimators=300; total time=   1.4s\n",
            "[CV] END ...max_depth=7, max_features=log2, n_estimators=300; total time=   1.8s\n",
            "[CV] END ...max_depth=7, max_features=log2, n_estimators=300; total time=   2.2s\n",
            "[CV] END ...max_depth=7, max_features=log2, n_estimators=300; total time=   1.5s\n",
            "[CV] END ...max_depth=7, max_features=log2, n_estimators=400; total time=   1.9s\n",
            "[CV] END ...max_depth=7, max_features=log2, n_estimators=400; total time=   3.4s\n",
            "[CV] END ...max_depth=7, max_features=log2, n_estimators=400; total time=   4.4s\n",
            "[CV] END ...max_depth=7, max_features=log2, n_estimators=400; total time=   5.0s\n",
            "[CV] END ...max_depth=7, max_features=log2, n_estimators=400; total time=   3.2s\n",
            "[CV] END ...max_depth=7, max_features=log2, n_estimators=500; total time=   3.7s\n",
            "[CV] END ...max_depth=7, max_features=log2, n_estimators=500; total time=   5.4s\n",
            "[CV] END ...max_depth=7, max_features=log2, n_estimators=500; total time=   3.7s\n",
            "[CV] END ...max_depth=7, max_features=log2, n_estimators=500; total time=   3.7s\n",
            "[CV] END ...max_depth=7, max_features=log2, n_estimators=500; total time=   3.1s\n",
            "[CV] END ...max_depth=7, max_features=log2, n_estimators=600; total time=   5.7s\n",
            "[CV] END ...max_depth=7, max_features=log2, n_estimators=600; total time=   2.8s\n",
            "[CV] END ...max_depth=7, max_features=log2, n_estimators=600; total time=   2.8s\n",
            "[CV] END ...max_depth=7, max_features=log2, n_estimators=600; total time=   3.5s\n",
            "[CV] END ...max_depth=7, max_features=log2, n_estimators=600; total time=   3.3s\n",
            "[CV] END ...max_depth=7, max_features=log2, n_estimators=700; total time=   3.3s\n",
            "[CV] END ...max_depth=7, max_features=log2, n_estimators=700; total time=   3.3s\n",
            "[CV] END ...max_depth=7, max_features=log2, n_estimators=700; total time=   4.4s\n",
            "[CV] END ...max_depth=7, max_features=log2, n_estimators=700; total time=   3.4s\n",
            "[CV] END ...max_depth=7, max_features=log2, n_estimators=700; total time=   3.3s\n",
            "[CV] END ...max_depth=8, max_features=sqrt, n_estimators=100; total time=   0.5s\n",
            "[CV] END ...max_depth=8, max_features=sqrt, n_estimators=100; total time=   0.5s\n",
            "[CV] END ...max_depth=8, max_features=sqrt, n_estimators=100; total time=   0.5s\n",
            "[CV] END ...max_depth=8, max_features=sqrt, n_estimators=100; total time=   0.5s\n",
            "[CV] END ...max_depth=8, max_features=sqrt, n_estimators=100; total time=   0.5s\n",
            "[CV] END ...max_depth=8, max_features=sqrt, n_estimators=200; total time=   1.0s\n",
            "[CV] END ...max_depth=8, max_features=sqrt, n_estimators=200; total time=   1.6s\n",
            "[CV] END ...max_depth=8, max_features=sqrt, n_estimators=200; total time=   1.6s\n",
            "[CV] END ...max_depth=8, max_features=sqrt, n_estimators=200; total time=   1.1s\n",
            "[CV] END ...max_depth=8, max_features=sqrt, n_estimators=200; total time=   1.0s\n",
            "[CV] END ...max_depth=8, max_features=sqrt, n_estimators=300; total time=   1.5s\n",
            "[CV] END ...max_depth=8, max_features=sqrt, n_estimators=300; total time=   2.1s\n",
            "[CV] END ...max_depth=8, max_features=sqrt, n_estimators=300; total time=   2.5s\n",
            "[CV] END ...max_depth=8, max_features=sqrt, n_estimators=300; total time=   1.8s\n",
            "[CV] END ...max_depth=8, max_features=sqrt, n_estimators=300; total time=   2.3s\n",
            "[CV] END ...max_depth=8, max_features=sqrt, n_estimators=400; total time=   3.8s\n",
            "[CV] END ...max_depth=8, max_features=sqrt, n_estimators=400; total time=   3.2s\n",
            "[CV] END ...max_depth=8, max_features=sqrt, n_estimators=400; total time=   3.0s\n",
            "[CV] END ...max_depth=8, max_features=sqrt, n_estimators=400; total time=   2.3s\n",
            "[CV] END ...max_depth=8, max_features=sqrt, n_estimators=400; total time=   2.9s\n",
            "[CV] END ...max_depth=8, max_features=sqrt, n_estimators=500; total time=   3.9s\n",
            "[CV] END ...max_depth=8, max_features=sqrt, n_estimators=500; total time=   5.3s\n",
            "[CV] END ...max_depth=8, max_features=sqrt, n_estimators=500; total time=   6.4s\n",
            "[CV] END ...max_depth=8, max_features=sqrt, n_estimators=500; total time=   4.2s\n",
            "[CV] END ...max_depth=8, max_features=sqrt, n_estimators=500; total time=   3.3s\n",
            "[CV] END ...max_depth=8, max_features=sqrt, n_estimators=600; total time=   4.1s\n",
            "[CV] END ...max_depth=8, max_features=sqrt, n_estimators=600; total time=   3.0s\n",
            "[CV] END ...max_depth=8, max_features=sqrt, n_estimators=600; total time=   3.1s\n",
            "[CV] END ...max_depth=8, max_features=sqrt, n_estimators=600; total time=   3.1s\n",
            "[CV] END ...max_depth=8, max_features=sqrt, n_estimators=600; total time=   4.1s\n",
            "[CV] END ...max_depth=8, max_features=sqrt, n_estimators=700; total time=   3.5s\n",
            "[CV] END ...max_depth=8, max_features=sqrt, n_estimators=700; total time=   3.5s\n",
            "[CV] END ...max_depth=8, max_features=sqrt, n_estimators=700; total time=   4.4s\n",
            "[CV] END ...max_depth=8, max_features=sqrt, n_estimators=700; total time=   3.9s\n",
            "[CV] END ...max_depth=8, max_features=sqrt, n_estimators=700; total time=   3.5s\n",
            "[CV] END ...max_depth=8, max_features=log2, n_estimators=100; total time=   0.5s\n",
            "[CV] END ...max_depth=8, max_features=log2, n_estimators=100; total time=   0.5s\n",
            "[CV] END ...max_depth=8, max_features=log2, n_estimators=100; total time=   0.5s\n",
            "[CV] END ...max_depth=8, max_features=log2, n_estimators=100; total time=   0.5s\n",
            "[CV] END ...max_depth=8, max_features=log2, n_estimators=100; total time=   0.5s\n",
            "[CV] END ...max_depth=8, max_features=log2, n_estimators=200; total time=   1.1s\n",
            "[CV] END ...max_depth=8, max_features=log2, n_estimators=200; total time=   1.6s\n",
            "[CV] END ...max_depth=8, max_features=log2, n_estimators=200; total time=   1.6s\n",
            "[CV] END ...max_depth=8, max_features=log2, n_estimators=200; total time=   1.0s\n",
            "[CV] END ...max_depth=8, max_features=log2, n_estimators=200; total time=   1.0s\n",
            "[CV] END ...max_depth=8, max_features=log2, n_estimators=300; total time=   1.5s\n",
            "[CV] END ...max_depth=8, max_features=log2, n_estimators=300; total time=   1.5s\n",
            "[CV] END ...max_depth=8, max_features=log2, n_estimators=300; total time=   1.5s\n",
            "[CV] END ...max_depth=8, max_features=log2, n_estimators=300; total time=   1.5s\n",
            "[CV] END ...max_depth=8, max_features=log2, n_estimators=300; total time=   1.5s\n",
            "[CV] END ...max_depth=8, max_features=log2, n_estimators=400; total time=   3.0s\n",
            "[CV] END ...max_depth=8, max_features=log2, n_estimators=400; total time=   2.1s\n",
            "[CV] END ...max_depth=8, max_features=log2, n_estimators=400; total time=   2.1s\n",
            "[CV] END ...max_depth=8, max_features=log2, n_estimators=400; total time=   2.1s\n",
            "[CV] END ...max_depth=8, max_features=log2, n_estimators=400; total time=   2.0s\n",
            "[CV] END ...max_depth=8, max_features=log2, n_estimators=500; total time=   2.8s\n",
            "[CV] END ...max_depth=8, max_features=log2, n_estimators=500; total time=   3.3s\n",
            "[CV] END ...max_depth=8, max_features=log2, n_estimators=500; total time=   2.5s\n",
            "[CV] END ...max_depth=8, max_features=log2, n_estimators=500; total time=   2.5s\n",
            "[CV] END ...max_depth=8, max_features=log2, n_estimators=500; total time=   2.5s\n",
            "[CV] END ...max_depth=8, max_features=log2, n_estimators=600; total time=   3.9s\n",
            "[CV] END ...max_depth=8, max_features=log2, n_estimators=600; total time=   3.2s\n",
            "[CV] END ...max_depth=8, max_features=log2, n_estimators=600; total time=   3.0s\n",
            "[CV] END ...max_depth=8, max_features=log2, n_estimators=600; total time=   3.0s\n",
            "[CV] END ...max_depth=8, max_features=log2, n_estimators=600; total time=   4.1s\n",
            "[CV] END ...max_depth=8, max_features=log2, n_estimators=700; total time=   3.6s\n",
            "[CV] END ...max_depth=8, max_features=log2, n_estimators=700; total time=   3.5s\n",
            "[CV] END ...max_depth=8, max_features=log2, n_estimators=700; total time=   4.9s\n",
            "[CV] END ...max_depth=8, max_features=log2, n_estimators=700; total time=   4.0s\n",
            "[CV] END ...max_depth=8, max_features=log2, n_estimators=700; total time=   3.5s\n",
            "[CV] END ...max_depth=9, max_features=sqrt, n_estimators=100; total time=   0.5s\n",
            "[CV] END ...max_depth=9, max_features=sqrt, n_estimators=100; total time=   0.5s\n",
            "[CV] END ...max_depth=9, max_features=sqrt, n_estimators=100; total time=   0.5s\n",
            "[CV] END ...max_depth=9, max_features=sqrt, n_estimators=100; total time=   0.5s\n",
            "[CV] END ...max_depth=9, max_features=sqrt, n_estimators=100; total time=   0.5s\n",
            "[CV] END ...max_depth=9, max_features=sqrt, n_estimators=200; total time=   1.1s\n",
            "[CV] END ...max_depth=9, max_features=sqrt, n_estimators=200; total time=   1.7s\n",
            "[CV] END ...max_depth=9, max_features=sqrt, n_estimators=200; total time=   1.6s\n",
            "[CV] END ...max_depth=9, max_features=sqrt, n_estimators=200; total time=   1.1s\n",
            "[CV] END ...max_depth=9, max_features=sqrt, n_estimators=200; total time=   1.1s\n",
            "[CV] END ...max_depth=9, max_features=sqrt, n_estimators=300; total time=   1.6s\n",
            "[CV] END ...max_depth=9, max_features=sqrt, n_estimators=300; total time=   1.6s\n",
            "[CV] END ...max_depth=9, max_features=sqrt, n_estimators=300; total time=   1.6s\n",
            "[CV] END ...max_depth=9, max_features=sqrt, n_estimators=300; total time=   1.6s\n",
            "[CV] END ...max_depth=9, max_features=sqrt, n_estimators=300; total time=   1.8s\n",
            "[CV] END ...max_depth=9, max_features=sqrt, n_estimators=400; total time=   3.2s\n",
            "[CV] END ...max_depth=9, max_features=sqrt, n_estimators=400; total time=   2.1s\n",
            "[CV] END ...max_depth=9, max_features=sqrt, n_estimators=400; total time=   2.1s\n",
            "[CV] END ...max_depth=9, max_features=sqrt, n_estimators=400; total time=   2.1s\n",
            "[CV] END ...max_depth=9, max_features=sqrt, n_estimators=400; total time=   2.1s\n",
            "[CV] END ...max_depth=9, max_features=sqrt, n_estimators=500; total time=   3.4s\n",
            "[CV] END ...max_depth=9, max_features=sqrt, n_estimators=500; total time=   2.9s\n",
            "[CV] END ...max_depth=9, max_features=sqrt, n_estimators=500; total time=   2.7s\n",
            "[CV] END ...max_depth=9, max_features=sqrt, n_estimators=500; total time=   2.6s\n",
            "[CV] END ...max_depth=9, max_features=sqrt, n_estimators=500; total time=   2.9s\n",
            "[CV] END ...max_depth=9, max_features=sqrt, n_estimators=600; total time=   4.1s\n",
            "[CV] END ...max_depth=9, max_features=sqrt, n_estimators=600; total time=   3.2s\n",
            "[CV] END ...max_depth=9, max_features=sqrt, n_estimators=600; total time=   3.2s\n",
            "[CV] END ...max_depth=9, max_features=sqrt, n_estimators=600; total time=   3.7s\n",
            "[CV] END ...max_depth=9, max_features=sqrt, n_estimators=600; total time=   3.9s\n",
            "[CV] END ...max_depth=9, max_features=sqrt, n_estimators=700; total time=   3.7s\n",
            "[CV] END ...max_depth=9, max_features=sqrt, n_estimators=700; total time=   3.8s\n",
            "[CV] END ...max_depth=9, max_features=sqrt, n_estimators=700; total time=   4.9s\n",
            "[CV] END ...max_depth=9, max_features=sqrt, n_estimators=700; total time=   7.1s\n",
            "[CV] END ...max_depth=9, max_features=sqrt, n_estimators=700; total time=   6.6s\n",
            "[CV] END ...max_depth=9, max_features=log2, n_estimators=100; total time=   0.5s\n",
            "[CV] END ...max_depth=9, max_features=log2, n_estimators=100; total time=   0.7s\n",
            "[CV] END ...max_depth=9, max_features=log2, n_estimators=100; total time=   1.1s\n",
            "[CV] END ...max_depth=9, max_features=log2, n_estimators=100; total time=   0.8s\n",
            "[CV] END ...max_depth=9, max_features=log2, n_estimators=100; total time=   1.1s\n",
            "[CV] END ...max_depth=9, max_features=log2, n_estimators=200; total time=   1.7s\n",
            "[CV] END ...max_depth=9, max_features=log2, n_estimators=200; total time=   1.8s\n",
            "[CV] END ...max_depth=9, max_features=log2, n_estimators=200; total time=   2.1s\n",
            "[CV] END ...max_depth=9, max_features=log2, n_estimators=200; total time=   2.9s\n",
            "[CV] END ...max_depth=9, max_features=log2, n_estimators=200; total time=   1.8s\n",
            "[CV] END ...max_depth=9, max_features=log2, n_estimators=300; total time=   3.1s\n",
            "[CV] END ...max_depth=9, max_features=log2, n_estimators=300; total time=   1.6s\n",
            "[CV] END ...max_depth=9, max_features=log2, n_estimators=300; total time=   1.6s\n",
            "[CV] END ...max_depth=9, max_features=log2, n_estimators=300; total time=   1.6s\n",
            "[CV] END ...max_depth=9, max_features=log2, n_estimators=300; total time=   2.4s\n",
            "[CV] END ...max_depth=9, max_features=log2, n_estimators=400; total time=   4.2s\n",
            "[CV] END ...max_depth=9, max_features=log2, n_estimators=400; total time=   2.6s\n",
            "[CV] END ...max_depth=9, max_features=log2, n_estimators=400; total time=   2.1s\n",
            "[CV] END ...max_depth=9, max_features=log2, n_estimators=400; total time=   2.1s\n",
            "[CV] END ...max_depth=9, max_features=log2, n_estimators=400; total time=   3.1s\n",
            "[CV] END ...max_depth=9, max_features=log2, n_estimators=500; total time=   2.9s\n",
            "[CV] END ...max_depth=9, max_features=log2, n_estimators=500; total time=   2.7s\n",
            "[CV] END ...max_depth=9, max_features=log2, n_estimators=500; total time=   2.7s\n",
            "[CV] END ...max_depth=9, max_features=log2, n_estimators=500; total time=   2.8s\n",
            "[CV] END ...max_depth=9, max_features=log2, n_estimators=500; total time=   3.6s\n",
            "[CV] END ...max_depth=9, max_features=log2, n_estimators=600; total time=   3.2s\n",
            "[CV] END ...max_depth=9, max_features=log2, n_estimators=600; total time=   3.2s\n",
            "[CV] END ...max_depth=9, max_features=log2, n_estimators=600; total time=   3.6s\n",
            "[CV] END ...max_depth=9, max_features=log2, n_estimators=600; total time=   4.1s\n",
            "[CV] END ...max_depth=9, max_features=log2, n_estimators=600; total time=   3.3s\n",
            "[CV] END ...max_depth=9, max_features=log2, n_estimators=700; total time=   3.7s\n",
            "[CV] END ...max_depth=9, max_features=log2, n_estimators=700; total time=   5.0s\n",
            "[CV] END ...max_depth=9, max_features=log2, n_estimators=700; total time=   3.8s\n",
            "[CV] END ...max_depth=9, max_features=log2, n_estimators=700; total time=   3.8s\n",
            "[CV] END ...max_depth=9, max_features=log2, n_estimators=700; total time=   4.8s\n",
            "[CV] END ..max_depth=10, max_features=sqrt, n_estimators=100; total time=   0.6s\n",
            "[CV] END ..max_depth=10, max_features=sqrt, n_estimators=100; total time=   0.6s\n",
            "[CV] END ..max_depth=10, max_features=sqrt, n_estimators=100; total time=   0.6s\n",
            "[CV] END ..max_depth=10, max_features=sqrt, n_estimators=100; total time=   0.6s\n",
            "[CV] END ..max_depth=10, max_features=sqrt, n_estimators=100; total time=   0.6s\n",
            "[CV] END ..max_depth=10, max_features=sqrt, n_estimators=200; total time=   1.2s\n",
            "[CV] END ..max_depth=10, max_features=sqrt, n_estimators=200; total time=   1.1s\n",
            "[CV] END ..max_depth=10, max_features=sqrt, n_estimators=200; total time=   1.1s\n",
            "[CV] END ..max_depth=10, max_features=sqrt, n_estimators=200; total time=   1.1s\n",
            "[CV] END ..max_depth=10, max_features=sqrt, n_estimators=200; total time=   1.2s\n",
            "[CV] END ..max_depth=10, max_features=sqrt, n_estimators=300; total time=   1.8s\n",
            "[CV] END ..max_depth=10, max_features=sqrt, n_estimators=300; total time=   2.6s\n",
            "[CV] END ..max_depth=10, max_features=sqrt, n_estimators=300; total time=   1.7s\n",
            "[CV] END ..max_depth=10, max_features=sqrt, n_estimators=300; total time=   1.7s\n",
            "[CV] END ..max_depth=10, max_features=sqrt, n_estimators=300; total time=   1.7s\n",
            "[CV] END ..max_depth=10, max_features=sqrt, n_estimators=400; total time=   2.3s\n",
            "[CV] END ..max_depth=10, max_features=sqrt, n_estimators=400; total time=   2.3s\n",
            "[CV] END ..max_depth=10, max_features=sqrt, n_estimators=400; total time=   3.4s\n",
            "[CV] END ..max_depth=10, max_features=sqrt, n_estimators=400; total time=   2.8s\n",
            "[CV] END ..max_depth=10, max_features=sqrt, n_estimators=400; total time=   2.2s\n",
            "[CV] END ..max_depth=10, max_features=sqrt, n_estimators=500; total time=   2.8s\n",
            "[CV] END ..max_depth=10, max_features=sqrt, n_estimators=500; total time=   3.2s\n",
            "[CV] END ..max_depth=10, max_features=sqrt, n_estimators=500; total time=   3.7s\n",
            "[CV] END ..max_depth=10, max_features=sqrt, n_estimators=500; total time=   2.8s\n",
            "[CV] END ..max_depth=10, max_features=sqrt, n_estimators=500; total time=   3.0s\n",
            "[CV] END ..max_depth=10, max_features=sqrt, n_estimators=600; total time=   3.8s\n",
            "[CV] END ..max_depth=10, max_features=sqrt, n_estimators=600; total time=   4.3s\n",
            "[CV] END ..max_depth=10, max_features=sqrt, n_estimators=600; total time=   3.4s\n",
            "[CV] END ..max_depth=10, max_features=sqrt, n_estimators=600; total time=   3.4s\n",
            "[CV] END ..max_depth=10, max_features=sqrt, n_estimators=600; total time=   4.5s\n",
            "[CV] END ..max_depth=10, max_features=sqrt, n_estimators=700; total time=   4.0s\n",
            "[CV] END ..max_depth=10, max_features=sqrt, n_estimators=700; total time=   4.0s\n",
            "[CV] END ..max_depth=10, max_features=sqrt, n_estimators=700; total time=   5.1s\n",
            "[CV] END ..max_depth=10, max_features=sqrt, n_estimators=700; total time=   4.0s\n",
            "[CV] END ..max_depth=10, max_features=sqrt, n_estimators=700; total time=   4.0s\n",
            "[CV] END ..max_depth=10, max_features=log2, n_estimators=100; total time=   0.6s\n",
            "[CV] END ..max_depth=10, max_features=log2, n_estimators=100; total time=   0.6s\n",
            "[CV] END ..max_depth=10, max_features=log2, n_estimators=100; total time=   0.6s\n",
            "[CV] END ..max_depth=10, max_features=log2, n_estimators=100; total time=   0.8s\n",
            "[CV] END ..max_depth=10, max_features=log2, n_estimators=100; total time=   0.9s\n",
            "[CV] END ..max_depth=10, max_features=log2, n_estimators=200; total time=   1.7s\n",
            "[CV] END ..max_depth=10, max_features=log2, n_estimators=200; total time=   1.1s\n",
            "[CV] END ..max_depth=10, max_features=log2, n_estimators=200; total time=   1.1s\n",
            "[CV] END ..max_depth=10, max_features=log2, n_estimators=200; total time=   1.1s\n",
            "[CV] END ..max_depth=10, max_features=log2, n_estimators=200; total time=   1.1s\n",
            "[CV] END ..max_depth=10, max_features=log2, n_estimators=300; total time=   1.7s\n",
            "[CV] END ..max_depth=10, max_features=log2, n_estimators=300; total time=   1.7s\n",
            "[CV] END ..max_depth=10, max_features=log2, n_estimators=300; total time=   1.7s\n",
            "[CV] END ..max_depth=10, max_features=log2, n_estimators=300; total time=   2.5s\n",
            "[CV] END ..max_depth=10, max_features=log2, n_estimators=300; total time=   2.0s\n",
            "[CV] END ..max_depth=10, max_features=log2, n_estimators=400; total time=   2.2s\n",
            "[CV] END ..max_depth=10, max_features=log2, n_estimators=400; total time=   2.3s\n",
            "[CV] END ..max_depth=10, max_features=log2, n_estimators=400; total time=   2.3s\n",
            "[CV] END ..max_depth=10, max_features=log2, n_estimators=400; total time=   2.4s\n",
            "[CV] END ..max_depth=10, max_features=log2, n_estimators=400; total time=   3.2s\n",
            "[CV] END ..max_depth=10, max_features=log2, n_estimators=500; total time=   2.8s\n",
            "[CV] END ..max_depth=10, max_features=log2, n_estimators=500; total time=   2.8s\n",
            "[CV] END ..max_depth=10, max_features=log2, n_estimators=500; total time=   2.8s\n",
            "[CV] END ..max_depth=10, max_features=log2, n_estimators=500; total time=   3.9s\n",
            "[CV] END ..max_depth=10, max_features=log2, n_estimators=500; total time=   3.4s\n",
            "[CV] END ..max_depth=10, max_features=log2, n_estimators=600; total time=   3.4s\n",
            "[CV] END ..max_depth=10, max_features=log2, n_estimators=600; total time=   3.5s\n",
            "[CV] END ..max_depth=10, max_features=log2, n_estimators=600; total time=   4.5s\n",
            "[CV] END ..max_depth=10, max_features=log2, n_estimators=600; total time=   3.4s\n",
            "[CV] END ..max_depth=10, max_features=log2, n_estimators=600; total time=   3.4s\n",
            "[CV] END ..max_depth=10, max_features=log2, n_estimators=700; total time=   5.2s\n",
            "[CV] END ..max_depth=10, max_features=log2, n_estimators=700; total time=   4.0s\n",
            "[CV] END ..max_depth=10, max_features=log2, n_estimators=700; total time=   4.0s\n",
            "[CV] END ..max_depth=10, max_features=log2, n_estimators=700; total time=   5.1s\n",
            "[CV] END ..max_depth=10, max_features=log2, n_estimators=700; total time=   4.0s\n"
          ]
        },
        {
          "output_type": "execute_result",
          "data": {
            "text/plain": [
              "GridSearchCV(cv=5, estimator=RandomForestClassifier(),\n",
              "             param_grid={'max_depth': [2, 3, 4, 5, 6, 7, 8, 9, 10],\n",
              "                         'max_features': ['sqrt', 'log2'],\n",
              "                         'n_estimators': [100, 200, 300, 400, 500, 600, 700]},\n",
              "             verbose=2)"
            ],
            "text/html": [
              "<style>#sk-container-id-1 {color: black;background-color: white;}#sk-container-id-1 pre{padding: 0;}#sk-container-id-1 div.sk-toggleable {background-color: white;}#sk-container-id-1 label.sk-toggleable__label {cursor: pointer;display: block;width: 100%;margin-bottom: 0;padding: 0.3em;box-sizing: border-box;text-align: center;}#sk-container-id-1 label.sk-toggleable__label-arrow:before {content: \"▸\";float: left;margin-right: 0.25em;color: #696969;}#sk-container-id-1 label.sk-toggleable__label-arrow:hover:before {color: black;}#sk-container-id-1 div.sk-estimator:hover label.sk-toggleable__label-arrow:before {color: black;}#sk-container-id-1 div.sk-toggleable__content {max-height: 0;max-width: 0;overflow: hidden;text-align: left;background-color: #f0f8ff;}#sk-container-id-1 div.sk-toggleable__content pre {margin: 0.2em;color: black;border-radius: 0.25em;background-color: #f0f8ff;}#sk-container-id-1 input.sk-toggleable__control:checked~div.sk-toggleable__content {max-height: 200px;max-width: 100%;overflow: auto;}#sk-container-id-1 input.sk-toggleable__control:checked~label.sk-toggleable__label-arrow:before {content: \"▾\";}#sk-container-id-1 div.sk-estimator input.sk-toggleable__control:checked~label.sk-toggleable__label {background-color: #d4ebff;}#sk-container-id-1 div.sk-label input.sk-toggleable__control:checked~label.sk-toggleable__label {background-color: #d4ebff;}#sk-container-id-1 input.sk-hidden--visually {border: 0;clip: rect(1px 1px 1px 1px);clip: rect(1px, 1px, 1px, 1px);height: 1px;margin: -1px;overflow: hidden;padding: 0;position: absolute;width: 1px;}#sk-container-id-1 div.sk-estimator {font-family: monospace;background-color: #f0f8ff;border: 1px dotted black;border-radius: 0.25em;box-sizing: border-box;margin-bottom: 0.5em;}#sk-container-id-1 div.sk-estimator:hover {background-color: #d4ebff;}#sk-container-id-1 div.sk-parallel-item::after {content: \"\";width: 100%;border-bottom: 1px solid gray;flex-grow: 1;}#sk-container-id-1 div.sk-label:hover label.sk-toggleable__label {background-color: #d4ebff;}#sk-container-id-1 div.sk-serial::before {content: \"\";position: absolute;border-left: 1px solid gray;box-sizing: border-box;top: 0;bottom: 0;left: 50%;z-index: 0;}#sk-container-id-1 div.sk-serial {display: flex;flex-direction: column;align-items: center;background-color: white;padding-right: 0.2em;padding-left: 0.2em;position: relative;}#sk-container-id-1 div.sk-item {position: relative;z-index: 1;}#sk-container-id-1 div.sk-parallel {display: flex;align-items: stretch;justify-content: center;background-color: white;position: relative;}#sk-container-id-1 div.sk-item::before, #sk-container-id-1 div.sk-parallel-item::before {content: \"\";position: absolute;border-left: 1px solid gray;box-sizing: border-box;top: 0;bottom: 0;left: 50%;z-index: -1;}#sk-container-id-1 div.sk-parallel-item {display: flex;flex-direction: column;z-index: 1;position: relative;background-color: white;}#sk-container-id-1 div.sk-parallel-item:first-child::after {align-self: flex-end;width: 50%;}#sk-container-id-1 div.sk-parallel-item:last-child::after {align-self: flex-start;width: 50%;}#sk-container-id-1 div.sk-parallel-item:only-child::after {width: 0;}#sk-container-id-1 div.sk-dashed-wrapped {border: 1px dashed gray;margin: 0 0.4em 0.5em 0.4em;box-sizing: border-box;padding-bottom: 0.4em;background-color: white;}#sk-container-id-1 div.sk-label label {font-family: monospace;font-weight: bold;display: inline-block;line-height: 1.2em;}#sk-container-id-1 div.sk-label-container {text-align: center;}#sk-container-id-1 div.sk-container {/* jupyter's `normalize.less` sets `[hidden] { display: none; }` but bootstrap.min.css set `[hidden] { display: none !important; }` so we also need the `!important` here to be able to override the default hidden behavior on the sphinx rendered scikit-learn.org. See: https://github.com/scikit-learn/scikit-learn/issues/21755 */display: inline-block !important;position: relative;}#sk-container-id-1 div.sk-text-repr-fallback {display: none;}</style><div id=\"sk-container-id-1\" class=\"sk-top-container\"><div class=\"sk-text-repr-fallback\"><pre>GridSearchCV(cv=5, estimator=RandomForestClassifier(),\n",
              "             param_grid={&#x27;max_depth&#x27;: [2, 3, 4, 5, 6, 7, 8, 9, 10],\n",
              "                         &#x27;max_features&#x27;: [&#x27;sqrt&#x27;, &#x27;log2&#x27;],\n",
              "                         &#x27;n_estimators&#x27;: [100, 200, 300, 400, 500, 600, 700]},\n",
              "             verbose=2)</pre><b>In a Jupyter environment, please rerun this cell to show the HTML representation or trust the notebook. <br />On GitHub, the HTML representation is unable to render, please try loading this page with nbviewer.org.</b></div><div class=\"sk-container\" hidden><div class=\"sk-item sk-dashed-wrapped\"><div class=\"sk-label-container\"><div class=\"sk-label sk-toggleable\"><input class=\"sk-toggleable__control sk-hidden--visually\" id=\"sk-estimator-id-1\" type=\"checkbox\" ><label for=\"sk-estimator-id-1\" class=\"sk-toggleable__label sk-toggleable__label-arrow\">GridSearchCV</label><div class=\"sk-toggleable__content\"><pre>GridSearchCV(cv=5, estimator=RandomForestClassifier(),\n",
              "             param_grid={&#x27;max_depth&#x27;: [2, 3, 4, 5, 6, 7, 8, 9, 10],\n",
              "                         &#x27;max_features&#x27;: [&#x27;sqrt&#x27;, &#x27;log2&#x27;],\n",
              "                         &#x27;n_estimators&#x27;: [100, 200, 300, 400, 500, 600, 700]},\n",
              "             verbose=2)</pre></div></div></div><div class=\"sk-parallel\"><div class=\"sk-parallel-item\"><div class=\"sk-item\"><div class=\"sk-label-container\"><div class=\"sk-label sk-toggleable\"><input class=\"sk-toggleable__control sk-hidden--visually\" id=\"sk-estimator-id-2\" type=\"checkbox\" ><label for=\"sk-estimator-id-2\" class=\"sk-toggleable__label sk-toggleable__label-arrow\">estimator: RandomForestClassifier</label><div class=\"sk-toggleable__content\"><pre>RandomForestClassifier()</pre></div></div></div><div class=\"sk-serial\"><div class=\"sk-item\"><div class=\"sk-estimator sk-toggleable\"><input class=\"sk-toggleable__control sk-hidden--visually\" id=\"sk-estimator-id-3\" type=\"checkbox\" ><label for=\"sk-estimator-id-3\" class=\"sk-toggleable__label sk-toggleable__label-arrow\">RandomForestClassifier</label><div class=\"sk-toggleable__content\"><pre>RandomForestClassifier()</pre></div></div></div></div></div></div></div></div></div></div>"
            ]
          },
          "metadata": {},
          "execution_count": 40
        }
      ],
      "source": [
        "grid = GridSearchCV(RandomForestClassifier(),param_grid,refit=True,verbose=2,cv=5)\n",
        "grid.fit(X_train,y_train)"
      ]
    },
    {
      "cell_type": "code",
      "execution_count": 41,
      "metadata": {
        "colab": {
          "base_uri": "https://localhost:8080/"
        },
        "id": "8rOfCbA7Dn1v",
        "outputId": "2b71ac21-9ea2-4cee-fca0-1b88fbbe57e8"
      },
      "outputs": [
        {
          "output_type": "stream",
          "name": "stdout",
          "text": [
            "RandomForestClassifier(max_depth=5, n_estimators=400)\n"
          ]
        }
      ],
      "source": [
        "print(grid.best_estimator_)"
      ]
    },
    {
      "cell_type": "code",
      "execution_count": 67,
      "metadata": {
        "scrolled": true,
        "id": "Ld_HTIKXDn1v"
      },
      "outputs": [],
      "source": [
        "#Random Forest\n",
        "classifier = RandomForestClassifier(max_depth=5, max_features='log2', n_estimators=400).fit(X_train, y_train)"
      ]
    },
    {
      "cell_type": "code",
      "execution_count": 68,
      "metadata": {
        "scrolled": true,
        "colab": {
          "base_uri": "https://localhost:8080/"
        },
        "id": "e5Zc29K8Dn1v",
        "outputId": "ea954038-921a-4ffc-b16b-cbf83d0d47b5"
      },
      "outputs": [
        {
          "output_type": "execute_result",
          "data": {
            "text/plain": [
              "duration    0.831162\n",
              "housing     0.131650\n",
              "loan        0.037188\n",
              "dtype: float64"
            ]
          },
          "metadata": {},
          "execution_count": 68
        }
      ],
      "source": [
        "feature_scores = pd.Series(classifier.feature_importances_, index=['housing','loan','duration']).sort_values(ascending=False)\n",
        "feature_scores"
      ]
    },
    {
      "cell_type": "code",
      "execution_count": 70,
      "metadata": {
        "colab": {
          "base_uri": "https://localhost:8080/",
          "height": 473
        },
        "id": "x263x4_xDn1w",
        "outputId": "8cb8e46b-f7ae-4ee0-d212-02b4470e2b42"
      },
      "outputs": [
        {
          "output_type": "display_data",
          "data": {
            "text/plain": [
              "<Figure size 640x480 with 1 Axes>"
            ],
            "image/png": "[encoded data removed]"
          },
          "metadata": {}
        }
      ],
      "source": [
        "sns.barplot(x=feature_scores, y=feature_scores.index)\n",
        "plt.xlabel('Puntuación de importancia de las característica')\n",
        "plt.ylabel('Característica')\n",
        "plt.title(\"Visualización de características importantes\")\n",
        "plt.show()"
      ]
    },
    {
      "cell_type": "markdown",
      "metadata": {
        "id": "ad7ABfRpDn1w"
      },
      "source": [
        "### **Evaluación**"
      ]
    },
    {
      "cell_type": "markdown",
      "source": [
        "Apartir de los datos de prueba."
      ],
      "metadata": {
        "id": "PjMZOVCXO17f"
      }
    },
    {
      "cell_type": "code",
      "execution_count": 72,
      "metadata": {
        "id": "O1cA1yuUDn1w"
      },
      "outputs": [],
      "source": [
        "y_pred = classifier.predict(X_test)"
      ]
    },
    {
      "cell_type": "code",
      "execution_count": 73,
      "metadata": {
        "scrolled": true,
        "colab": {
          "base_uri": "https://localhost:8080/"
        },
        "id": "I4yxZvYrDn1x",
        "outputId": "c008e1c9-391c-45df-a61e-2d41a29d11da"
      },
      "outputs": [
        {
          "output_type": "execute_result",
          "data": {
            "text/plain": [
              "array([1, 1, 0, 1, 1, 0, 1, 0, 1, 1, 1, 1, 1, 1, 0, 0, 0, 0, 0, 0])"
            ]
          },
          "metadata": {},
          "execution_count": 73
        }
      ],
      "source": [
        "y_pred[0:20]"
      ]
    },
    {
      "cell_type": "code",
      "execution_count": 74,
      "metadata": {
        "colab": {
          "base_uri": "https://localhost:8080/"
        },
        "id": "8onRNbTBDn1x",
        "outputId": "e1d64d19-4f80-46b3-9431-bdbd250408f0"
      },
      "outputs": [
        {
          "output_type": "execute_result",
          "data": {
            "text/plain": [
              "array([1, 1, 0, 1, 1, 0, 1, 0, 0, 1, 1, 1, 0, 0, 1, 0, 0, 0, 1, 1])"
            ]
          },
          "metadata": {},
          "execution_count": 74
        }
      ],
      "source": [
        "y_test[0:20]"
      ]
    },
    {
      "cell_type": "code",
      "execution_count": 75,
      "metadata": {
        "colab": {
          "base_uri": "https://localhost:8080/"
        },
        "id": "k-v3vdhdDn1x",
        "outputId": "99ec8b96-8762-4c59-a323-2d6650de1a96"
      },
      "outputs": [
        {
          "output_type": "execute_result",
          "data": {
            "text/plain": [
              "array([[795, 234],\n",
              "       [237, 850]])"
            ]
          },
          "metadata": {},
          "execution_count": 75
        }
      ],
      "source": [
        "confusion_matrix(y_test, y_pred)"
      ]
    },
    {
      "cell_type": "code",
      "execution_count": 76,
      "metadata": {
        "colab": {
          "base_uri": "https://localhost:8080/",
          "height": 1000
        },
        "id": "7_5V63wkDn1x",
        "outputId": "cd3d8649-9827-4c01-845f-6b14743137dd"
      },
      "outputs": [
        {
          "output_type": "stream",
          "name": "stdout",
          "text": [
            "Confusion matrix, without normalization\n",
            "[[795 234]\n",
            " [237 850]]\n",
            "Normalized confusion matrix\n",
            "[[0.77259475 0.22740525]\n",
            " [0.21803128 0.78196872]]\n"
          ]
        },
        {
          "output_type": "display_data",
          "data": {
            "text/plain": [
              "<Figure size 640x480 with 2 Axes>"
            ],
            "image/png": "[encoded data removed]"
          },
          "metadata": {}
        },
        {
          "output_type": "display_data",
          "data": {
            "text/plain": [
              "<Figure size 640x480 with 2 Axes>"
            ],
            "image/png": "[encoded data removed]"
          },
          "metadata": {}
        }
      ],
      "source": [
        "# Plot non-normalized confusion matrix\n",
        "titles_options = [(\"Confusion matrix, without normalization\", None),\n",
        "                  (\"Normalized confusion matrix\", 'true')]\n",
        "for title, normalize in titles_options:\n",
        "    disp = ConfusionMatrixDisplay.from_estimator(classifier, X_test, y_test,\n",
        "                                                 #display_labels=y_test,\n",
        "                                                 cmap=plt.cm.Blues,\n",
        "                                                 normalize=normalize)\n",
        "    disp.ax_.set_title(title)\n",
        "\n",
        "    print(title)\n",
        "    print(disp.confusion_matrix)\n",
        "\n",
        "plt.show()"
      ]
    },
    {
      "cell_type": "code",
      "execution_count": 77,
      "metadata": {
        "id": "6s9jpW-_Dn1y"
      },
      "outputs": [],
      "source": [
        "y_pred_prob = classifier.predict_proba(X_test)"
      ]
    },
    {
      "cell_type": "code",
      "execution_count": 78,
      "metadata": {
        "colab": {
          "base_uri": "https://localhost:8080/"
        },
        "id": "QwBW7DFqDn1y",
        "outputId": "b3cec515-552e-47d0-8e0f-7d2bf9a83330"
      },
      "outputs": [
        {
          "output_type": "execute_result",
          "data": {
            "text/plain": [
              "array([[0.26355719, 0.73644281],\n",
              "       [0.15237771, 0.84762229],\n",
              "       [0.588364  , 0.411636  ],\n",
              "       [0.10025836, 0.89974164],\n",
              "       [0.49831302, 0.50168698]])"
            ]
          },
          "metadata": {},
          "execution_count": 78
        }
      ],
      "source": [
        "y_pred_prob[0:5]"
      ]
    },
    {
      "cell_type": "code",
      "execution_count": 79,
      "metadata": {
        "colab": {
          "base_uri": "https://localhost:8080/"
        },
        "id": "tiK-u9ORDn1y",
        "outputId": "7ddc6ceb-4e59-4fca-ea22-f8c061d134a7"
      },
      "outputs": [
        {
          "output_type": "execute_result",
          "data": {
            "text/plain": [
              "array([0.73644281, 0.84762229, 0.411636  , 0.89974164, 0.50168698])"
            ]
          },
          "metadata": {},
          "execution_count": 79
        }
      ],
      "source": [
        "y_pred_prob[0:5,1]"
      ]
    },
    {
      "cell_type": "code",
      "execution_count": 80,
      "metadata": {
        "id": "ub1d7UuJDn1y"
      },
      "outputs": [],
      "source": [
        "false_positive_rate, true_positive_rate, thresholds = roc_curve(y_test, y_pred_prob[:,1])"
      ]
    },
    {
      "cell_type": "code",
      "execution_count": 81,
      "metadata": {
        "colab": {
          "base_uri": "https://localhost:8080/"
        },
        "id": "8lcF-ABZDn1z",
        "outputId": "0f8578ee-4b23-4889-ed53-3d3724bcd1e5"
      },
      "outputs": [
        {
          "output_type": "execute_result",
          "data": {
            "text/plain": [
              "0.8590914089383945"
            ]
          },
          "metadata": {},
          "execution_count": 81
        }
      ],
      "source": [
        "roc_auc = auc(false_positive_rate, true_positive_rate)\n",
        "roc_auc"
      ]
    },
    {
      "cell_type": "code",
      "execution_count": 82,
      "metadata": {
        "colab": {
          "base_uri": "https://localhost:8080/",
          "height": 472
        },
        "id": "w-6ju17WDn1z",
        "outputId": "c0c27739-e723-4ee0-9553-76ca4064b4f2"
      },
      "outputs": [
        {
          "output_type": "display_data",
          "data": {
            "text/plain": [
              "<Figure size 640x480 with 1 Axes>"
            ],
            "image/png": "[encoded data removed]"
          },
          "metadata": {}
        }
      ],
      "source": [
        "#ROC\n",
        "#El ROC traza la tasa de verdaderos positivos ( TP ) frente a la tasa de falsos positivos (FP) en diferentes umbrales de clasificación.\n",
        "#área bajo la curva característica operativa del receptor ( ROC )\n",
        "#Utiliza la probabilidad para decirnos qué tan bien un modelo separa las clases.\n",
        "#AUC\n",
        "#El valor AUC se utiliza como resumen del rendimiento del modelo.\n",
        "#Cuanto más esté hacia la izquierda la curva, más área habrá contenida bajo ella y por ende, mejor será el clasificador.\n",
        "\n",
        "#Una puntuación AUC de alrededor de 0,5 significaría que el modelo no puede hacer una distinción entre las dos clases y la curva se vería como una línea con una pendiente de 1.\n",
        "#Una puntuación AUC más cercana a 1 significa que el modelo tiene la capacidad de separe las dos clases y la curva se acercará a la esquina superior izquierda del gráfico.\n",
        "\n",
        "plt.title('ROC - Receiver Operating Characteristic')\n",
        "plt.plot(false_positive_rate,true_positive_rate, color='red',label = 'AUC = %0.2f' % roc_auc)\n",
        "plt.legend(loc = 'lower right')\n",
        "plt.plot([0, 1], [0, 1],linestyle='--')\n",
        "plt.axis('tight')\n",
        "plt.ylabel('True Positive Rate')\n",
        "plt.xlabel('False Positive Rate')\n",
        "plt.show()"
      ]
    },
    {
      "cell_type": "code",
      "execution_count": 86,
      "metadata": {
        "colab": {
          "base_uri": "https://localhost:8080/"
        },
        "id": "YYX40aoTDn1z",
        "outputId": "8c9f40a5-6c77-4d6f-a112-6eea872bfdd6"
      },
      "outputs": [
        {
          "output_type": "stream",
          "name": "stdout",
          "text": [
            "              precision    recall  f1-score   support\n",
            "\n",
            "           0       0.77      0.77      0.77      1029\n",
            "           1       0.78      0.78      0.78      1087\n",
            "\n",
            "    accuracy                           0.78      2116\n",
            "   macro avg       0.78      0.78      0.78      2116\n",
            "weighted avg       0.78      0.78      0.78      2116\n",
            "\n"
          ]
        }
      ],
      "source": [
        "print(classification_report(y_test, y_pred))"
      ]
    },
    {
      "cell_type": "code",
      "execution_count": 87,
      "metadata": {
        "id": "xP7q_fm6Dn1z"
      },
      "outputs": [],
      "source": [
        "dataf = pd.concat([pd.DataFrame(X_test),pd.DataFrame(y_test),pd.DataFrame(y_pred),pd.DataFrame(y_pred_prob)],axis=1)"
      ]
    },
    {
      "cell_type": "code",
      "execution_count": 88,
      "metadata": {
        "colab": {
          "base_uri": "https://localhost:8080/",
          "height": 206
        },
        "id": "c1KS44NEDn10",
        "outputId": "00059ef5-3af0-4885-bf2e-8c352d0dae15"
      },
      "outputs": [
        {
          "output_type": "execute_result",
          "data": {
            "text/plain": [
              "          0         1         2  0  0         0         1\n",
              "0 -0.979418 -0.390519 -0.327664  1  1  0.263557  0.736443\n",
              "1 -0.979418 -0.390519  0.637854  1  1  0.152378  0.847622\n",
              "2 -0.979418 -0.390519 -0.654321  0  0  0.588364  0.411636\n",
              "3 -0.979418 -0.390519  1.562901  1  1  0.100258  0.899742\n",
              "4  1.021015 -0.390519  0.079935  1  1  0.498313  0.501687"
            ],
            "text/html": [
              "\n",
              "  <div id=\"df-32a5d9ca-4f4d-4277-9ae2-6248365726e2\" class=\"colab-df-container\">\n",
              "    <div>\n",
              "<style scoped>\n",
              "    .dataframe tbody tr th:only-of-type {\n",
              "        vertical-align: middle;\n",
              "    }\n",
              "\n",
              "    .dataframe tbody tr th {\n",
              "        vertical-align: top;\n",
              "    }\n",
              "\n",
              "    .dataframe thead th {\n",
              "        text-align: right;\n",
              "    }\n",
              "</style>\n",
              "<table border=\"1\" class=\"dataframe\">\n",
              "  <thead>\n",
              "    <tr style=\"text-align: right;\">\n",
              "      <th></th>\n",
              "      <th>0</th>\n",
              "      <th>1</th>\n",
              "      <th>2</th>\n",
              "      <th>0</th>\n",
              "      <th>0</th>\n",
              "      <th>0</th>\n",
              "      <th>1</th>\n",
              "    </tr>\n",
              "  </thead>\n",
              "  <tbody>\n",
              "    <tr>\n",
              "      <th>0</th>\n",
              "      <td>-0.979418</td>\n",
              "      <td>-0.390519</td>\n",
              "      <td>-0.327664</td>\n",
              "      <td>1</td>\n",
              "      <td>1</td>\n",
              "      <td>0.263557</td>\n",
              "      <td>0.736443</td>\n",
              "    </tr>\n",
              "    <tr>\n",
              "      <th>1</th>\n",
              "      <td>-0.979418</td>\n",
              "      <td>-0.390519</td>\n",
              "      <td>0.637854</td>\n",
              "      <td>1</td>\n",
              "      <td>1</td>\n",
              "      <td>0.152378</td>\n",
              "      <td>0.847622</td>\n",
              "    </tr>\n",
              "    <tr>\n",
              "      <th>2</th>\n",
              "      <td>-0.979418</td>\n",
              "      <td>-0.390519</td>\n",
              "      <td>-0.654321</td>\n",
              "      <td>0</td>\n",
              "      <td>0</td>\n",
              "      <td>0.588364</td>\n",
              "      <td>0.411636</td>\n",
              "    </tr>\n",
              "    <tr>\n",
              "      <th>3</th>\n",
              "      <td>-0.979418</td>\n",
              "      <td>-0.390519</td>\n",
              "      <td>1.562901</td>\n",
              "      <td>1</td>\n",
              "      <td>1</td>\n",
              "      <td>0.100258</td>\n",
              "      <td>0.899742</td>\n",
              "    </tr>\n",
              "    <tr>\n",
              "      <th>4</th>\n",
              "      <td>1.021015</td>\n",
              "      <td>-0.390519</td>\n",
              "      <td>0.079935</td>\n",
              "      <td>1</td>\n",
              "      <td>1</td>\n",
              "      <td>0.498313</td>\n",
              "      <td>0.501687</td>\n",
              "    </tr>\n",
              "  </tbody>\n",
              "</table>\n",
              "</div>\n",
              "    <div class=\"colab-df-buttons\">\n",
              "\n",
              "  <div class=\"colab-df-container\">\n",
              "    <button class=\"colab-df-convert\" onclick=\"convertToInteractive('df-32a5d9ca-4f4d-4277-9ae2-6248365726e2')\"\n",
              "            title=\"Convert this dataframe to an interactive table.\"\n",
              "            style=\"display:none;\">\n",
              "\n",
              "  <svg xmlns=\"http://www.w3.org/2000/svg\" height=\"24px\" viewBox=\"0 -960 960 960\">\n",
              "    <path d=\"M120-120v-720h720v720H120Zm60-500h600v-160H180v160Zm220 220h160v-160H400v160Zm0 220h160v-160H400v160ZM180-400h160v-160H180v160Zm440 0h160v-160H620v160ZM180-180h160v-160H180v160Zm440 0h160v-160H620v160Z\"/>\n",
              "  </svg>\n",
              "    </button>\n",
              "\n",
              "  <style>\n",
              "    .colab-df-container {\n",
              "      display:flex;\n",
              "      gap: 12px;\n",
              "    }\n",
              "\n",
              "    .colab-df-convert {\n",
              "      background-color: #E8F0FE;\n",
              "      border: none;\n",
              "      border-radius: 50%;\n",
              "      cursor: pointer;\n",
              "      display: none;\n",
              "      fill: #1967D2;\n",
              "      height: 32px;\n",
              "      padding: 0 0 0 0;\n",
              "      width: 32px;\n",
              "    }\n",
              "\n",
              "    .colab-df-convert:hover {\n",
              "      background-color: #E2EBFA;\n",
              "      box-shadow: 0px 1px 2px rgba(60, 64, 67, 0.3), 0px 1px 3px 1px rgba(60, 64, 67, 0.15);\n",
              "      fill: #174EA6;\n",
              "    }\n",
              "\n",
              "    .colab-df-buttons div {\n",
              "      margin-bottom: 4px;\n",
              "    }\n",
              "\n",
              "    [theme=dark] .colab-df-convert {\n",
              "      background-color: #3B4455;\n",
              "      fill: #D2E3FC;\n",
              "    }\n",
              "\n",
              "    [theme=dark] .colab-df-convert:hover {\n",
              "      background-color: #434B5C;\n",
              "      box-shadow: 0px 1px 3px 1px rgba(0, 0, 0, 0.15);\n",
              "      filter: drop-shadow(0px 1px 2px rgba(0, 0, 0, 0.3));\n",
              "      fill: #FFFFFF;\n",
              "    }\n",
              "  </style>\n",
              "\n",
              "    <script>\n",
              "      const buttonEl =\n",
              "        document.querySelector('#df-32a5d9ca-4f4d-4277-9ae2-6248365726e2 button.colab-df-convert');\n",
              "      buttonEl.style.display =\n",
              "        google.colab.kernel.accessAllowed ? 'block' : 'none';\n",
              "\n",
              "      async function convertToInteractive(key) {\n",
              "        const element = document.querySelector('#df-32a5d9ca-4f4d-4277-9ae2-6248365726e2');\n",
              "        const dataTable =\n",
              "          await google.colab.kernel.invokeFunction('convertToInteractive',\n",
              "                                                    [key], {});\n",
              "        if (!dataTable) return;\n",
              "\n",
              "        const docLinkHtml = 'Like what you see? Visit the ' +\n",
              "          '<a target=\"_blank\" href=https://colab.research.google.com/notebooks/data_table.ipynb>data table notebook</a>'\n",
              "          + ' to learn more about interactive tables.';\n",
              "        element.innerHTML = '';\n",
              "        dataTable['output_type'] = 'display_data';\n",
              "        await google.colab.output.renderOutput(dataTable, element);\n",
              "        const docLink = document.createElement('div');\n",
              "        docLink.innerHTML = docLinkHtml;\n",
              "        element.appendChild(docLink);\n",
              "      }\n",
              "    </script>\n",
              "  </div>\n",
              "\n",
              "\n",
              "<div id=\"df-c2d853f6-f205-4b55-985e-0b28a7dbefd3\">\n",
              "  <button class=\"colab-df-quickchart\" onclick=\"quickchart('df-c2d853f6-f205-4b55-985e-0b28a7dbefd3')\"\n",
              "            title=\"Suggest charts\"\n",
              "            style=\"display:none;\">\n",
              "\n",
              "<svg xmlns=\"http://www.w3.org/2000/svg\" height=\"24px\"viewBox=\"0 0 24 24\"\n",
              "     width=\"24px\">\n",
              "    <g>\n",
              "        <path d=\"M19 3H5c-1.1 0-2 .9-2 2v14c0 1.1.9 2 2 2h14c1.1 0 2-.9 2-2V5c0-1.1-.9-2-2-2zM9 17H7v-7h2v7zm4 0h-2V7h2v10zm4 0h-2v-4h2v4z\"/>\n",
              "    </g>\n",
              "</svg>\n",
              "  </button>\n",
              "\n",
              "<style>\n",
              "  .colab-df-quickchart {\n",
              "      --bg-color: #E8F0FE;\n",
              "      --fill-color: #1967D2;\n",
              "      --hover-bg-color: #E2EBFA;\n",
              "      --hover-fill-color: #174EA6;\n",
              "      --disabled-fill-color: #AAA;\n",
              "      --disabled-bg-color: #DDD;\n",
              "  }\n",
              "\n",
              "  [theme=dark] .colab-df-quickchart {\n",
              "      --bg-color: #3B4455;\n",
              "      --fill-color: #D2E3FC;\n",
              "      --hover-bg-color: #434B5C;\n",
              "      --hover-fill-color: #FFFFFF;\n",
              "      --disabled-bg-color: #3B4455;\n",
              "      --disabled-fill-color: #666;\n",
              "  }\n",
              "\n",
              "  .colab-df-quickchart {\n",
              "    background-color: var(--bg-color);\n",
              "    border: none;\n",
              "    border-radius: 50%;\n",
              "    cursor: pointer;\n",
              "    display: none;\n",
              "    fill: var(--fill-color);\n",
              "    height: 32px;\n",
              "    padding: 0;\n",
              "    width: 32px;\n",
              "  }\n",
              "\n",
              "  .colab-df-quickchart:hover {\n",
              "    background-color: var(--hover-bg-color);\n",
              "    box-shadow: 0 1px 2px rgba(60, 64, 67, 0.3), 0 1px 3px 1px rgba(60, 64, 67, 0.15);\n",
              "    fill: var(--button-hover-fill-color);\n",
              "  }\n",
              "\n",
              "  .colab-df-quickchart-complete:disabled,\n",
              "  .colab-df-quickchart-complete:disabled:hover {\n",
              "    background-color: var(--disabled-bg-color);\n",
              "    fill: var(--disabled-fill-color);\n",
              "    box-shadow: none;\n",
              "  }\n",
              "\n",
              "  .colab-df-spinner {\n",
              "    border: 2px solid var(--fill-color);\n",
              "    border-color: transparent;\n",
              "    border-bottom-color: var(--fill-color);\n",
              "    animation:\n",
              "      spin 1s steps(1) infinite;\n",
              "  }\n",
              "\n",
              "  @keyframes spin {\n",
              "    0% {\n",
              "      border-color: transparent;\n",
              "      border-bottom-color: var(--fill-color);\n",
              "      border-left-color: var(--fill-color);\n",
              "    }\n",
              "    20% {\n",
              "      border-color: transparent;\n",
              "      border-left-color: var(--fill-color);\n",
              "      border-top-color: var(--fill-color);\n",
              "    }\n",
              "    30% {\n",
              "      border-color: transparent;\n",
              "      border-left-color: var(--fill-color);\n",
              "      border-top-color: var(--fill-color);\n",
              "      border-right-color: var(--fill-color);\n",
              "    }\n",
              "    40% {\n",
              "      border-color: transparent;\n",
              "      border-right-color: var(--fill-color);\n",
              "      border-top-color: var(--fill-color);\n",
              "    }\n",
              "    60% {\n",
              "      border-color: transparent;\n",
              "      border-right-color: var(--fill-color);\n",
              "    }\n",
              "    80% {\n",
              "      border-color: transparent;\n",
              "      border-right-color: var(--fill-color);\n",
              "      border-bottom-color: var(--fill-color);\n",
              "    }\n",
              "    90% {\n",
              "      border-color: transparent;\n",
              "      border-bottom-color: var(--fill-color);\n",
              "    }\n",
              "  }\n",
              "</style>\n",
              "\n",
              "  <script>\n",
              "    async function quickchart(key) {\n",
              "      const quickchartButtonEl =\n",
              "        document.querySelector('#' + key + ' button');\n",
              "      quickchartButtonEl.disabled = true;  // To prevent multiple clicks.\n",
              "      quickchartButtonEl.classList.add('colab-df-spinner');\n",
              "      try {\n",
              "        const charts = await google.colab.kernel.invokeFunction(\n",
              "            'suggestCharts', [key], {});\n",
              "      } catch (error) {\n",
              "        console.error('Error during call to suggestCharts:', error);\n",
              "      }\n",
              "      quickchartButtonEl.classList.remove('colab-df-spinner');\n",
              "      quickchartButtonEl.classList.add('colab-df-quickchart-complete');\n",
              "    }\n",
              "    (() => {\n",
              "      let quickchartButtonEl =\n",
              "        document.querySelector('#df-c2d853f6-f205-4b55-985e-0b28a7dbefd3 button');\n",
              "      quickchartButtonEl.style.display =\n",
              "        google.colab.kernel.accessAllowed ? 'block' : 'none';\n",
              "    })();\n",
              "  </script>\n",
              "</div>\n",
              "\n",
              "    </div>\n",
              "  </div>\n"
            ],
            "application/vnd.google.colaboratory.intrinsic+json": {
              "type": "dataframe",
              "variable_name": "dataf",
              "summary": "{\n  \"name\": \"dataf\",\n  \"rows\": 2116,\n  \"fields\": [\n    {\n      \"column\": 0,\n      \"properties\": {\n        \"dtype\": \"number\",\n        \"std\": 1.0002363786819592,\n        \"min\": -0.9794178164906374,\n        \"max\": 1.0210147121717068,\n        \"num_unique_values\": 2,\n        \"samples\": [\n          1.0210147121717068,\n          -0.9794178164906374\n        ],\n        \"semantic_type\": \"\",\n        \"description\": \"\"\n      }\n    },\n    {\n      \"column\": 1,\n      \"properties\": {\n        \"dtype\": \"number\",\n        \"std\": 1.0002363786819601,\n        \"min\": -0.39051945741934335,\n        \"max\": 2.5606918707925517,\n        \"num_unique_values\": 2,\n        \"samples\": [\n          2.5606918707925517,\n          -0.39051945741934335\n        ],\n        \"semantic_type\": \"\",\n        \"description\": \"\"\n      }\n    },\n    {\n      \"column\": 2,\n      \"properties\": {\n        \"dtype\": \"number\",\n        \"std\": 1.0002363786819446,\n        \"min\": -1.0734833646494548,\n        \"max\": 10.131149957242242,\n        \"num_unique_values\": 837,\n        \"samples\": [\n          -0.42884114824546926,\n          0.753484710540316\n        ],\n        \"semantic_type\": \"\",\n        \"description\": \"\"\n      }\n    },\n    {\n      \"column\": 0,\n      \"properties\": {\n        \"dtype\": \"number\",\n        \"std\": 0,\n        \"min\": 0,\n        \"max\": 1,\n        \"num_unique_values\": 2,\n        \"samples\": [\n          0,\n          1\n        ],\n        \"semantic_type\": \"\",\n        \"description\": \"\"\n      }\n    },\n    {\n      \"column\": 0,\n      \"properties\": {\n        \"dtype\": \"number\",\n        \"std\": 0,\n        \"min\": 0,\n        \"max\": 1,\n        \"num_unique_values\": 2,\n        \"samples\": [\n          0,\n          1\n        ],\n        \"semantic_type\": \"\",\n        \"description\": \"\"\n      }\n    },\n    {\n      \"column\": 0,\n      \"properties\": {\n        \"dtype\": \"number\",\n        \"std\": 0.3051850771197167,\n        \"min\": 0.064261096849006,\n        \"max\": 0.9911303248577598,\n        \"num_unique_values\": 908,\n        \"samples\": [\n          0.19943400616798704,\n          0.5933411434265564\n        ],\n        \"semantic_type\": \"\",\n        \"description\": \"\"\n      }\n    },\n    {\n      \"column\": 1,\n      \"properties\": {\n        \"dtype\": \"number\",\n        \"std\": 0.3051850771197167,\n        \"min\": 0.008869675142239616,\n        \"max\": 0.9357389031509946,\n        \"num_unique_values\": 908,\n        \"samples\": [\n          0.8005659938320134,\n          0.4066588565734433\n        ],\n        \"semantic_type\": \"\",\n        \"description\": \"\"\n      }\n    }\n  ]\n}"
            }
          },
          "metadata": {},
          "execution_count": 88
        }
      ],
      "source": [
        "dataf.head(5)"
      ]
    },
    {
      "cell_type": "code",
      "execution_count": 90,
      "metadata": {
        "id": "gt4FrH9VDn10"
      },
      "outputs": [],
      "source": [
        "dataf.columns = ['c_housing','c_loan','duration','Target','Target_Pred','Target_Pred_Prob_0','Target_Pred_Prob_1']"
      ]
    },
    {
      "cell_type": "code",
      "execution_count": 91,
      "metadata": {
        "colab": {
          "base_uri": "https://localhost:8080/",
          "height": 363
        },
        "id": "Fu1eHlY7Dn10",
        "outputId": "d7edd485-1915-4adf-c5f5-a0103bdcf50c"
      },
      "outputs": [
        {
          "output_type": "execute_result",
          "data": {
            "text/plain": [
              "   c_housing    c_loan  duration  Target  Target_Pred  Target_Pred_Prob_0  \\\n",
              "0  -0.979418 -0.390519 -0.327664       1            1            0.263557   \n",
              "1  -0.979418 -0.390519  0.637854       1            1            0.152378   \n",
              "2  -0.979418 -0.390519 -0.654321       0            0            0.588364   \n",
              "3  -0.979418 -0.390519  1.562901       1            1            0.100258   \n",
              "4   1.021015 -0.390519  0.079935       1            1            0.498313   \n",
              "5   1.021015 -0.390519 -1.015668       0            0            0.983006   \n",
              "6   1.021015 -0.390519  1.629389       1            1            0.099141   \n",
              "7  -0.979418 -0.390519 -0.905819       0            0            0.934938   \n",
              "8  -0.979418 -0.390519  0.603165       0            1            0.152796   \n",
              "9  -0.979418 -0.390519 -0.475094       1            1            0.300411   \n",
              "\n",
              "   Target_Pred_Prob_1  \n",
              "0            0.736443  \n",
              "1            0.847622  \n",
              "2            0.411636  \n",
              "3            0.899742  \n",
              "4            0.501687  \n",
              "5            0.016994  \n",
              "6            0.900859  \n",
              "7            0.065062  \n",
              "8            0.847204  \n",
              "9            0.699589  "
            ],
            "text/html": [
              "\n",
              "  <div id=\"df-07a89d04-dda4-4c7a-88e5-371959c8eda4\" class=\"colab-df-container\">\n",
              "    <div>\n",
              "<style scoped>\n",
              "    .dataframe tbody tr th:only-of-type {\n",
              "        vertical-align: middle;\n",
              "    }\n",
              "\n",
              "    .dataframe tbody tr th {\n",
              "        vertical-align: top;\n",
              "    }\n",
              "\n",
              "    .dataframe thead th {\n",
              "        text-align: right;\n",
              "    }\n",
              "</style>\n",
              "<table border=\"1\" class=\"dataframe\">\n",
              "  <thead>\n",
              "    <tr style=\"text-align: right;\">\n",
              "      <th></th>\n",
              "      <th>c_housing</th>\n",
              "      <th>c_loan</th>\n",
              "      <th>duration</th>\n",
              "      <th>Target</th>\n",
              "      <th>Target_Pred</th>\n",
              "      <th>Target_Pred_Prob_0</th>\n",
              "      <th>Target_Pred_Prob_1</th>\n",
              "    </tr>\n",
              "  </thead>\n",
              "  <tbody>\n",
              "    <tr>\n",
              "      <th>0</th>\n",
              "      <td>-0.979418</td>\n",
              "      <td>-0.390519</td>\n",
              "      <td>-0.327664</td>\n",
              "      <td>1</td>\n",
              "      <td>1</td>\n",
              "      <td>0.263557</td>\n",
              "      <td>0.736443</td>\n",
              "    </tr>\n",
              "    <tr>\n",
              "      <th>1</th>\n",
              "      <td>-0.979418</td>\n",
              "      <td>-0.390519</td>\n",
              "      <td>0.637854</td>\n",
              "      <td>1</td>\n",
              "      <td>1</td>\n",
              "      <td>0.152378</td>\n",
              "      <td>0.847622</td>\n",
              "    </tr>\n",
              "    <tr>\n",
              "      <th>2</th>\n",
              "      <td>-0.979418</td>\n",
              "      <td>-0.390519</td>\n",
              "      <td>-0.654321</td>\n",
              "      <td>0</td>\n",
              "      <td>0</td>\n",
              "      <td>0.588364</td>\n",
              "      <td>0.411636</td>\n",
              "    </tr>\n",
              "    <tr>\n",
              "      <th>3</th>\n",
              "      <td>-0.979418</td>\n",
              "      <td>-0.390519</td>\n",
              "      <td>1.562901</td>\n",
              "      <td>1</td>\n",
              "      <td>1</td>\n",
              "      <td>0.100258</td>\n",
              "      <td>0.899742</td>\n",
              "    </tr>\n",
              "    <tr>\n",
              "      <th>4</th>\n",
              "      <td>1.021015</td>\n",
              "      <td>-0.390519</td>\n",
              "      <td>0.079935</td>\n",
              "      <td>1</td>\n",
              "      <td>1</td>\n",
              "      <td>0.498313</td>\n",
              "      <td>0.501687</td>\n",
              "    </tr>\n",
              "    <tr>\n",
              "      <th>5</th>\n",
              "      <td>1.021015</td>\n",
              "      <td>-0.390519</td>\n",
              "      <td>-1.015668</td>\n",
              "      <td>0</td>\n",
              "      <td>0</td>\n",
              "      <td>0.983006</td>\n",
              "      <td>0.016994</td>\n",
              "    </tr>\n",
              "    <tr>\n",
              "      <th>6</th>\n",
              "      <td>1.021015</td>\n",
              "      <td>-0.390519</td>\n",
              "      <td>1.629389</td>\n",
              "      <td>1</td>\n",
              "      <td>1</td>\n",
              "      <td>0.099141</td>\n",
              "      <td>0.900859</td>\n",
              "    </tr>\n",
              "    <tr>\n",
              "      <th>7</th>\n",
              "      <td>-0.979418</td>\n",
              "      <td>-0.390519</td>\n",
              "      <td>-0.905819</td>\n",
              "      <td>0</td>\n",
              "      <td>0</td>\n",
              "      <td>0.934938</td>\n",
              "      <td>0.065062</td>\n",
              "    </tr>\n",
              "    <tr>\n",
              "      <th>8</th>\n",
              "      <td>-0.979418</td>\n",
              "      <td>-0.390519</td>\n",
              "      <td>0.603165</td>\n",
              "      <td>0</td>\n",
              "      <td>1</td>\n",
              "      <td>0.152796</td>\n",
              "      <td>0.847204</td>\n",
              "    </tr>\n",
              "    <tr>\n",
              "      <th>9</th>\n",
              "      <td>-0.979418</td>\n",
              "      <td>-0.390519</td>\n",
              "      <td>-0.475094</td>\n",
              "      <td>1</td>\n",
              "      <td>1</td>\n",
              "      <td>0.300411</td>\n",
              "      <td>0.699589</td>\n",
              "    </tr>\n",
              "  </tbody>\n",
              "</table>\n",
              "</div>\n",
              "    <div class=\"colab-df-buttons\">\n",
              "\n",
              "  <div class=\"colab-df-container\">\n",
              "    <button class=\"colab-df-convert\" onclick=\"convertToInteractive('df-07a89d04-dda4-4c7a-88e5-371959c8eda4')\"\n",
              "            title=\"Convert this dataframe to an interactive table.\"\n",
              "            style=\"display:none;\">\n",
              "\n",
              "  <svg xmlns=\"http://www.w3.org/2000/svg\" height=\"24px\" viewBox=\"0 -960 960 960\">\n",
              "    <path d=\"M120-120v-720h720v720H120Zm60-500h600v-160H180v160Zm220 220h160v-160H400v160Zm0 220h160v-160H400v160ZM180-400h160v-160H180v160Zm440 0h160v-160H620v160ZM180-180h160v-160H180v160Zm440 0h160v-160H620v160Z\"/>\n",
              "  </svg>\n",
              "    </button>\n",
              "\n",
              "  <style>\n",
              "    .colab-df-container {\n",
              "      display:flex;\n",
              "      gap: 12px;\n",
              "    }\n",
              "\n",
              "    .colab-df-convert {\n",
              "      background-color: #E8F0FE;\n",
              "      border: none;\n",
              "      border-radius: 50%;\n",
              "      cursor: pointer;\n",
              "      display: none;\n",
              "      fill: #1967D2;\n",
              "      height: 32px;\n",
              "      padding: 0 0 0 0;\n",
              "      width: 32px;\n",
              "    }\n",
              "\n",
              "    .colab-df-convert:hover {\n",
              "      background-color: #E2EBFA;\n",
              "      box-shadow: 0px 1px 2px rgba(60, 64, 67, 0.3), 0px 1px 3px 1px rgba(60, 64, 67, 0.15);\n",
              "      fill: #174EA6;\n",
              "    }\n",
              "\n",
              "    .colab-df-buttons div {\n",
              "      margin-bottom: 4px;\n",
              "    }\n",
              "\n",
              "    [theme=dark] .colab-df-convert {\n",
              "      background-color: #3B4455;\n",
              "      fill: #D2E3FC;\n",
              "    }\n",
              "\n",
              "    [theme=dark] .colab-df-convert:hover {\n",
              "      background-color: #434B5C;\n",
              "      box-shadow: 0px 1px 3px 1px rgba(0, 0, 0, 0.15);\n",
              "      filter: drop-shadow(0px 1px 2px rgba(0, 0, 0, 0.3));\n",
              "      fill: #FFFFFF;\n",
              "    }\n",
              "  </style>\n",
              "\n",
              "    <script>\n",
              "      const buttonEl =\n",
              "        document.querySelector('#df-07a89d04-dda4-4c7a-88e5-371959c8eda4 button.colab-df-convert');\n",
              "      buttonEl.style.display =\n",
              "        google.colab.kernel.accessAllowed ? 'block' : 'none';\n",
              "\n",
              "      async function convertToInteractive(key) {\n",
              "        const element = document.querySelector('#df-07a89d04-dda4-4c7a-88e5-371959c8eda4');\n",
              "        const dataTable =\n",
              "          await google.colab.kernel.invokeFunction('convertToInteractive',\n",
              "                                                    [key], {});\n",
              "        if (!dataTable) return;\n",
              "\n",
              "        const docLinkHtml = 'Like what you see? Visit the ' +\n",
              "          '<a target=\"_blank\" href=https://colab.research.google.com/notebooks/data_table.ipynb>data table notebook</a>'\n",
              "          + ' to learn more about interactive tables.';\n",
              "        element.innerHTML = '';\n",
              "        dataTable['output_type'] = 'display_data';\n",
              "        await google.colab.output.renderOutput(dataTable, element);\n",
              "        const docLink = document.createElement('div');\n",
              "        docLink.innerHTML = docLinkHtml;\n",
              "        element.appendChild(docLink);\n",
              "      }\n",
              "    </script>\n",
              "  </div>\n",
              "\n",
              "\n",
              "<div id=\"df-a9dde953-248d-49ea-9441-055562754d76\">\n",
              "  <button class=\"colab-df-quickchart\" onclick=\"quickchart('df-a9dde953-248d-49ea-9441-055562754d76')\"\n",
              "            title=\"Suggest charts\"\n",
              "            style=\"display:none;\">\n",
              "\n",
              "<svg xmlns=\"http://www.w3.org/2000/svg\" height=\"24px\"viewBox=\"0 0 24 24\"\n",
              "     width=\"24px\">\n",
              "    <g>\n",
              "        <path d=\"M19 3H5c-1.1 0-2 .9-2 2v14c0 1.1.9 2 2 2h14c1.1 0 2-.9 2-2V5c0-1.1-.9-2-2-2zM9 17H7v-7h2v7zm4 0h-2V7h2v10zm4 0h-2v-4h2v4z\"/>\n",
              "    </g>\n",
              "</svg>\n",
              "  </button>\n",
              "\n",
              "<style>\n",
              "  .colab-df-quickchart {\n",
              "      --bg-color: #E8F0FE;\n",
              "      --fill-color: #1967D2;\n",
              "      --hover-bg-color: #E2EBFA;\n",
              "      --hover-fill-color: #174EA6;\n",
              "      --disabled-fill-color: #AAA;\n",
              "      --disabled-bg-color: #DDD;\n",
              "  }\n",
              "\n",
              "  [theme=dark] .colab-df-quickchart {\n",
              "      --bg-color: #3B4455;\n",
              "      --fill-color: #D2E3FC;\n",
              "      --hover-bg-color: #434B5C;\n",
              "      --hover-fill-color: #FFFFFF;\n",
              "      --disabled-bg-color: #3B4455;\n",
              "      --disabled-fill-color: #666;\n",
              "  }\n",
              "\n",
              "  .colab-df-quickchart {\n",
              "    background-color: var(--bg-color);\n",
              "    border: none;\n",
              "    border-radius: 50%;\n",
              "    cursor: pointer;\n",
              "    display: none;\n",
              "    fill: var(--fill-color);\n",
              "    height: 32px;\n",
              "    padding: 0;\n",
              "    width: 32px;\n",
              "  }\n",
              "\n",
              "  .colab-df-quickchart:hover {\n",
              "    background-color: var(--hover-bg-color);\n",
              "    box-shadow: 0 1px 2px rgba(60, 64, 67, 0.3), 0 1px 3px 1px rgba(60, 64, 67, 0.15);\n",
              "    fill: var(--button-hover-fill-color);\n",
              "  }\n",
              "\n",
              "  .colab-df-quickchart-complete:disabled,\n",
              "  .colab-df-quickchart-complete:disabled:hover {\n",
              "    background-color: var(--disabled-bg-color);\n",
              "    fill: var(--disabled-fill-color);\n",
              "    box-shadow: none;\n",
              "  }\n",
              "\n",
              "  .colab-df-spinner {\n",
              "    border: 2px solid var(--fill-color);\n",
              "    border-color: transparent;\n",
              "    border-bottom-color: var(--fill-color);\n",
              "    animation:\n",
              "      spin 1s steps(1) infinite;\n",
              "  }\n",
              "\n",
              "  @keyframes spin {\n",
              "    0% {\n",
              "      border-color: transparent;\n",
              "      border-bottom-color: var(--fill-color);\n",
              "      border-left-color: var(--fill-color);\n",
              "    }\n",
              "    20% {\n",
              "      border-color: transparent;\n",
              "      border-left-color: var(--fill-color);\n",
              "      border-top-color: var(--fill-color);\n",
              "    }\n",
              "    30% {\n",
              "      border-color: transparent;\n",
              "      border-left-color: var(--fill-color);\n",
              "      border-top-color: var(--fill-color);\n",
              "      border-right-color: var(--fill-color);\n",
              "    }\n",
              "    40% {\n",
              "      border-color: transparent;\n",
              "      border-right-color: var(--fill-color);\n",
              "      border-top-color: var(--fill-color);\n",
              "    }\n",
              "    60% {\n",
              "      border-color: transparent;\n",
              "      border-right-color: var(--fill-color);\n",
              "    }\n",
              "    80% {\n",
              "      border-color: transparent;\n",
              "      border-right-color: var(--fill-color);\n",
              "      border-bottom-color: var(--fill-color);\n",
              "    }\n",
              "    90% {\n",
              "      border-color: transparent;\n",
              "      border-bottom-color: var(--fill-color);\n",
              "    }\n",
              "  }\n",
              "</style>\n",
              "\n",
              "  <script>\n",
              "    async function quickchart(key) {\n",
              "      const quickchartButtonEl =\n",
              "        document.querySelector('#' + key + ' button');\n",
              "      quickchartButtonEl.disabled = true;  // To prevent multiple clicks.\n",
              "      quickchartButtonEl.classList.add('colab-df-spinner');\n",
              "      try {\n",
              "        const charts = await google.colab.kernel.invokeFunction(\n",
              "            'suggestCharts', [key], {});\n",
              "      } catch (error) {\n",
              "        console.error('Error during call to suggestCharts:', error);\n",
              "      }\n",
              "      quickchartButtonEl.classList.remove('colab-df-spinner');\n",
              "      quickchartButtonEl.classList.add('colab-df-quickchart-complete');\n",
              "    }\n",
              "    (() => {\n",
              "      let quickchartButtonEl =\n",
              "        document.querySelector('#df-a9dde953-248d-49ea-9441-055562754d76 button');\n",
              "      quickchartButtonEl.style.display =\n",
              "        google.colab.kernel.accessAllowed ? 'block' : 'none';\n",
              "    })();\n",
              "  </script>\n",
              "</div>\n",
              "\n",
              "    </div>\n",
              "  </div>\n"
            ],
            "application/vnd.google.colaboratory.intrinsic+json": {
              "type": "dataframe",
              "variable_name": "dataf",
              "summary": "{\n  \"name\": \"dataf\",\n  \"rows\": 2116,\n  \"fields\": [\n    {\n      \"column\": \"c_housing\",\n      \"properties\": {\n        \"dtype\": \"number\",\n        \"std\": 1.0002363786819592,\n        \"min\": -0.9794178164906374,\n        \"max\": 1.0210147121717068,\n        \"num_unique_values\": 2,\n        \"samples\": [\n          1.0210147121717068,\n          -0.9794178164906374\n        ],\n        \"semantic_type\": \"\",\n        \"description\": \"\"\n      }\n    },\n    {\n      \"column\": \"c_loan\",\n      \"properties\": {\n        \"dtype\": \"number\",\n        \"std\": 1.0002363786819601,\n        \"min\": -0.39051945741934335,\n        \"max\": 2.5606918707925517,\n        \"num_unique_values\": 2,\n        \"samples\": [\n          2.5606918707925517,\n          -0.39051945741934335\n        ],\n        \"semantic_type\": \"\",\n        \"description\": \"\"\n      }\n    },\n    {\n      \"column\": \"duration\",\n      \"properties\": {\n        \"dtype\": \"number\",\n        \"std\": 1.0002363786819446,\n        \"min\": -1.0734833646494548,\n        \"max\": 10.131149957242242,\n        \"num_unique_values\": 837,\n        \"samples\": [\n          -0.42884114824546926,\n          0.753484710540316\n        ],\n        \"semantic_type\": \"\",\n        \"description\": \"\"\n      }\n    },\n    {\n      \"column\": \"Target\",\n      \"properties\": {\n        \"dtype\": \"number\",\n        \"std\": 0,\n        \"min\": 0,\n        \"max\": 1,\n        \"num_unique_values\": 2,\n        \"samples\": [\n          0,\n          1\n        ],\n        \"semantic_type\": \"\",\n        \"description\": \"\"\n      }\n    },\n    {\n      \"column\": \"Target_Pred\",\n      \"properties\": {\n        \"dtype\": \"number\",\n        \"std\": 0,\n        \"min\": 0,\n        \"max\": 1,\n        \"num_unique_values\": 2,\n        \"samples\": [\n          0,\n          1\n        ],\n        \"semantic_type\": \"\",\n        \"description\": \"\"\n      }\n    },\n    {\n      \"column\": \"Target_Pred_Prob_0\",\n      \"properties\": {\n        \"dtype\": \"number\",\n        \"std\": 0.3051850771197167,\n        \"min\": 0.064261096849006,\n        \"max\": 0.9911303248577598,\n        \"num_unique_values\": 908,\n        \"samples\": [\n          0.19943400616798704,\n          0.5933411434265564\n        ],\n        \"semantic_type\": \"\",\n        \"description\": \"\"\n      }\n    },\n    {\n      \"column\": \"Target_Pred_Prob_1\",\n      \"properties\": {\n        \"dtype\": \"number\",\n        \"std\": 0.3051850771197167,\n        \"min\": 0.008869675142239616,\n        \"max\": 0.9357389031509946,\n        \"num_unique_values\": 908,\n        \"samples\": [\n          0.8005659938320134,\n          0.4066588565734433\n        ],\n        \"semantic_type\": \"\",\n        \"description\": \"\"\n      }\n    }\n  ]\n}"
            }
          },
          "metadata": {},
          "execution_count": 91
        }
      ],
      "source": [
        "dataf.head(10)"
      ]
    },
    {
      "cell_type": "code",
      "execution_count": 92,
      "metadata": {
        "id": "Rp3TxuvNDn11"
      },
      "outputs": [],
      "source": [
        "dataf = pd.concat([pd.DataFrame(X_test_orig),pd.DataFrame(y_test),pd.DataFrame(y_pred),pd.DataFrame(y_pred_prob)],axis=1)"
      ]
    },
    {
      "cell_type": "code",
      "execution_count": 93,
      "metadata": {
        "colab": {
          "base_uri": "https://localhost:8080/",
          "height": 363
        },
        "id": "UXgz8bioDn11",
        "outputId": "379f5a2a-ac31-4224-df00-b397264d2f33"
      },
      "outputs": [
        {
          "output_type": "execute_result",
          "data": {
            "text/plain": [
              "   0  1    2  0  0         0         1\n",
              "0  0  0  263  1  1  0.263557  0.736443\n",
              "1  0  0  597  1  1  0.152378  0.847622\n",
              "2  0  0  150  0  0  0.588364  0.411636\n",
              "3  0  0  917  1  1  0.100258  0.899742\n",
              "4  1  0  404  1  1  0.498313  0.501687\n",
              "5  1  0   25  0  0  0.983006  0.016994\n",
              "6  1  0  940  1  1  0.099141  0.900859\n",
              "7  0  0   63  0  0  0.934938  0.065062\n",
              "8  0  0  585  0  1  0.152796  0.847204\n",
              "9  0  0  212  1  1  0.300411  0.699589"
            ],
            "text/html": [
              "\n",
              "  <div id=\"df-c18073f8-7401-4cf8-a34c-7f760f677ad7\" class=\"colab-df-container\">\n",
              "    <div>\n",
              "<style scoped>\n",
              "    .dataframe tbody tr th:only-of-type {\n",
              "        vertical-align: middle;\n",
              "    }\n",
              "\n",
              "    .dataframe tbody tr th {\n",
              "        vertical-align: top;\n",
              "    }\n",
              "\n",
              "    .dataframe thead th {\n",
              "        text-align: right;\n",
              "    }\n",
              "</style>\n",
              "<table border=\"1\" class=\"dataframe\">\n",
              "  <thead>\n",
              "    <tr style=\"text-align: right;\">\n",
              "      <th></th>\n",
              "      <th>0</th>\n",
              "      <th>1</th>\n",
              "      <th>2</th>\n",
              "      <th>0</th>\n",
              "      <th>0</th>\n",
              "      <th>0</th>\n",
              "      <th>1</th>\n",
              "    </tr>\n",
              "  </thead>\n",
              "  <tbody>\n",
              "    <tr>\n",
              "      <th>0</th>\n",
              "      <td>0</td>\n",
              "      <td>0</td>\n",
              "      <td>263</td>\n",
              "      <td>1</td>\n",
              "      <td>1</td>\n",
              "      <td>0.263557</td>\n",
              "      <td>0.736443</td>\n",
              "    </tr>\n",
              "    <tr>\n",
              "      <th>1</th>\n",
              "      <td>0</td>\n",
              "      <td>0</td>\n",
              "      <td>597</td>\n",
              "      <td>1</td>\n",
              "      <td>1</td>\n",
              "      <td>0.152378</td>\n",
              "      <td>0.847622</td>\n",
              "    </tr>\n",
              "    <tr>\n",
              "      <th>2</th>\n",
              "      <td>0</td>\n",
              "      <td>0</td>\n",
              "      <td>150</td>\n",
              "      <td>0</td>\n",
              "      <td>0</td>\n",
              "      <td>0.588364</td>\n",
              "      <td>0.411636</td>\n",
              "    </tr>\n",
              "    <tr>\n",
              "      <th>3</th>\n",
              "      <td>0</td>\n",
              "      <td>0</td>\n",
              "      <td>917</td>\n",
              "      <td>1</td>\n",
              "      <td>1</td>\n",
              "      <td>0.100258</td>\n",
              "      <td>0.899742</td>\n",
              "    </tr>\n",
              "    <tr>\n",
              "      <th>4</th>\n",
              "      <td>1</td>\n",
              "      <td>0</td>\n",
              "      <td>404</td>\n",
              "      <td>1</td>\n",
              "      <td>1</td>\n",
              "      <td>0.498313</td>\n",
              "      <td>0.501687</td>\n",
              "    </tr>\n",
              "    <tr>\n",
              "      <th>5</th>\n",
              "      <td>1</td>\n",
              "      <td>0</td>\n",
              "      <td>25</td>\n",
              "      <td>0</td>\n",
              "      <td>0</td>\n",
              "      <td>0.983006</td>\n",
              "      <td>0.016994</td>\n",
              "    </tr>\n",
              "    <tr>\n",
              "      <th>6</th>\n",
              "      <td>1</td>\n",
              "      <td>0</td>\n",
              "      <td>940</td>\n",
              "      <td>1</td>\n",
              "      <td>1</td>\n",
              "      <td>0.099141</td>\n",
              "      <td>0.900859</td>\n",
              "    </tr>\n",
              "    <tr>\n",
              "      <th>7</th>\n",
              "      <td>0</td>\n",
              "      <td>0</td>\n",
              "      <td>63</td>\n",
              "      <td>0</td>\n",
              "      <td>0</td>\n",
              "      <td>0.934938</td>\n",
              "      <td>0.065062</td>\n",
              "    </tr>\n",
              "    <tr>\n",
              "      <th>8</th>\n",
              "      <td>0</td>\n",
              "      <td>0</td>\n",
              "      <td>585</td>\n",
              "      <td>0</td>\n",
              "      <td>1</td>\n",
              "      <td>0.152796</td>\n",
              "      <td>0.847204</td>\n",
              "    </tr>\n",
              "    <tr>\n",
              "      <th>9</th>\n",
              "      <td>0</td>\n",
              "      <td>0</td>\n",
              "      <td>212</td>\n",
              "      <td>1</td>\n",
              "      <td>1</td>\n",
              "      <td>0.300411</td>\n",
              "      <td>0.699589</td>\n",
              "    </tr>\n",
              "  </tbody>\n",
              "</table>\n",
              "</div>\n",
              "    <div class=\"colab-df-buttons\">\n",
              "\n",
              "  <div class=\"colab-df-container\">\n",
              "    <button class=\"colab-df-convert\" onclick=\"convertToInteractive('df-c18073f8-7401-4cf8-a34c-7f760f677ad7')\"\n",
              "            title=\"Convert this dataframe to an interactive table.\"\n",
              "            style=\"display:none;\">\n",
              "\n",
              "  <svg xmlns=\"http://www.w3.org/2000/svg\" height=\"24px\" viewBox=\"0 -960 960 960\">\n",
              "    <path d=\"M120-120v-720h720v720H120Zm60-500h600v-160H180v160Zm220 220h160v-160H400v160Zm0 220h160v-160H400v160ZM180-400h160v-160H180v160Zm440 0h160v-160H620v160ZM180-180h160v-160H180v160Zm440 0h160v-160H620v160Z\"/>\n",
              "  </svg>\n",
              "    </button>\n",
              "\n",
              "  <style>\n",
              "    .colab-df-container {\n",
              "      display:flex;\n",
              "      gap: 12px;\n",
              "    }\n",
              "\n",
              "    .colab-df-convert {\n",
              "      background-color: #E8F0FE;\n",
              "      border: none;\n",
              "      border-radius: 50%;\n",
              "      cursor: pointer;\n",
              "      display: none;\n",
              "      fill: #1967D2;\n",
              "      height: 32px;\n",
              "      padding: 0 0 0 0;\n",
              "      width: 32px;\n",
              "    }\n",
              "\n",
              "    .colab-df-convert:hover {\n",
              "      background-color: #E2EBFA;\n",
              "      box-shadow: 0px 1px 2px rgba(60, 64, 67, 0.3), 0px 1px 3px 1px rgba(60, 64, 67, 0.15);\n",
              "      fill: #174EA6;\n",
              "    }\n",
              "\n",
              "    .colab-df-buttons div {\n",
              "      margin-bottom: 4px;\n",
              "    }\n",
              "\n",
              "    [theme=dark] .colab-df-convert {\n",
              "      background-color: #3B4455;\n",
              "      fill: #D2E3FC;\n",
              "    }\n",
              "\n",
              "    [theme=dark] .colab-df-convert:hover {\n",
              "      background-color: #434B5C;\n",
              "      box-shadow: 0px 1px 3px 1px rgba(0, 0, 0, 0.15);\n",
              "      filter: drop-shadow(0px 1px 2px rgba(0, 0, 0, 0.3));\n",
              "      fill: #FFFFFF;\n",
              "    }\n",
              "  </style>\n",
              "\n",
              "    <script>\n",
              "      const buttonEl =\n",
              "        document.querySelector('#df-c18073f8-7401-4cf8-a34c-7f760f677ad7 button.colab-df-convert');\n",
              "      buttonEl.style.display =\n",
              "        google.colab.kernel.accessAllowed ? 'block' : 'none';\n",
              "\n",
              "      async function convertToInteractive(key) {\n",
              "        const element = document.querySelector('#df-c18073f8-7401-4cf8-a34c-7f760f677ad7');\n",
              "        const dataTable =\n",
              "          await google.colab.kernel.invokeFunction('convertToInteractive',\n",
              "                                                    [key], {});\n",
              "        if (!dataTable) return;\n",
              "\n",
              "        const docLinkHtml = 'Like what you see? Visit the ' +\n",
              "          '<a target=\"_blank\" href=https://colab.research.google.com/notebooks/data_table.ipynb>data table notebook</a>'\n",
              "          + ' to learn more about interactive tables.';\n",
              "        element.innerHTML = '';\n",
              "        dataTable['output_type'] = 'display_data';\n",
              "        await google.colab.output.renderOutput(dataTable, element);\n",
              "        const docLink = document.createElement('div');\n",
              "        docLink.innerHTML = docLinkHtml;\n",
              "        element.appendChild(docLink);\n",
              "      }\n",
              "    </script>\n",
              "  </div>\n",
              "\n",
              "\n",
              "<div id=\"df-7910dcd6-9fb2-467b-91ba-547caff129fc\">\n",
              "  <button class=\"colab-df-quickchart\" onclick=\"quickchart('df-7910dcd6-9fb2-467b-91ba-547caff129fc')\"\n",
              "            title=\"Suggest charts\"\n",
              "            style=\"display:none;\">\n",
              "\n",
              "<svg xmlns=\"http://www.w3.org/2000/svg\" height=\"24px\"viewBox=\"0 0 24 24\"\n",
              "     width=\"24px\">\n",
              "    <g>\n",
              "        <path d=\"M19 3H5c-1.1 0-2 .9-2 2v14c0 1.1.9 2 2 2h14c1.1 0 2-.9 2-2V5c0-1.1-.9-2-2-2zM9 17H7v-7h2v7zm4 0h-2V7h2v10zm4 0h-2v-4h2v4z\"/>\n",
              "    </g>\n",
              "</svg>\n",
              "  </button>\n",
              "\n",
              "<style>\n",
              "  .colab-df-quickchart {\n",
              "      --bg-color: #E8F0FE;\n",
              "      --fill-color: #1967D2;\n",
              "      --hover-bg-color: #E2EBFA;\n",
              "      --hover-fill-color: #174EA6;\n",
              "      --disabled-fill-color: #AAA;\n",
              "      --disabled-bg-color: #DDD;\n",
              "  }\n",
              "\n",
              "  [theme=dark] .colab-df-quickchart {\n",
              "      --bg-color: #3B4455;\n",
              "      --fill-color: #D2E3FC;\n",
              "      --hover-bg-color: #434B5C;\n",
              "      --hover-fill-color: #FFFFFF;\n",
              "      --disabled-bg-color: #3B4455;\n",
              "      --disabled-fill-color: #666;\n",
              "  }\n",
              "\n",
              "  .colab-df-quickchart {\n",
              "    background-color: var(--bg-color);\n",
              "    border: none;\n",
              "    border-radius: 50%;\n",
              "    cursor: pointer;\n",
              "    display: none;\n",
              "    fill: var(--fill-color);\n",
              "    height: 32px;\n",
              "    padding: 0;\n",
              "    width: 32px;\n",
              "  }\n",
              "\n",
              "  .colab-df-quickchart:hover {\n",
              "    background-color: var(--hover-bg-color);\n",
              "    box-shadow: 0 1px 2px rgba(60, 64, 67, 0.3), 0 1px 3px 1px rgba(60, 64, 67, 0.15);\n",
              "    fill: var(--button-hover-fill-color);\n",
              "  }\n",
              "\n",
              "  .colab-df-quickchart-complete:disabled,\n",
              "  .colab-df-quickchart-complete:disabled:hover {\n",
              "    background-color: var(--disabled-bg-color);\n",
              "    fill: var(--disabled-fill-color);\n",
              "    box-shadow: none;\n",
              "  }\n",
              "\n",
              "  .colab-df-spinner {\n",
              "    border: 2px solid var(--fill-color);\n",
              "    border-color: transparent;\n",
              "    border-bottom-color: var(--fill-color);\n",
              "    animation:\n",
              "      spin 1s steps(1) infinite;\n",
              "  }\n",
              "\n",
              "  @keyframes spin {\n",
              "    0% {\n",
              "      border-color: transparent;\n",
              "      border-bottom-color: var(--fill-color);\n",
              "      border-left-color: var(--fill-color);\n",
              "    }\n",
              "    20% {\n",
              "      border-color: transparent;\n",
              "      border-left-color: var(--fill-color);\n",
              "      border-top-color: var(--fill-color);\n",
              "    }\n",
              "    30% {\n",
              "      border-color: transparent;\n",
              "      border-left-color: var(--fill-color);\n",
              "      border-top-color: var(--fill-color);\n",
              "      border-right-color: var(--fill-color);\n",
              "    }\n",
              "    40% {\n",
              "      border-color: transparent;\n",
              "      border-right-color: var(--fill-color);\n",
              "      border-top-color: var(--fill-color);\n",
              "    }\n",
              "    60% {\n",
              "      border-color: transparent;\n",
              "      border-right-color: var(--fill-color);\n",
              "    }\n",
              "    80% {\n",
              "      border-color: transparent;\n",
              "      border-right-color: var(--fill-color);\n",
              "      border-bottom-color: var(--fill-color);\n",
              "    }\n",
              "    90% {\n",
              "      border-color: transparent;\n",
              "      border-bottom-color: var(--fill-color);\n",
              "    }\n",
              "  }\n",
              "</style>\n",
              "\n",
              "  <script>\n",
              "    async function quickchart(key) {\n",
              "      const quickchartButtonEl =\n",
              "        document.querySelector('#' + key + ' button');\n",
              "      quickchartButtonEl.disabled = true;  // To prevent multiple clicks.\n",
              "      quickchartButtonEl.classList.add('colab-df-spinner');\n",
              "      try {\n",
              "        const charts = await google.colab.kernel.invokeFunction(\n",
              "            'suggestCharts', [key], {});\n",
              "      } catch (error) {\n",
              "        console.error('Error during call to suggestCharts:', error);\n",
              "      }\n",
              "      quickchartButtonEl.classList.remove('colab-df-spinner');\n",
              "      quickchartButtonEl.classList.add('colab-df-quickchart-complete');\n",
              "    }\n",
              "    (() => {\n",
              "      let quickchartButtonEl =\n",
              "        document.querySelector('#df-7910dcd6-9fb2-467b-91ba-547caff129fc button');\n",
              "      quickchartButtonEl.style.display =\n",
              "        google.colab.kernel.accessAllowed ? 'block' : 'none';\n",
              "    })();\n",
              "  </script>\n",
              "</div>\n",
              "\n",
              "    </div>\n",
              "  </div>\n"
            ],
            "application/vnd.google.colaboratory.intrinsic+json": {
              "type": "dataframe",
              "variable_name": "dataf",
              "summary": "{\n  \"name\": \"dataf\",\n  \"rows\": 2116,\n  \"fields\": [\n    {\n      \"column\": 0,\n      \"properties\": {\n        \"dtype\": \"number\",\n        \"std\": 0,\n        \"min\": 0,\n        \"max\": 1,\n        \"num_unique_values\": 2,\n        \"samples\": [\n          1,\n          0\n        ],\n        \"semantic_type\": \"\",\n        \"description\": \"\"\n      }\n    },\n    {\n      \"column\": 1,\n      \"properties\": {\n        \"dtype\": \"number\",\n        \"std\": 0,\n        \"min\": 0,\n        \"max\": 1,\n        \"num_unique_values\": 2,\n        \"samples\": [\n          1,\n          0\n        ],\n        \"semantic_type\": \"\",\n        \"description\": \"\"\n      }\n    },\n    {\n      \"column\": 2,\n      \"properties\": {\n        \"dtype\": \"number\",\n        \"std\": 346,\n        \"min\": 5,\n        \"max\": 3881,\n        \"num_unique_values\": 837,\n        \"samples\": [\n          228,\n          637\n        ],\n        \"semantic_type\": \"\",\n        \"description\": \"\"\n      }\n    },\n    {\n      \"column\": 0,\n      \"properties\": {\n        \"dtype\": \"number\",\n        \"std\": 0,\n        \"min\": 0,\n        \"max\": 1,\n        \"num_unique_values\": 2,\n        \"samples\": [\n          0,\n          1\n        ],\n        \"semantic_type\": \"\",\n        \"description\": \"\"\n      }\n    },\n    {\n      \"column\": 0,\n      \"properties\": {\n        \"dtype\": \"number\",\n        \"std\": 0,\n        \"min\": 0,\n        \"max\": 1,\n        \"num_unique_values\": 2,\n        \"samples\": [\n          0,\n          1\n        ],\n        \"semantic_type\": \"\",\n        \"description\": \"\"\n      }\n    },\n    {\n      \"column\": 0,\n      \"properties\": {\n        \"dtype\": \"number\",\n        \"std\": 0.3051850771197167,\n        \"min\": 0.064261096849006,\n        \"max\": 0.9911303248577598,\n        \"num_unique_values\": 908,\n        \"samples\": [\n          0.19943400616798704,\n          0.5933411434265564\n        ],\n        \"semantic_type\": \"\",\n        \"description\": \"\"\n      }\n    },\n    {\n      \"column\": 1,\n      \"properties\": {\n        \"dtype\": \"number\",\n        \"std\": 0.3051850771197167,\n        \"min\": 0.008869675142239616,\n        \"max\": 0.9357389031509946,\n        \"num_unique_values\": 908,\n        \"samples\": [\n          0.8005659938320134,\n          0.4066588565734433\n        ],\n        \"semantic_type\": \"\",\n        \"description\": \"\"\n      }\n    }\n  ]\n}"
            }
          },
          "metadata": {},
          "execution_count": 93
        }
      ],
      "source": [
        "dataf.head(10)"
      ]
    },
    {
      "cell_type": "code",
      "execution_count": 94,
      "metadata": {
        "id": "qQUZXWfxDn11"
      },
      "outputs": [],
      "source": [
        "dataf.columns = ['c_housing','c_loan','duration','Target','Target_Pred','Target_Pred_Prob_0','Target_Pred_Prob_1']"
      ]
    },
    {
      "cell_type": "code",
      "execution_count": 95,
      "metadata": {
        "scrolled": true,
        "colab": {
          "base_uri": "https://localhost:8080/",
          "height": 363
        },
        "id": "USiupo_BDn11",
        "outputId": "b242a61c-bd72-40eb-88f2-d527941e103d"
      },
      "outputs": [
        {
          "output_type": "execute_result",
          "data": {
            "text/plain": [
              "   c_housing  c_loan  duration  Target  Target_Pred  Target_Pred_Prob_0  \\\n",
              "0          0       0       263       1            1            0.263557   \n",
              "1          0       0       597       1            1            0.152378   \n",
              "2          0       0       150       0            0            0.588364   \n",
              "3          0       0       917       1            1            0.100258   \n",
              "4          1       0       404       1            1            0.498313   \n",
              "5          1       0        25       0            0            0.983006   \n",
              "6          1       0       940       1            1            0.099141   \n",
              "7          0       0        63       0            0            0.934938   \n",
              "8          0       0       585       0            1            0.152796   \n",
              "9          0       0       212       1            1            0.300411   \n",
              "\n",
              "   Target_Pred_Prob_1  \n",
              "0            0.736443  \n",
              "1            0.847622  \n",
              "2            0.411636  \n",
              "3            0.899742  \n",
              "4            0.501687  \n",
              "5            0.016994  \n",
              "6            0.900859  \n",
              "7            0.065062  \n",
              "8            0.847204  \n",
              "9            0.699589  "
            ],
            "text/html": [
              "\n",
              "  <div id=\"df-2af02252-b8f7-4f40-aeea-71dc068ad3a8\" class=\"colab-df-container\">\n",
              "    <div>\n",
              "<style scoped>\n",
              "    .dataframe tbody tr th:only-of-type {\n",
              "        vertical-align: middle;\n",
              "    }\n",
              "\n",
              "    .dataframe tbody tr th {\n",
              "        vertical-align: top;\n",
              "    }\n",
              "\n",
              "    .dataframe thead th {\n",
              "        text-align: right;\n",
              "    }\n",
              "</style>\n",
              "<table border=\"1\" class=\"dataframe\">\n",
              "  <thead>\n",
              "    <tr style=\"text-align: right;\">\n",
              "      <th></th>\n",
              "      <th>c_housing</th>\n",
              "      <th>c_loan</th>\n",
              "      <th>duration</th>\n",
              "      <th>Target</th>\n",
              "      <th>Target_Pred</th>\n",
              "      <th>Target_Pred_Prob_0</th>\n",
              "      <th>Target_Pred_Prob_1</th>\n",
              "    </tr>\n",
              "  </thead>\n",
              "  <tbody>\n",
              "    <tr>\n",
              "      <th>0</th>\n",
              "      <td>0</td>\n",
              "      <td>0</td>\n",
              "      <td>263</td>\n",
              "      <td>1</td>\n",
              "      <td>1</td>\n",
              "      <td>0.263557</td>\n",
              "      <td>0.736443</td>\n",
              "    </tr>\n",
              "    <tr>\n",
              "      <th>1</th>\n",
              "      <td>0</td>\n",
              "      <td>0</td>\n",
              "      <td>597</td>\n",
              "      <td>1</td>\n",
              "      <td>1</td>\n",
              "      <td>0.152378</td>\n",
              "      <td>0.847622</td>\n",
              "    </tr>\n",
              "    <tr>\n",
              "      <th>2</th>\n",
              "      <td>0</td>\n",
              "      <td>0</td>\n",
              "      <td>150</td>\n",
              "      <td>0</td>\n",
              "      <td>0</td>\n",
              "      <td>0.588364</td>\n",
              "      <td>0.411636</td>\n",
              "    </tr>\n",
              "    <tr>\n",
              "      <th>3</th>\n",
              "      <td>0</td>\n",
              "      <td>0</td>\n",
              "      <td>917</td>\n",
              "      <td>1</td>\n",
              "      <td>1</td>\n",
              "      <td>0.100258</td>\n",
              "      <td>0.899742</td>\n",
              "    </tr>\n",
              "    <tr>\n",
              "      <th>4</th>\n",
              "      <td>1</td>\n",
              "      <td>0</td>\n",
              "      <td>404</td>\n",
              "      <td>1</td>\n",
              "      <td>1</td>\n",
              "      <td>0.498313</td>\n",
              "      <td>0.501687</td>\n",
              "    </tr>\n",
              "    <tr>\n",
              "      <th>5</th>\n",
              "      <td>1</td>\n",
              "      <td>0</td>\n",
              "      <td>25</td>\n",
              "      <td>0</td>\n",
              "      <td>0</td>\n",
              "      <td>0.983006</td>\n",
              "      <td>0.016994</td>\n",
              "    </tr>\n",
              "    <tr>\n",
              "      <th>6</th>\n",
              "      <td>1</td>\n",
              "      <td>0</td>\n",
              "      <td>940</td>\n",
              "      <td>1</td>\n",
              "      <td>1</td>\n",
              "      <td>0.099141</td>\n",
              "      <td>0.900859</td>\n",
              "    </tr>\n",
              "    <tr>\n",
              "      <th>7</th>\n",
              "      <td>0</td>\n",
              "      <td>0</td>\n",
              "      <td>63</td>\n",
              "      <td>0</td>\n",
              "      <td>0</td>\n",
              "      <td>0.934938</td>\n",
              "      <td>0.065062</td>\n",
              "    </tr>\n",
              "    <tr>\n",
              "      <th>8</th>\n",
              "      <td>0</td>\n",
              "      <td>0</td>\n",
              "      <td>585</td>\n",
              "      <td>0</td>\n",
              "      <td>1</td>\n",
              "      <td>0.152796</td>\n",
              "      <td>0.847204</td>\n",
              "    </tr>\n",
              "    <tr>\n",
              "      <th>9</th>\n",
              "      <td>0</td>\n",
              "      <td>0</td>\n",
              "      <td>212</td>\n",
              "      <td>1</td>\n",
              "      <td>1</td>\n",
              "      <td>0.300411</td>\n",
              "      <td>0.699589</td>\n",
              "    </tr>\n",
              "  </tbody>\n",
              "</table>\n",
              "</div>\n",
              "    <div class=\"colab-df-buttons\">\n",
              "\n",
              "  <div class=\"colab-df-container\">\n",
              "    <button class=\"colab-df-convert\" onclick=\"convertToInteractive('df-2af02252-b8f7-4f40-aeea-71dc068ad3a8')\"\n",
              "            title=\"Convert this dataframe to an interactive table.\"\n",
              "            style=\"display:none;\">\n",
              "\n",
              "  <svg xmlns=\"http://www.w3.org/2000/svg\" height=\"24px\" viewBox=\"0 -960 960 960\">\n",
              "    <path d=\"M120-120v-720h720v720H120Zm60-500h600v-160H180v160Zm220 220h160v-160H400v160Zm0 220h160v-160H400v160ZM180-400h160v-160H180v160Zm440 0h160v-160H620v160ZM180-180h160v-160H180v160Zm440 0h160v-160H620v160Z\"/>\n",
              "  </svg>\n",
              "    </button>\n",
              "\n",
              "  <style>\n",
              "    .colab-df-container {\n",
              "      display:flex;\n",
              "      gap: 12px;\n",
              "    }\n",
              "\n",
              "    .colab-df-convert {\n",
              "      background-color: #E8F0FE;\n",
              "      border: none;\n",
              "      border-radius: 50%;\n",
              "      cursor: pointer;\n",
              "      display: none;\n",
              "      fill: #1967D2;\n",
              "      height: 32px;\n",
              "      padding: 0 0 0 0;\n",
              "      width: 32px;\n",
              "    }\n",
              "\n",
              "    .colab-df-convert:hover {\n",
              "      background-color: #E2EBFA;\n",
              "      box-shadow: 0px 1px 2px rgba(60, 64, 67, 0.3), 0px 1px 3px 1px rgba(60, 64, 67, 0.15);\n",
              "      fill: #174EA6;\n",
              "    }\n",
              "\n",
              "    .colab-df-buttons div {\n",
              "      margin-bottom: 4px;\n",
              "    }\n",
              "\n",
              "    [theme=dark] .colab-df-convert {\n",
              "      background-color: #3B4455;\n",
              "      fill: #D2E3FC;\n",
              "    }\n",
              "\n",
              "    [theme=dark] .colab-df-convert:hover {\n",
              "      background-color: #434B5C;\n",
              "      box-shadow: 0px 1px 3px 1px rgba(0, 0, 0, 0.15);\n",
              "      filter: drop-shadow(0px 1px 2px rgba(0, 0, 0, 0.3));\n",
              "      fill: #FFFFFF;\n",
              "    }\n",
              "  </style>\n",
              "\n",
              "    <script>\n",
              "      const buttonEl =\n",
              "        document.querySelector('#df-2af02252-b8f7-4f40-aeea-71dc068ad3a8 button.colab-df-convert');\n",
              "      buttonEl.style.display =\n",
              "        google.colab.kernel.accessAllowed ? 'block' : 'none';\n",
              "\n",
              "      async function convertToInteractive(key) {\n",
              "        const element = document.querySelector('#df-2af02252-b8f7-4f40-aeea-71dc068ad3a8');\n",
              "        const dataTable =\n",
              "          await google.colab.kernel.invokeFunction('convertToInteractive',\n",
              "                                                    [key], {});\n",
              "        if (!dataTable) return;\n",
              "\n",
              "        const docLinkHtml = 'Like what you see? Visit the ' +\n",
              "          '<a target=\"_blank\" href=https://colab.research.google.com/notebooks/data_table.ipynb>data table notebook</a>'\n",
              "          + ' to learn more about interactive tables.';\n",
              "        element.innerHTML = '';\n",
              "        dataTable['output_type'] = 'display_data';\n",
              "        await google.colab.output.renderOutput(dataTable, element);\n",
              "        const docLink = document.createElement('div');\n",
              "        docLink.innerHTML = docLinkHtml;\n",
              "        element.appendChild(docLink);\n",
              "      }\n",
              "    </script>\n",
              "  </div>\n",
              "\n",
              "\n",
              "<div id=\"df-ab04a034-6f40-4e5a-8962-0a71f5c1f86d\">\n",
              "  <button class=\"colab-df-quickchart\" onclick=\"quickchart('df-ab04a034-6f40-4e5a-8962-0a71f5c1f86d')\"\n",
              "            title=\"Suggest charts\"\n",
              "            style=\"display:none;\">\n",
              "\n",
              "<svg xmlns=\"http://www.w3.org/2000/svg\" height=\"24px\"viewBox=\"0 0 24 24\"\n",
              "     width=\"24px\">\n",
              "    <g>\n",
              "        <path d=\"M19 3H5c-1.1 0-2 .9-2 2v14c0 1.1.9 2 2 2h14c1.1 0 2-.9 2-2V5c0-1.1-.9-2-2-2zM9 17H7v-7h2v7zm4 0h-2V7h2v10zm4 0h-2v-4h2v4z\"/>\n",
              "    </g>\n",
              "</svg>\n",
              "  </button>\n",
              "\n",
              "<style>\n",
              "  .colab-df-quickchart {\n",
              "      --bg-color: #E8F0FE;\n",
              "      --fill-color: #1967D2;\n",
              "      --hover-bg-color: #E2EBFA;\n",
              "      --hover-fill-color: #174EA6;\n",
              "      --disabled-fill-color: #AAA;\n",
              "      --disabled-bg-color: #DDD;\n",
              "  }\n",
              "\n",
              "  [theme=dark] .colab-df-quickchart {\n",
              "      --bg-color: #3B4455;\n",
              "      --fill-color: #D2E3FC;\n",
              "      --hover-bg-color: #434B5C;\n",
              "      --hover-fill-color: #FFFFFF;\n",
              "      --disabled-bg-color: #3B4455;\n",
              "      --disabled-fill-color: #666;\n",
              "  }\n",
              "\n",
              "  .colab-df-quickchart {\n",
              "    background-color: var(--bg-color);\n",
              "    border: none;\n",
              "    border-radius: 50%;\n",
              "    cursor: pointer;\n",
              "    display: none;\n",
              "    fill: var(--fill-color);\n",
              "    height: 32px;\n",
              "    padding: 0;\n",
              "    width: 32px;\n",
              "  }\n",
              "\n",
              "  .colab-df-quickchart:hover {\n",
              "    background-color: var(--hover-bg-color);\n",
              "    box-shadow: 0 1px 2px rgba(60, 64, 67, 0.3), 0 1px 3px 1px rgba(60, 64, 67, 0.15);\n",
              "    fill: var(--button-hover-fill-color);\n",
              "  }\n",
              "\n",
              "  .colab-df-quickchart-complete:disabled,\n",
              "  .colab-df-quickchart-complete:disabled:hover {\n",
              "    background-color: var(--disabled-bg-color);\n",
              "    fill: var(--disabled-fill-color);\n",
              "    box-shadow: none;\n",
              "  }\n",
              "\n",
              "  .colab-df-spinner {\n",
              "    border: 2px solid var(--fill-color);\n",
              "    border-color: transparent;\n",
              "    border-bottom-color: var(--fill-color);\n",
              "    animation:\n",
              "      spin 1s steps(1) infinite;\n",
              "  }\n",
              "\n",
              "  @keyframes spin {\n",
              "    0% {\n",
              "      border-color: transparent;\n",
              "      border-bottom-color: var(--fill-color);\n",
              "      border-left-color: var(--fill-color);\n",
              "    }\n",
              "    20% {\n",
              "      border-color: transparent;\n",
              "      border-left-color: var(--fill-color);\n",
              "      border-top-color: var(--fill-color);\n",
              "    }\n",
              "    30% {\n",
              "      border-color: transparent;\n",
              "      border-left-color: var(--fill-color);\n",
              "      border-top-color: var(--fill-color);\n",
              "      border-right-color: var(--fill-color);\n",
              "    }\n",
              "    40% {\n",
              "      border-color: transparent;\n",
              "      border-right-color: var(--fill-color);\n",
              "      border-top-color: var(--fill-color);\n",
              "    }\n",
              "    60% {\n",
              "      border-color: transparent;\n",
              "      border-right-color: var(--fill-color);\n",
              "    }\n",
              "    80% {\n",
              "      border-color: transparent;\n",
              "      border-right-color: var(--fill-color);\n",
              "      border-bottom-color: var(--fill-color);\n",
              "    }\n",
              "    90% {\n",
              "      border-color: transparent;\n",
              "      border-bottom-color: var(--fill-color);\n",
              "    }\n",
              "  }\n",
              "</style>\n",
              "\n",
              "  <script>\n",
              "    async function quickchart(key) {\n",
              "      const quickchartButtonEl =\n",
              "        document.querySelector('#' + key + ' button');\n",
              "      quickchartButtonEl.disabled = true;  // To prevent multiple clicks.\n",
              "      quickchartButtonEl.classList.add('colab-df-spinner');\n",
              "      try {\n",
              "        const charts = await google.colab.kernel.invokeFunction(\n",
              "            'suggestCharts', [key], {});\n",
              "      } catch (error) {\n",
              "        console.error('Error during call to suggestCharts:', error);\n",
              "      }\n",
              "      quickchartButtonEl.classList.remove('colab-df-spinner');\n",
              "      quickchartButtonEl.classList.add('colab-df-quickchart-complete');\n",
              "    }\n",
              "    (() => {\n",
              "      let quickchartButtonEl =\n",
              "        document.querySelector('#df-ab04a034-6f40-4e5a-8962-0a71f5c1f86d button');\n",
              "      quickchartButtonEl.style.display =\n",
              "        google.colab.kernel.accessAllowed ? 'block' : 'none';\n",
              "    })();\n",
              "  </script>\n",
              "</div>\n",
              "\n",
              "    </div>\n",
              "  </div>\n"
            ],
            "application/vnd.google.colaboratory.intrinsic+json": {
              "type": "dataframe",
              "variable_name": "dataf",
              "summary": "{\n  \"name\": \"dataf\",\n  \"rows\": 2116,\n  \"fields\": [\n    {\n      \"column\": \"c_housing\",\n      \"properties\": {\n        \"dtype\": \"number\",\n        \"std\": 0,\n        \"min\": 0,\n        \"max\": 1,\n        \"num_unique_values\": 2,\n        \"samples\": [\n          1,\n          0\n        ],\n        \"semantic_type\": \"\",\n        \"description\": \"\"\n      }\n    },\n    {\n      \"column\": \"c_loan\",\n      \"properties\": {\n        \"dtype\": \"number\",\n        \"std\": 0,\n        \"min\": 0,\n        \"max\": 1,\n        \"num_unique_values\": 2,\n        \"samples\": [\n          1,\n          0\n        ],\n        \"semantic_type\": \"\",\n        \"description\": \"\"\n      }\n    },\n    {\n      \"column\": \"duration\",\n      \"properties\": {\n        \"dtype\": \"number\",\n        \"std\": 346,\n        \"min\": 5,\n        \"max\": 3881,\n        \"num_unique_values\": 837,\n        \"samples\": [\n          228,\n          637\n        ],\n        \"semantic_type\": \"\",\n        \"description\": \"\"\n      }\n    },\n    {\n      \"column\": \"Target\",\n      \"properties\": {\n        \"dtype\": \"number\",\n        \"std\": 0,\n        \"min\": 0,\n        \"max\": 1,\n        \"num_unique_values\": 2,\n        \"samples\": [\n          0,\n          1\n        ],\n        \"semantic_type\": \"\",\n        \"description\": \"\"\n      }\n    },\n    {\n      \"column\": \"Target_Pred\",\n      \"properties\": {\n        \"dtype\": \"number\",\n        \"std\": 0,\n        \"min\": 0,\n        \"max\": 1,\n        \"num_unique_values\": 2,\n        \"samples\": [\n          0,\n          1\n        ],\n        \"semantic_type\": \"\",\n        \"description\": \"\"\n      }\n    },\n    {\n      \"column\": \"Target_Pred_Prob_0\",\n      \"properties\": {\n        \"dtype\": \"number\",\n        \"std\": 0.3051850771197167,\n        \"min\": 0.064261096849006,\n        \"max\": 0.9911303248577598,\n        \"num_unique_values\": 908,\n        \"samples\": [\n          0.19943400616798704,\n          0.5933411434265564\n        ],\n        \"semantic_type\": \"\",\n        \"description\": \"\"\n      }\n    },\n    {\n      \"column\": \"Target_Pred_Prob_1\",\n      \"properties\": {\n        \"dtype\": \"number\",\n        \"std\": 0.3051850771197167,\n        \"min\": 0.008869675142239616,\n        \"max\": 0.9357389031509946,\n        \"num_unique_values\": 908,\n        \"samples\": [\n          0.8005659938320134,\n          0.4066588565734433\n        ],\n        \"semantic_type\": \"\",\n        \"description\": \"\"\n      }\n    }\n  ]\n}"
            }
          },
          "metadata": {},
          "execution_count": 95
        }
      ],
      "source": [
        "dataf.head(10)"
      ]
    },
    {
      "cell_type": "code",
      "execution_count": 96,
      "metadata": {
        "colab": {
          "base_uri": "https://localhost:8080/"
        },
        "id": "fKAmDAAWDn12",
        "outputId": "3f46f008-2384-41ac-fd69-a27a7cafedee"
      },
      "outputs": [
        {
          "output_type": "execute_result",
          "data": {
            "text/plain": [
              "0.2    0.179967\n",
              "0.4    0.350059\n",
              "0.6    0.699045\n",
              "0.8    0.801506\n",
              "Name: Target_Pred_Prob_1, dtype: float64"
            ]
          },
          "metadata": {},
          "execution_count": 96
        }
      ],
      "source": [
        "quantiles = dataf['Target_Pred_Prob_1'].quantile(q=[0.20,0.40,0.60,0.80])\n",
        "quantiles"
      ]
    },
    {
      "cell_type": "code",
      "execution_count": 97,
      "metadata": {
        "id": "qC2cUvapDn12"
      },
      "outputs": [],
      "source": [
        "dataf.to_csv('dataf.csv', index = False)"
      ]
    },
    {
      "cell_type": "markdown",
      "metadata": {
        "id": "9mcBjKdEDn12"
      },
      "source": [
        "### Tarea"
      ]
    },
    {
      "cell_type": "markdown",
      "metadata": {
        "id": "i6CAe7V4Dn12"
      },
      "source": [
        "1. Para la base de datos dataf, crear una variable \"score1\", con las categorías: Muy alto, alto, medio, bajo y muy bajo.\n",
        "Usar: Target_Pred_Prob_1"
      ]
    },
    {
      "cell_type": "markdown",
      "metadata": {
        "id": "4obOcEjXDn13"
      },
      "source": [
        "2. Para la base de datos dataf, crear una variable \"score2\", con las categorías: Muy alto, alto, medio, bajo y muy bajo.\n",
        "Usar: La tabla de deciles vs Target"
      ]
    },
    {
      "cell_type": "markdown",
      "metadata": {
        "id": "_htO_9AoDn13"
      },
      "source": [
        "3. Proponer estrategias focalizadas para cada segmento."
      ]
    },
    {
      "cell_type": "markdown",
      "metadata": {
        "id": "hXzrDnqqDn13"
      },
      "source": [
        "4. Revisar los siguientes enlaces:\n",
        "\n",
        "    **RandomForestClassifier**\n",
        "\n",
        "    https://scikit-learn.org/stable/modules/generated/sklearn.ensemble.RandomForestClassifier.html\n",
        "\n",
        "    **Random Forest con Python**\n",
        "\n",
        "    https://www.cienciadedatos.net/documentos/py08_random_forest_python.html"
      ]
    },
    {
      "cell_type": "markdown",
      "metadata": {
        "id": "mbE8sMmWDn13"
      },
      "source": [
        "5. Tunear el modelo con otros valores."
      ]
    }
  ],
  "metadata": {
    "kernelspec": {
      "display_name": "Python 3 (ipykernel)",
      "language": "python",
      "name": "python3"
    },
    "language_info": {
      "codemirror_mode": {
        "name": "ipython",
        "version": 3
      },
      "file_extension": ".py",
      "mimetype": "text/x-python",
      "name": "python",
      "nbconvert_exporter": "python",
      "pygments_lexer": "ipython3",
      "version": "3.10.14"
    },
    "colab": {
      "provenance": []
    }
  },
  "nbformat": 4,
  "nbformat_minor": 0
}