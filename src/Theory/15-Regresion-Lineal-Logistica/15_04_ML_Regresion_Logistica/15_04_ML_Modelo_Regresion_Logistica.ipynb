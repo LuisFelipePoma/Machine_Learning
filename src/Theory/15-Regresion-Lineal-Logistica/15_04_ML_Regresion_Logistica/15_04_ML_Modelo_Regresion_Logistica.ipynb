{
  "nbformat": 4,
  "nbformat_minor": 0,
  "metadata": {
    "colab": {
      "provenance": []
    },
    "kernelspec": {
      "name": "python3",
      "display_name": "Python 3"
    },
    "language_info": {
      "name": "python"
    }
  },
  "cells": [
    {
      "cell_type": "markdown",
      "source": [
        "### **CC57 - MACHINE LEARNING - MODELO REGRESION LOGISTICA**"
      ],
      "metadata": {
        "id": "pJm5lbJqdrzT"
      }
    },
    {
      "cell_type": "markdown",
      "source": [
        "En este ejemplo, la **función logit** se utiliza internamente en el modelo de regresión logística implementado en scikit-learn.\n",
        "\n",
        "La **función logit** es una parte crucial de la regresión logística, ya que transforma las probabilidades en una escala que es linealmente relacionada con las variables independientes, lo que facilita la estimación de los coeficientes y la realización de predicciones."
      ],
      "metadata": {
        "id": "Hb5Mj-M0gg_M"
      }
    },
    {
      "cell_type": "code",
      "source": [
        "# Importar las bibliotecas necesarias\n",
        "import numpy as np\n",
        "import pandas as pd\n",
        "from sklearn.model_selection import train_test_split\n",
        "from sklearn.linear_model import LogisticRegression\n",
        "from sklearn.metrics import accuracy_score, confusion_matrix, classification_report\n",
        "\n",
        "#Visuaizaciones\n",
        "import matplotlib.pyplot as plt\n",
        "import seaborn as sns"
      ],
      "metadata": {
        "id": "UGocfNmreSuc"
      },
      "execution_count": 15,
      "outputs": []
    },
    {
      "cell_type": "code",
      "execution_count": 2,
      "metadata": {
        "id": "L8i8oggXbclo"
      },
      "outputs": [],
      "source": [
        "# Crear un DataFrame con datos simulados\n",
        "data = pd.DataFrame({\n",
        "    'Feature_1': np.random.randn(100),    # Característica 1, valores aleatorios de una distribución normal estándar\n",
        "    'Feature_2': np.random.randn(100),    # Característica 2, valores aleatorios de una distribución normal estándar\n",
        "    'Target': np.random.randint(2, size=100)   # Variable de respuesta binaria (0 o 1)\n",
        "})\n",
        "\n",
        "# Guardar el DataFrame como un archivo CSV\n",
        "data.to_csv('datos.csv', index=False)"
      ]
    },
    {
      "cell_type": "markdown",
      "source": [
        "#### **Paso 1:** Cargar y preparar los datos"
      ],
      "metadata": {
        "id": "-W74uDLUe3vN"
      }
    },
    {
      "cell_type": "code",
      "source": [
        "# Paso 1: Cargar y preparar los datos\n",
        "# Supongamos que tenemos un conjunto de datos en formato CSV donde la última columna es la variable de respuesta (0 o 1)\n",
        "data = pd.read_csv(\"datos.csv\")\n",
        "\n",
        "data.head()"
      ],
      "metadata": {
        "colab": {
          "base_uri": "https://localhost:8080/",
          "height": 206
        },
        "id": "ysTIwTRkeKBD",
        "outputId": "cca108d9-579a-4fa2-f896-fcc25ea2e01e"
      },
      "execution_count": 5,
      "outputs": [
        {
          "output_type": "execute_result",
          "data": {
            "text/plain": [
              "   Feature_1  Feature_2  Target\n",
              "0   1.336950   0.231669       1\n",
              "1   0.170195  -0.793777       1\n",
              "2  -0.531839  -0.117884       1\n",
              "3   0.641133   0.189741       0\n",
              "4   0.278698  -0.224258       1"
            ],
            "text/html": [
              "\n",
              "  <div id=\"df-81501a8a-3830-41c5-8d35-75720a2c4bc9\" class=\"colab-df-container\">\n",
              "    <div>\n",
              "<style scoped>\n",
              "    .dataframe tbody tr th:only-of-type {\n",
              "        vertical-align: middle;\n",
              "    }\n",
              "\n",
              "    .dataframe tbody tr th {\n",
              "        vertical-align: top;\n",
              "    }\n",
              "\n",
              "    .dataframe thead th {\n",
              "        text-align: right;\n",
              "    }\n",
              "</style>\n",
              "<table border=\"1\" class=\"dataframe\">\n",
              "  <thead>\n",
              "    <tr style=\"text-align: right;\">\n",
              "      <th></th>\n",
              "      <th>Feature_1</th>\n",
              "      <th>Feature_2</th>\n",
              "      <th>Target</th>\n",
              "    </tr>\n",
              "  </thead>\n",
              "  <tbody>\n",
              "    <tr>\n",
              "      <th>0</th>\n",
              "      <td>1.336950</td>\n",
              "      <td>0.231669</td>\n",
              "      <td>1</td>\n",
              "    </tr>\n",
              "    <tr>\n",
              "      <th>1</th>\n",
              "      <td>0.170195</td>\n",
              "      <td>-0.793777</td>\n",
              "      <td>1</td>\n",
              "    </tr>\n",
              "    <tr>\n",
              "      <th>2</th>\n",
              "      <td>-0.531839</td>\n",
              "      <td>-0.117884</td>\n",
              "      <td>1</td>\n",
              "    </tr>\n",
              "    <tr>\n",
              "      <th>3</th>\n",
              "      <td>0.641133</td>\n",
              "      <td>0.189741</td>\n",
              "      <td>0</td>\n",
              "    </tr>\n",
              "    <tr>\n",
              "      <th>4</th>\n",
              "      <td>0.278698</td>\n",
              "      <td>-0.224258</td>\n",
              "      <td>1</td>\n",
              "    </tr>\n",
              "  </tbody>\n",
              "</table>\n",
              "</div>\n",
              "    <div class=\"colab-df-buttons\">\n",
              "\n",
              "  <div class=\"colab-df-container\">\n",
              "    <button class=\"colab-df-convert\" onclick=\"convertToInteractive('df-81501a8a-3830-41c5-8d35-75720a2c4bc9')\"\n",
              "            title=\"Convert this dataframe to an interactive table.\"\n",
              "            style=\"display:none;\">\n",
              "\n",
              "  <svg xmlns=\"http://www.w3.org/2000/svg\" height=\"24px\" viewBox=\"0 -960 960 960\">\n",
              "    <path d=\"M120-120v-720h720v720H120Zm60-500h600v-160H180v160Zm220 220h160v-160H400v160Zm0 220h160v-160H400v160ZM180-400h160v-160H180v160Zm440 0h160v-160H620v160ZM180-180h160v-160H180v160Zm440 0h160v-160H620v160Z\"/>\n",
              "  </svg>\n",
              "    </button>\n",
              "\n",
              "  <style>\n",
              "    .colab-df-container {\n",
              "      display:flex;\n",
              "      gap: 12px;\n",
              "    }\n",
              "\n",
              "    .colab-df-convert {\n",
              "      background-color: #E8F0FE;\n",
              "      border: none;\n",
              "      border-radius: 50%;\n",
              "      cursor: pointer;\n",
              "      display: none;\n",
              "      fill: #1967D2;\n",
              "      height: 32px;\n",
              "      padding: 0 0 0 0;\n",
              "      width: 32px;\n",
              "    }\n",
              "\n",
              "    .colab-df-convert:hover {\n",
              "      background-color: #E2EBFA;\n",
              "      box-shadow: 0px 1px 2px rgba(60, 64, 67, 0.3), 0px 1px 3px 1px rgba(60, 64, 67, 0.15);\n",
              "      fill: #174EA6;\n",
              "    }\n",
              "\n",
              "    .colab-df-buttons div {\n",
              "      margin-bottom: 4px;\n",
              "    }\n",
              "\n",
              "    [theme=dark] .colab-df-convert {\n",
              "      background-color: #3B4455;\n",
              "      fill: #D2E3FC;\n",
              "    }\n",
              "\n",
              "    [theme=dark] .colab-df-convert:hover {\n",
              "      background-color: #434B5C;\n",
              "      box-shadow: 0px 1px 3px 1px rgba(0, 0, 0, 0.15);\n",
              "      filter: drop-shadow(0px 1px 2px rgba(0, 0, 0, 0.3));\n",
              "      fill: #FFFFFF;\n",
              "    }\n",
              "  </style>\n",
              "\n",
              "    <script>\n",
              "      const buttonEl =\n",
              "        document.querySelector('#df-81501a8a-3830-41c5-8d35-75720a2c4bc9 button.colab-df-convert');\n",
              "      buttonEl.style.display =\n",
              "        google.colab.kernel.accessAllowed ? 'block' : 'none';\n",
              "\n",
              "      async function convertToInteractive(key) {\n",
              "        const element = document.querySelector('#df-81501a8a-3830-41c5-8d35-75720a2c4bc9');\n",
              "        const dataTable =\n",
              "          await google.colab.kernel.invokeFunction('convertToInteractive',\n",
              "                                                    [key], {});\n",
              "        if (!dataTable) return;\n",
              "\n",
              "        const docLinkHtml = 'Like what you see? Visit the ' +\n",
              "          '<a target=\"_blank\" href=https://colab.research.google.com/notebooks/data_table.ipynb>data table notebook</a>'\n",
              "          + ' to learn more about interactive tables.';\n",
              "        element.innerHTML = '';\n",
              "        dataTable['output_type'] = 'display_data';\n",
              "        await google.colab.output.renderOutput(dataTable, element);\n",
              "        const docLink = document.createElement('div');\n",
              "        docLink.innerHTML = docLinkHtml;\n",
              "        element.appendChild(docLink);\n",
              "      }\n",
              "    </script>\n",
              "  </div>\n",
              "\n",
              "\n",
              "<div id=\"df-945a4954-459c-409e-bb0a-68952e46c624\">\n",
              "  <button class=\"colab-df-quickchart\" onclick=\"quickchart('df-945a4954-459c-409e-bb0a-68952e46c624')\"\n",
              "            title=\"Suggest charts\"\n",
              "            style=\"display:none;\">\n",
              "\n",
              "<svg xmlns=\"http://www.w3.org/2000/svg\" height=\"24px\"viewBox=\"0 0 24 24\"\n",
              "     width=\"24px\">\n",
              "    <g>\n",
              "        <path d=\"M19 3H5c-1.1 0-2 .9-2 2v14c0 1.1.9 2 2 2h14c1.1 0 2-.9 2-2V5c0-1.1-.9-2-2-2zM9 17H7v-7h2v7zm4 0h-2V7h2v10zm4 0h-2v-4h2v4z\"/>\n",
              "    </g>\n",
              "</svg>\n",
              "  </button>\n",
              "\n",
              "<style>\n",
              "  .colab-df-quickchart {\n",
              "      --bg-color: #E8F0FE;\n",
              "      --fill-color: #1967D2;\n",
              "      --hover-bg-color: #E2EBFA;\n",
              "      --hover-fill-color: #174EA6;\n",
              "      --disabled-fill-color: #AAA;\n",
              "      --disabled-bg-color: #DDD;\n",
              "  }\n",
              "\n",
              "  [theme=dark] .colab-df-quickchart {\n",
              "      --bg-color: #3B4455;\n",
              "      --fill-color: #D2E3FC;\n",
              "      --hover-bg-color: #434B5C;\n",
              "      --hover-fill-color: #FFFFFF;\n",
              "      --disabled-bg-color: #3B4455;\n",
              "      --disabled-fill-color: #666;\n",
              "  }\n",
              "\n",
              "  .colab-df-quickchart {\n",
              "    background-color: var(--bg-color);\n",
              "    border: none;\n",
              "    border-radius: 50%;\n",
              "    cursor: pointer;\n",
              "    display: none;\n",
              "    fill: var(--fill-color);\n",
              "    height: 32px;\n",
              "    padding: 0;\n",
              "    width: 32px;\n",
              "  }\n",
              "\n",
              "  .colab-df-quickchart:hover {\n",
              "    background-color: var(--hover-bg-color);\n",
              "    box-shadow: 0 1px 2px rgba(60, 64, 67, 0.3), 0 1px 3px 1px rgba(60, 64, 67, 0.15);\n",
              "    fill: var(--button-hover-fill-color);\n",
              "  }\n",
              "\n",
              "  .colab-df-quickchart-complete:disabled,\n",
              "  .colab-df-quickchart-complete:disabled:hover {\n",
              "    background-color: var(--disabled-bg-color);\n",
              "    fill: var(--disabled-fill-color);\n",
              "    box-shadow: none;\n",
              "  }\n",
              "\n",
              "  .colab-df-spinner {\n",
              "    border: 2px solid var(--fill-color);\n",
              "    border-color: transparent;\n",
              "    border-bottom-color: var(--fill-color);\n",
              "    animation:\n",
              "      spin 1s steps(1) infinite;\n",
              "  }\n",
              "\n",
              "  @keyframes spin {\n",
              "    0% {\n",
              "      border-color: transparent;\n",
              "      border-bottom-color: var(--fill-color);\n",
              "      border-left-color: var(--fill-color);\n",
              "    }\n",
              "    20% {\n",
              "      border-color: transparent;\n",
              "      border-left-color: var(--fill-color);\n",
              "      border-top-color: var(--fill-color);\n",
              "    }\n",
              "    30% {\n",
              "      border-color: transparent;\n",
              "      border-left-color: var(--fill-color);\n",
              "      border-top-color: var(--fill-color);\n",
              "      border-right-color: var(--fill-color);\n",
              "    }\n",
              "    40% {\n",
              "      border-color: transparent;\n",
              "      border-right-color: var(--fill-color);\n",
              "      border-top-color: var(--fill-color);\n",
              "    }\n",
              "    60% {\n",
              "      border-color: transparent;\n",
              "      border-right-color: var(--fill-color);\n",
              "    }\n",
              "    80% {\n",
              "      border-color: transparent;\n",
              "      border-right-color: var(--fill-color);\n",
              "      border-bottom-color: var(--fill-color);\n",
              "    }\n",
              "    90% {\n",
              "      border-color: transparent;\n",
              "      border-bottom-color: var(--fill-color);\n",
              "    }\n",
              "  }\n",
              "</style>\n",
              "\n",
              "  <script>\n",
              "    async function quickchart(key) {\n",
              "      const quickchartButtonEl =\n",
              "        document.querySelector('#' + key + ' button');\n",
              "      quickchartButtonEl.disabled = true;  // To prevent multiple clicks.\n",
              "      quickchartButtonEl.classList.add('colab-df-spinner');\n",
              "      try {\n",
              "        const charts = await google.colab.kernel.invokeFunction(\n",
              "            'suggestCharts', [key], {});\n",
              "      } catch (error) {\n",
              "        console.error('Error during call to suggestCharts:', error);\n",
              "      }\n",
              "      quickchartButtonEl.classList.remove('colab-df-spinner');\n",
              "      quickchartButtonEl.classList.add('colab-df-quickchart-complete');\n",
              "    }\n",
              "    (() => {\n",
              "      let quickchartButtonEl =\n",
              "        document.querySelector('#df-945a4954-459c-409e-bb0a-68952e46c624 button');\n",
              "      quickchartButtonEl.style.display =\n",
              "        google.colab.kernel.accessAllowed ? 'block' : 'none';\n",
              "    })();\n",
              "  </script>\n",
              "</div>\n",
              "\n",
              "    </div>\n",
              "  </div>\n"
            ],
            "application/vnd.google.colaboratory.intrinsic+json": {
              "type": "dataframe",
              "variable_name": "data",
              "summary": "{\n  \"name\": \"data\",\n  \"rows\": 100,\n  \"fields\": [\n    {\n      \"column\": \"Feature_1\",\n      \"properties\": {\n        \"dtype\": \"number\",\n        \"std\": 0.9703157603197218,\n        \"min\": -2.781710032570339,\n        \"max\": 1.6456365724242394,\n        \"num_unique_values\": 100,\n        \"samples\": [\n          1.139913922511269,\n          0.237911026147695,\n          -2.1026543644965345\n        ],\n        \"semantic_type\": \"\",\n        \"description\": \"\"\n      }\n    },\n    {\n      \"column\": \"Feature_2\",\n      \"properties\": {\n        \"dtype\": \"number\",\n        \"std\": 0.9686866943992755,\n        \"min\": -2.196859572080555,\n        \"max\": 3.3477757362656133,\n        \"num_unique_values\": 100,\n        \"samples\": [\n          1.0343607400790653,\n          0.6781459471248958,\n          -1.3417581377215309\n        ],\n        \"semantic_type\": \"\",\n        \"description\": \"\"\n      }\n    },\n    {\n      \"column\": \"Target\",\n      \"properties\": {\n        \"dtype\": \"number\",\n        \"std\": 0,\n        \"min\": 0,\n        \"max\": 1,\n        \"num_unique_values\": 2,\n        \"samples\": [\n          0,\n          1\n        ],\n        \"semantic_type\": \"\",\n        \"description\": \"\"\n      }\n    }\n  ]\n}"
            }
          },
          "metadata": {},
          "execution_count": 5
        }
      ]
    },
    {
      "cell_type": "code",
      "source": [
        "# Dividir el conjunto de datos en características (X) y variable de respuesta (y)\n",
        "X = data.iloc[:, :-1]  # todas las columnas excepto la última\n",
        "y = data.iloc[:, -1]   # la última columna"
      ],
      "metadata": {
        "id": "Bu0TFXT4er1I"
      },
      "execution_count": 6,
      "outputs": []
    },
    {
      "cell_type": "markdown",
      "source": [
        "#### **Paso 2:** Dividir los datos en conjuntos de entrenamiento y prueba"
      ],
      "metadata": {
        "id": "gfBtOViqe-KL"
      }
    },
    {
      "cell_type": "code",
      "source": [
        "# Paso 2: Dividir los datos en conjuntos de entrenamiento y prueba\n",
        "X_train, X_test, y_train, y_test = train_test_split(X, y, test_size=0.2, random_state=42)"
      ],
      "metadata": {
        "id": "9ZwQub5sev6Y"
      },
      "execution_count": 7,
      "outputs": []
    },
    {
      "cell_type": "markdown",
      "source": [
        "#### **Paso 3:** Crear un objeto de modelo de regresión logística"
      ],
      "metadata": {
        "id": "Vx2CA_-2fFFD"
      }
    },
    {
      "cell_type": "code",
      "source": [
        "# Paso 3: Crear un objeto de modelo de regresión logística\n",
        "model = LogisticRegression()"
      ],
      "metadata": {
        "id": "X0_GCeYxfGiV"
      },
      "execution_count": 8,
      "outputs": []
    },
    {
      "cell_type": "markdown",
      "source": [
        "#### **Paso 4:** Entrenar el modelo con los datos de entrenamiento"
      ],
      "metadata": {
        "id": "srDs_XW7fOLF"
      }
    },
    {
      "cell_type": "markdown",
      "source": [
        "Durante el entrenamiento del modelo (model.fit(X_train, y_train)), se ajustan los parámetros del modelo para minimizar la función de pérdida, que está relacionada con la **función logit**."
      ],
      "metadata": {
        "id": "vAIp6Y5igMf8"
      }
    },
    {
      "cell_type": "code",
      "source": [
        "# Paso 4: Entrenar el modelo con los datos de entrenamiento\n",
        "model.fit(X_train, y_train)"
      ],
      "metadata": {
        "colab": {
          "base_uri": "https://localhost:8080/",
          "height": 74
        },
        "id": "vN2HpitjeCZR",
        "outputId": "5adc1697-a760-40c1-c1a2-d0bf527313f2"
      },
      "execution_count": 9,
      "outputs": [
        {
          "output_type": "execute_result",
          "data": {
            "text/plain": [
              "LogisticRegression()"
            ],
            "text/html": [
              "<style>#sk-container-id-1 {color: black;background-color: white;}#sk-container-id-1 pre{padding: 0;}#sk-container-id-1 div.sk-toggleable {background-color: white;}#sk-container-id-1 label.sk-toggleable__label {cursor: pointer;display: block;width: 100%;margin-bottom: 0;padding: 0.3em;box-sizing: border-box;text-align: center;}#sk-container-id-1 label.sk-toggleable__label-arrow:before {content: \"▸\";float: left;margin-right: 0.25em;color: #696969;}#sk-container-id-1 label.sk-toggleable__label-arrow:hover:before {color: black;}#sk-container-id-1 div.sk-estimator:hover label.sk-toggleable__label-arrow:before {color: black;}#sk-container-id-1 div.sk-toggleable__content {max-height: 0;max-width: 0;overflow: hidden;text-align: left;background-color: #f0f8ff;}#sk-container-id-1 div.sk-toggleable__content pre {margin: 0.2em;color: black;border-radius: 0.25em;background-color: #f0f8ff;}#sk-container-id-1 input.sk-toggleable__control:checked~div.sk-toggleable__content {max-height: 200px;max-width: 100%;overflow: auto;}#sk-container-id-1 input.sk-toggleable__control:checked~label.sk-toggleable__label-arrow:before {content: \"▾\";}#sk-container-id-1 div.sk-estimator input.sk-toggleable__control:checked~label.sk-toggleable__label {background-color: #d4ebff;}#sk-container-id-1 div.sk-label input.sk-toggleable__control:checked~label.sk-toggleable__label {background-color: #d4ebff;}#sk-container-id-1 input.sk-hidden--visually {border: 0;clip: rect(1px 1px 1px 1px);clip: rect(1px, 1px, 1px, 1px);height: 1px;margin: -1px;overflow: hidden;padding: 0;position: absolute;width: 1px;}#sk-container-id-1 div.sk-estimator {font-family: monospace;background-color: #f0f8ff;border: 1px dotted black;border-radius: 0.25em;box-sizing: border-box;margin-bottom: 0.5em;}#sk-container-id-1 div.sk-estimator:hover {background-color: #d4ebff;}#sk-container-id-1 div.sk-parallel-item::after {content: \"\";width: 100%;border-bottom: 1px solid gray;flex-grow: 1;}#sk-container-id-1 div.sk-label:hover label.sk-toggleable__label {background-color: #d4ebff;}#sk-container-id-1 div.sk-serial::before {content: \"\";position: absolute;border-left: 1px solid gray;box-sizing: border-box;top: 0;bottom: 0;left: 50%;z-index: 0;}#sk-container-id-1 div.sk-serial {display: flex;flex-direction: column;align-items: center;background-color: white;padding-right: 0.2em;padding-left: 0.2em;position: relative;}#sk-container-id-1 div.sk-item {position: relative;z-index: 1;}#sk-container-id-1 div.sk-parallel {display: flex;align-items: stretch;justify-content: center;background-color: white;position: relative;}#sk-container-id-1 div.sk-item::before, #sk-container-id-1 div.sk-parallel-item::before {content: \"\";position: absolute;border-left: 1px solid gray;box-sizing: border-box;top: 0;bottom: 0;left: 50%;z-index: -1;}#sk-container-id-1 div.sk-parallel-item {display: flex;flex-direction: column;z-index: 1;position: relative;background-color: white;}#sk-container-id-1 div.sk-parallel-item:first-child::after {align-self: flex-end;width: 50%;}#sk-container-id-1 div.sk-parallel-item:last-child::after {align-self: flex-start;width: 50%;}#sk-container-id-1 div.sk-parallel-item:only-child::after {width: 0;}#sk-container-id-1 div.sk-dashed-wrapped {border: 1px dashed gray;margin: 0 0.4em 0.5em 0.4em;box-sizing: border-box;padding-bottom: 0.4em;background-color: white;}#sk-container-id-1 div.sk-label label {font-family: monospace;font-weight: bold;display: inline-block;line-height: 1.2em;}#sk-container-id-1 div.sk-label-container {text-align: center;}#sk-container-id-1 div.sk-container {/* jupyter's `normalize.less` sets `[hidden] { display: none; }` but bootstrap.min.css set `[hidden] { display: none !important; }` so we also need the `!important` here to be able to override the default hidden behavior on the sphinx rendered scikit-learn.org. See: https://github.com/scikit-learn/scikit-learn/issues/21755 */display: inline-block !important;position: relative;}#sk-container-id-1 div.sk-text-repr-fallback {display: none;}</style><div id=\"sk-container-id-1\" class=\"sk-top-container\"><div class=\"sk-text-repr-fallback\"><pre>LogisticRegression()</pre><b>In a Jupyter environment, please rerun this cell to show the HTML representation or trust the notebook. <br />On GitHub, the HTML representation is unable to render, please try loading this page with nbviewer.org.</b></div><div class=\"sk-container\" hidden><div class=\"sk-item\"><div class=\"sk-estimator sk-toggleable\"><input class=\"sk-toggleable__control sk-hidden--visually\" id=\"sk-estimator-id-1\" type=\"checkbox\" checked><label for=\"sk-estimator-id-1\" class=\"sk-toggleable__label sk-toggleable__label-arrow\">LogisticRegression</label><div class=\"sk-toggleable__content\"><pre>LogisticRegression()</pre></div></div></div></div></div>"
            ]
          },
          "metadata": {},
          "execution_count": 9
        }
      ]
    },
    {
      "cell_type": "code",
      "source": [
        "#Visualizacion\n",
        "\n",
        "# Crear una malla de puntos para visualizar la frontera de decisión\n",
        "x_min, x_max = X['Feature_1'].min() - 1, X['Feature_1'].max() + 1\n",
        "y_min, y_max = X['Feature_2'].min() - 1, X['Feature_2'].max() + 1\n",
        "xx, yy = np.meshgrid(np.arange(x_min, x_max, 0.01), np.arange(y_min, y_max, 0.01))\n",
        "Z = model.predict(np.c_[xx.ravel(), yy.ravel()])\n",
        "Z = Z.reshape(xx.shape)\n",
        "\n",
        "# Graficar los datos y la frontera de decisión\n",
        "plt.figure(figsize=(10, 6))\n",
        "plt.contourf(xx, yy, Z, alpha=0.8, cmap=plt.cm.RdBu)\n",
        "sns.scatterplot(x='Feature_1', y='Feature_2', hue='Target', data=data, palette='deep', edgecolor='w')\n",
        "plt.xlabel('Feature 1')\n",
        "plt.ylabel('Feature 2')\n",
        "plt.title('Frontera de decisión de la Regresión Logística')\n",
        "plt.legend(loc='best')\n",
        "plt.show()"
      ],
      "metadata": {
        "colab": {
          "base_uri": "https://localhost:8080/",
          "height": 620
        },
        "id": "hlDytVdpkWeS",
        "outputId": "034a1f26-bd67-4891-b053-2586ef20606a"
      },
      "execution_count": 16,
      "outputs": [
        {
          "output_type": "stream",
          "name": "stderr",
          "text": [
            "/usr/local/lib/python3.10/dist-packages/sklearn/base.py:439: UserWarning: X does not have valid feature names, but LogisticRegression was fitted with feature names\n",
            "  warnings.warn(\n"
          ]
        },
        {
          "output_type": "display_data",
          "data": {
            "text/plain": [
              "<Figure size 1000x600 with 1 Axes>"
            ],
            "image/png": "[encoded data removed]"
          },
          "metadata": {}
        }
      ]
    },
    {
      "cell_type": "markdown",
      "source": [
        "#### **Paso 5**: Hacer predicciones utilizando el modelo entrenado"
      ],
      "metadata": {
        "id": "XREcEzFLfZiZ"
      }
    },
    {
      "cell_type": "markdown",
      "source": [
        "Cuando se hacen las predicciones (model.predict(X_test)), el modelo calcula la probabilidad de que cada observación pertenezca a la clase positiva utilizando la **función logit**. Luego, estas probabilidades se convierten en predicciones de clase binaria (0 o 1) utilizando un umbral predeterminado (0.5 por defecto en scikit-learn).\n",
        "\n",
        "La **función sigmoide** es la **función de activación** utilizada internamente en la regresión logística para transformar la salida del modelo lineal en probabilidades en el rango de 0 a 1.\n",
        "\n",
        "La función sigmoide se define como:"
      ],
      "metadata": {
        "id": "vs4BeCEVhU2T"
      }
    },
    {
      "cell_type": "markdown",
      "source": [
        "![image.png](data:image/png;base64,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)"
      ],
      "metadata": {
        "id": "EYMJN-7QluNo"
      }
    },
    {
      "cell_type": "markdown",
      "source": [
        "donde **z** es la combinación lineal de las características y los coeficientes del modelo. En el código, cuando se llama al método predict() del modelo de regresión logística, el modelo calcula **z** para cada observación y luego aplica la función sigmoide para obtener la probabilidad de que esa observación pertenezca a la clase positiva."
      ],
      "metadata": {
        "id": "pEz_QfaHlylo"
      }
    },
    {
      "cell_type": "code",
      "source": [
        "# Paso 5: Hacer predicciones utilizando el modelo entrenado\n",
        "y_pred = model.predict(X_test)"
      ],
      "metadata": {
        "id": "aXk350eAfX20"
      },
      "execution_count": 10,
      "outputs": []
    },
    {
      "cell_type": "markdown",
      "source": [
        "#### **Paso 6:** Evaluar el rendimiento del modelo"
      ],
      "metadata": {
        "id": "E3zo2By6fhuy"
      }
    },
    {
      "cell_type": "markdown",
      "source": [
        "Al evaluar el rendimiento del modelo, se utilizan métricas como la precisión, que comparan las predicciones del modelo con las etiquetas reales.\n",
        "\n",
        "La precisión del modelo se calcula utilizando la **función logit** para transformar las probabilidades en predicciones de clase.\n"
      ],
      "metadata": {
        "id": "TjUFRRNIh1ep"
      }
    },
    {
      "cell_type": "code",
      "source": [
        "# Calcular la precisión del modelo\n",
        "accuracy = accuracy_score(y_test, y_pred)\n",
        "print(\"Precisión del modelo:\", accuracy)"
      ],
      "metadata": {
        "colab": {
          "base_uri": "https://localhost:8080/"
        },
        "id": "UAY-YtPuff9P",
        "outputId": "74cb9aae-d7ce-40f9-ff4e-63e3624a330c"
      },
      "execution_count": 11,
      "outputs": [
        {
          "output_type": "stream",
          "name": "stdout",
          "text": [
            "Precisión del modelo: 0.45\n"
          ]
        }
      ]
    },
    {
      "cell_type": "code",
      "source": [
        "# Mostrar la matriz de confusión\n",
        "conf_matrix = confusion_matrix(y_test, y_pred)\n",
        "print(\"Matriz de confusión:\")\n",
        "print(conf_matrix)"
      ],
      "metadata": {
        "colab": {
          "base_uri": "https://localhost:8080/"
        },
        "id": "dbRxcP0mfsGf",
        "outputId": "c0cecdf2-0302-400d-c1ae-5338942fc899"
      },
      "execution_count": 12,
      "outputs": [
        {
          "output_type": "stream",
          "name": "stdout",
          "text": [
            "Matriz de confusión:\n",
            "[[ 1 10]\n",
            " [ 1  8]]\n"
          ]
        }
      ]
    },
    {
      "cell_type": "code",
      "source": [
        "# Mostrar un informe de clasificación\n",
        "class_report = classification_report(y_test, y_pred)\n",
        "print(\"Informe de clasificación:\")\n",
        "print(class_report)"
      ],
      "metadata": {
        "colab": {
          "base_uri": "https://localhost:8080/"
        },
        "id": "AZ7yEwLRfv2-",
        "outputId": "493f9e11-5acf-4a1d-85bb-ac1638f6bad6"
      },
      "execution_count": 13,
      "outputs": [
        {
          "output_type": "stream",
          "name": "stdout",
          "text": [
            "Informe de clasificación:\n",
            "              precision    recall  f1-score   support\n",
            "\n",
            "           0       0.50      0.09      0.15        11\n",
            "           1       0.44      0.89      0.59         9\n",
            "\n",
            "    accuracy                           0.45        20\n",
            "   macro avg       0.47      0.49      0.37        20\n",
            "weighted avg       0.47      0.45      0.35        20\n",
            "\n"
          ]
        }
      ]
    }
  ]
}